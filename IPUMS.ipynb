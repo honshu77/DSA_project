{
 "cells": [
  {
   "cell_type": "code",
   "execution_count": 121,
   "metadata": {},
   "outputs": [],
   "source": [
    "import pandas as pd\n",
    "import numpy as np\n",
    "import scikitplot as skplt\n",
    "import matplotlib.pyplot as plt\n",
    "\n",
    "from sklearn.impute import SimpleImputer\n",
    "from sklearn.model_selection import KFold, StratifiedKFold\n",
    "from sklearn.model_selection import train_test_split\n",
    "from sklearn.model_selection import GridSearchCV\n",
    "from sklearn import linear_model\n",
    "from sklearn.metrics import roc_auc_score\n",
    "from sklearn.metrics import log_loss\n",
    "\n",
    "#import matplotlib"
   ]
  },
  {
   "cell_type": "code",
   "execution_count": 2,
   "metadata": {},
   "outputs": [],
   "source": [
    "def logreg_auc(variables, target, basetable):\n",
    "    X = basetable[variables]\n",
    "    y = basetable[target].values.ravel()\n",
    "    logreg = linear_model.LogisticRegression(solver='lbfgs', max_iter = 200)\n",
    "    logreg.fit(X, y)\n",
    "    predictions = logreg.predict_proba(X)[:,1]\n",
    "    auc = roc_auc_score(y, predictions)\n",
    "    return(auc)\n",
    "\n",
    "def logreg_ll(variables, target, basetable):\n",
    "    X = basetable[variables]\n",
    "    y = basetable[target].values.ravel()\n",
    "    logreg = linear_model.LogisticRegression(solver='lbfgs', max_iter = 200)\n",
    "    logreg.fit(X, y)\n",
    "    predictions = logreg.predict_proba(X)[:,1]\n",
    "    ll = log_loss(y, predictions)\n",
    "    return(ll)\n",
    "\n",
    "def next_best(current_variables,candidate_variables, target, basetable):\n",
    "    best_auc = -1\n",
    "    best_ll = 100000\n",
    "    best_variable = None\n",
    "    for v in candidate_variables:\n",
    "        #auc_v = logreg_auc(current_variables + [v], target, basetable)\n",
    "        ll_v = logreg_ll(current_variables + [v], target, basetable)\n",
    "        #if auc_v >= best_auc:\n",
    "        #    best_auc = auc_v\n",
    "        if ll_v <= best_ll:\n",
    "            best_ll = ll_v\n",
    "            best_variable = v\n",
    "    print(best_ll)\n",
    "    return best_variable"
   ]
  },
  {
   "cell_type": "code",
   "execution_count": 3,
   "metadata": {},
   "outputs": [],
   "source": [
    "def create_pig_table(basetable, target, variable):\n",
    "  \n",
    "    # Create groups for each variable\n",
    "    groups = basetable[[target,variable]].groupby(variable)\n",
    "                                   \n",
    "    # Calculate size and target incidence for each group\n",
    "    #def my_agg(x):\n",
    "    #    names = {\n",
    "    #        'Incidence': x[target].mean(),\n",
    "    #        'Size':  x[target].count()}\n",
    "    #    return pd.Series(names, index=['Incidence', 'Size'])\n",
    "    \n",
    "    #groups.groupby(target).apply(my_agg)\n",
    "    pig_table = groups[target].agg({'Incidence' : np.mean, 'Size' : np.size}).reset_index()\n",
    "    \n",
    "    # Return the predictor insight graph table\n",
    "    return pig_table\n",
    "\n",
    "def plot_pig(pig_table,variable):\n",
    "    \n",
    "    # Plot formatting\n",
    "    plt.ylabel(\"Size\", rotation = 0,rotation_mode=\"anchor\", ha = \"right\" )\n",
    "    \n",
    "    # Plot the bars with sizes \n",
    "    pig_table[\"Size\"].plot(kind=\"bar\", width = 0.5, color = \"lightgray\", edgecolor = \"none\") \n",
    "    \n",
    "    # Plot the incidence line on secondary axis\n",
    "    pig_table[\"Incidence\"].plot(secondary_y = True)\n",
    "    \n",
    "    # Plot formatting\n",
    "    plt.xticks(np.arange(len(pig_table)), pig_table[variable])\n",
    "    plt.xlim([-0.5, len(pig_table)-0.5])\n",
    "    plt.ylabel(\"Incidence\", rotation = 0, rotation_mode=\"anchor\", ha = \"left\")\n",
    "    \n",
    "    # Show the graph\n",
    "    plt.show()\n",
    "    "
   ]
  },
  {
   "cell_type": "code",
   "execution_count": 4,
   "metadata": {},
   "outputs": [],
   "source": [
    "data = pd.read_csv(\"data/data_001.csv\")"
   ]
  },
  {
   "cell_type": "code",
   "execution_count": 5,
   "metadata": {},
   "outputs": [
    {
     "data": {
      "text/html": [
       "<div>\n",
       "<style scoped>\n",
       "    .dataframe tbody tr th:only-of-type {\n",
       "        vertical-align: middle;\n",
       "    }\n",
       "\n",
       "    .dataframe tbody tr th {\n",
       "        vertical-align: top;\n",
       "    }\n",
       "\n",
       "    .dataframe thead th {\n",
       "        text-align: right;\n",
       "    }\n",
       "</style>\n",
       "<table border=\"1\" class=\"dataframe\">\n",
       "  <thead>\n",
       "    <tr style=\"text-align: right;\">\n",
       "      <th></th>\n",
       "      <th>Unnamed: 0</th>\n",
       "      <th>YEAR</th>\n",
       "      <th>SERIAL</th>\n",
       "      <th>DUID</th>\n",
       "      <th>PID</th>\n",
       "      <th>MEPSID</th>\n",
       "      <th>PANEL</th>\n",
       "      <th>PSUANN</th>\n",
       "      <th>STRATANN</th>\n",
       "      <th>PSUPLD</th>\n",
       "      <th>...</th>\n",
       "      <th>HEARTCONEV</th>\n",
       "      <th>HYPERTENEV</th>\n",
       "      <th>STROKEAGE</th>\n",
       "      <th>STROKEV</th>\n",
       "      <th>HYPERTENAGE</th>\n",
       "      <th>CHEARTDIAGE</th>\n",
       "      <th>HEARTATTAGE</th>\n",
       "      <th>CHOLHIGHAGE</th>\n",
       "      <th>DIABETICAGE</th>\n",
       "      <th>HPTOTNIGHT</th>\n",
       "    </tr>\n",
       "  </thead>\n",
       "  <tbody>\n",
       "    <tr>\n",
       "      <th>0</th>\n",
       "      <td>1</td>\n",
       "      <td>2010</td>\n",
       "      <td>1</td>\n",
       "      <td>10007</td>\n",
       "      <td>101</td>\n",
       "      <td>1000710115</td>\n",
       "      <td>15</td>\n",
       "      <td>2</td>\n",
       "      <td>1024</td>\n",
       "      <td>2.0</td>\n",
       "      <td>...</td>\n",
       "      <td>1</td>\n",
       "      <td>2</td>\n",
       "      <td>0</td>\n",
       "      <td>1</td>\n",
       "      <td>24</td>\n",
       "      <td>96</td>\n",
       "      <td>96</td>\n",
       "      <td>27</td>\n",
       "      <td>96</td>\n",
       "      <td>0</td>\n",
       "    </tr>\n",
       "    <tr>\n",
       "      <th>1</th>\n",
       "      <td>2</td>\n",
       "      <td>2010</td>\n",
       "      <td>1</td>\n",
       "      <td>10007</td>\n",
       "      <td>102</td>\n",
       "      <td>1000710215</td>\n",
       "      <td>15</td>\n",
       "      <td>2</td>\n",
       "      <td>1024</td>\n",
       "      <td>2.0</td>\n",
       "      <td>...</td>\n",
       "      <td>1</td>\n",
       "      <td>1</td>\n",
       "      <td>0</td>\n",
       "      <td>1</td>\n",
       "      <td>96</td>\n",
       "      <td>96</td>\n",
       "      <td>96</td>\n",
       "      <td>96</td>\n",
       "      <td>96</td>\n",
       "      <td>0</td>\n",
       "    </tr>\n",
       "    <tr>\n",
       "      <th>2</th>\n",
       "      <td>3</td>\n",
       "      <td>2010</td>\n",
       "      <td>1</td>\n",
       "      <td>10007</td>\n",
       "      <td>103</td>\n",
       "      <td>1000710315</td>\n",
       "      <td>15</td>\n",
       "      <td>2</td>\n",
       "      <td>1024</td>\n",
       "      <td>2.0</td>\n",
       "      <td>...</td>\n",
       "      <td>0</td>\n",
       "      <td>0</td>\n",
       "      <td>0</td>\n",
       "      <td>0</td>\n",
       "      <td>96</td>\n",
       "      <td>96</td>\n",
       "      <td>96</td>\n",
       "      <td>96</td>\n",
       "      <td>96</td>\n",
       "      <td>0</td>\n",
       "    </tr>\n",
       "    <tr>\n",
       "      <th>3</th>\n",
       "      <td>4</td>\n",
       "      <td>2010</td>\n",
       "      <td>1</td>\n",
       "      <td>10007</td>\n",
       "      <td>104</td>\n",
       "      <td>1000710415</td>\n",
       "      <td>15</td>\n",
       "      <td>2</td>\n",
       "      <td>1024</td>\n",
       "      <td>2.0</td>\n",
       "      <td>...</td>\n",
       "      <td>0</td>\n",
       "      <td>0</td>\n",
       "      <td>0</td>\n",
       "      <td>0</td>\n",
       "      <td>96</td>\n",
       "      <td>96</td>\n",
       "      <td>96</td>\n",
       "      <td>96</td>\n",
       "      <td>96</td>\n",
       "      <td>0</td>\n",
       "    </tr>\n",
       "    <tr>\n",
       "      <th>4</th>\n",
       "      <td>5</td>\n",
       "      <td>2010</td>\n",
       "      <td>2</td>\n",
       "      <td>10008</td>\n",
       "      <td>101</td>\n",
       "      <td>1000810115</td>\n",
       "      <td>15</td>\n",
       "      <td>1</td>\n",
       "      <td>1021</td>\n",
       "      <td>1.0</td>\n",
       "      <td>...</td>\n",
       "      <td>1</td>\n",
       "      <td>1</td>\n",
       "      <td>0</td>\n",
       "      <td>1</td>\n",
       "      <td>96</td>\n",
       "      <td>96</td>\n",
       "      <td>96</td>\n",
       "      <td>96</td>\n",
       "      <td>96</td>\n",
       "      <td>0</td>\n",
       "    </tr>\n",
       "  </tbody>\n",
       "</table>\n",
       "<p>5 rows × 38 columns</p>\n",
       "</div>"
      ],
      "text/plain": [
       "   Unnamed: 0  YEAR  SERIAL   DUID  PID      MEPSID  PANEL  PSUANN  STRATANN  \\\n",
       "0           1  2010       1  10007  101  1000710115     15       2      1024   \n",
       "1           2  2010       1  10007  102  1000710215     15       2      1024   \n",
       "2           3  2010       1  10007  103  1000710315     15       2      1024   \n",
       "3           4  2010       1  10007  104  1000710415     15       2      1024   \n",
       "4           5  2010       2  10008  101  1000810115     15       1      1021   \n",
       "\n",
       "   PSUPLD     ...      HEARTCONEV  HYPERTENEV  STROKEAGE  STROKEV  \\\n",
       "0     2.0     ...               1           2          0        1   \n",
       "1     2.0     ...               1           1          0        1   \n",
       "2     2.0     ...               0           0          0        0   \n",
       "3     2.0     ...               0           0          0        0   \n",
       "4     1.0     ...               1           1          0        1   \n",
       "\n",
       "   HYPERTENAGE  CHEARTDIAGE  HEARTATTAGE  CHOLHIGHAGE  DIABETICAGE  HPTOTNIGHT  \n",
       "0           24           96           96           27           96           0  \n",
       "1           96           96           96           96           96           0  \n",
       "2           96           96           96           96           96           0  \n",
       "3           96           96           96           96           96           0  \n",
       "4           96           96           96           96           96           0  \n",
       "\n",
       "[5 rows x 38 columns]"
      ]
     },
     "execution_count": 5,
     "metadata": {},
     "output_type": "execute_result"
    }
   ],
   "source": [
    "data.head()"
   ]
  },
  {
   "cell_type": "code",
   "execution_count": 6,
   "metadata": {},
   "outputs": [
    {
     "data": {
      "text/plain": [
       "Unnamed: 0       int64\n",
       "YEAR             int64\n",
       "SERIAL           int64\n",
       "DUID             int64\n",
       "PID              int64\n",
       "MEPSID           int64\n",
       "PANEL            int64\n",
       "PSUANN           int64\n",
       "STRATANN         int64\n",
       "PSUPLD         float64\n",
       "STRATAPLD      float64\n",
       "PANELYR          int64\n",
       "RELYR            int64\n",
       "PERNUM           int64\n",
       "PERWEIGHT      float64\n",
       "SAQWEIGHT      float64\n",
       "DIABWEIGHT     float64\n",
       "AGE              int64\n",
       "SEX              int64\n",
       "MARSTAT          int64\n",
       "BIRTHYR          int64\n",
       "EDUC             int64\n",
       "EDUCYR         float64\n",
       "HIDEG          float64\n",
       "INCTOT         float64\n",
       "FTOTVAL        float64\n",
       "DIABETICEV       int64\n",
       "HEARTATTEV       int64\n",
       "HEARTCONEV       int64\n",
       "HYPERTENEV       int64\n",
       "STROKEAGE        int64\n",
       "STROKEV          int64\n",
       "HYPERTENAGE      int64\n",
       "CHEARTDIAGE      int64\n",
       "HEARTATTAGE      int64\n",
       "CHOLHIGHAGE      int64\n",
       "DIABETICAGE      int64\n",
       "HPTOTNIGHT       int64\n",
       "dtype: object"
      ]
     },
     "execution_count": 6,
     "metadata": {},
     "output_type": "execute_result"
    }
   ],
   "source": [
    "data.dtypes"
   ]
  },
  {
   "cell_type": "code",
   "execution_count": 7,
   "metadata": {},
   "outputs": [
    {
     "data": {
      "image/png": "[encoded data removed]",
      "text/plain": [
       "<Figure size 432x288 with 1 Axes>"
      ]
     },
     "metadata": {
      "needs_background": "light"
     },
     "output_type": "display_data"
    }
   ],
   "source": [
    "target_variable = \"HEARTATTEV\"\n",
    "candidate_variables = []\n",
    "data[target_variable].value_counts().sort_index().plot(\"bar\");"
   ]
  },
  {
   "cell_type": "code",
   "execution_count": 8,
   "metadata": {},
   "outputs": [
    {
     "data": {
      "text/plain": [
       "0"
      ]
     },
     "execution_count": 8,
     "metadata": {},
     "output_type": "execute_result"
    }
   ],
   "source": [
    "data[target_variable].isna().sum()"
   ]
  },
  {
   "cell_type": "code",
   "execution_count": 9,
   "metadata": {},
   "outputs": [],
   "source": [
    "#binary classification of target variable\n",
    "#remove all data rows with unknown target variable\n",
    "data.drop(data[-data[target_variable].isin([1, 2])].index, inplace = True)\n",
    "data.loc[data[target_variable] == 1,target_variable] = 0\n",
    "data.loc[data[target_variable] == 2,target_variable] = 1\n",
    "data = data.reset_index(drop = True)"
   ]
  },
  {
   "cell_type": "code",
   "execution_count": 10,
   "metadata": {},
   "outputs": [
    {
     "data": {
      "image/png": "[encoded data removed]",
      "text/plain": [
       "<Figure size 432x288 with 1 Axes>"
      ]
     },
     "metadata": {
      "needs_background": "light"
     },
     "output_type": "display_data"
    }
   ],
   "source": [
    "data['YEAR'].value_counts().sort_index().plot(kind='bar');"
   ]
  },
  {
   "cell_type": "code",
   "execution_count": 11,
   "metadata": {},
   "outputs": [
    {
     "data": {
      "text/plain": [
       "0"
      ]
     },
     "execution_count": 11,
     "metadata": {},
     "output_type": "execute_result"
    }
   ],
   "source": [
    "data[\"YEAR\"].isna().sum()"
   ]
  },
  {
   "cell_type": "code",
   "execution_count": 12,
   "metadata": {},
   "outputs": [],
   "source": [
    "candidate_variables.extend([\"YEAR\"])"
   ]
  },
  {
   "cell_type": "code",
   "execution_count": 13,
   "metadata": {},
   "outputs": [
    {
     "data": {
      "image/png": "[encoded data removed]",
      "text/plain": [
       "<Figure size 432x288 with 1 Axes>"
      ]
     },
     "metadata": {
      "needs_background": "light"
     },
     "output_type": "display_data"
    }
   ],
   "source": [
    "data['AGE'].value_counts().sort_index().plot(kind='line');"
   ]
  },
  {
   "cell_type": "code",
   "execution_count": 14,
   "metadata": {},
   "outputs": [],
   "source": [
    "#All ages above 85 are regrouped in 85\n",
    "#Unknowns are coded as 99\n",
    "data.loc[data['AGE'].isin([96, 97, 98, 99]),'AGE'] = np.nan\n",
    "\n",
    "#BIRTHYR is treated in the same way. Keep AGE\n",
    "candidate_variables.extend([\"AGE\"])"
   ]
  },
  {
   "cell_type": "code",
   "execution_count": 15,
   "metadata": {},
   "outputs": [
    {
     "data": {
      "text/plain": [
       "1395"
      ]
     },
     "execution_count": 15,
     "metadata": {},
     "output_type": "execute_result"
    }
   ],
   "source": [
    "data[\"AGE\"].isna().sum()"
   ]
  },
  {
   "cell_type": "code",
   "execution_count": 16,
   "metadata": {},
   "outputs": [
    {
     "data": {
      "text/plain": [
       "count    179785.000000\n",
       "mean       9416.623627\n",
       "std        8351.204369\n",
       "min           0.000000\n",
       "25%        3784.611328\n",
       "50%        6900.357910\n",
       "75%       12644.689453\n",
       "max      102133.750000\n",
       "Name: PERWEIGHT, dtype: float64"
      ]
     },
     "execution_count": 16,
     "metadata": {},
     "output_type": "execute_result"
    }
   ],
   "source": [
    "#PERWEIGHT technical variable to reweight samples \n",
    "data[\"PERWEIGHT\"].describe()"
   ]
  },
  {
   "cell_type": "code",
   "execution_count": 17,
   "metadata": {},
   "outputs": [
    {
     "data": {
      "text/plain": [
       "15100"
      ]
     },
     "execution_count": 17,
     "metadata": {},
     "output_type": "execute_result"
    }
   ],
   "source": [
    "sum(data['DIABWEIGHT'] != 0)"
   ]
  },
  {
   "cell_type": "code",
   "execution_count": 18,
   "metadata": {},
   "outputs": [
    {
     "data": {
      "text/plain": [
       "array([1, 2], dtype=int64)"
      ]
     },
     "execution_count": 18,
     "metadata": {},
     "output_type": "execute_result"
    }
   ],
   "source": [
    "data['SEX'].unique()"
   ]
  },
  {
   "cell_type": "code",
   "execution_count": 19,
   "metadata": {},
   "outputs": [
    {
     "data": {
      "image/png": "[encoded data removed]",
      "text/plain": [
       "<Figure size 432x288 with 1 Axes>"
      ]
     },
     "metadata": {
      "needs_background": "light"
     },
     "output_type": "display_data"
    }
   ],
   "source": [
    "pd.crosstab(data.SEX,data[target_variable]).plot(kind='bar')\n",
    "plt.title('Bar Chart of Sex vs Target')\n",
    "plt.xlabel('Sex')\n",
    "plt.ylabel('Proportion of Customers')\n",
    "plt.savefig('sex_vs_tgt')"
   ]
  },
  {
   "cell_type": "code",
   "execution_count": 20,
   "metadata": {},
   "outputs": [
    {
     "data": {
      "text/plain": [
       "0"
      ]
     },
     "execution_count": 20,
     "metadata": {},
     "output_type": "execute_result"
    }
   ],
   "source": [
    "data[\"SEX\"].isna().sum()"
   ]
  },
  {
   "cell_type": "code",
   "execution_count": 21,
   "metadata": {},
   "outputs": [],
   "source": [
    "candidate_variables.extend([\"SEX\"])"
   ]
  },
  {
   "cell_type": "code",
   "execution_count": 22,
   "metadata": {},
   "outputs": [
    {
     "data": {
      "text/plain": [
       "dtype('int64')"
      ]
     },
     "execution_count": 22,
     "metadata": {},
     "output_type": "execute_result"
    }
   ],
   "source": [
    "data['MARSTAT'].dtype"
   ]
  },
  {
   "cell_type": "code",
   "execution_count": 23,
   "metadata": {},
   "outputs": [
    {
     "data": {
      "image/png": "[encoded data removed]",
      "text/plain": [
       "<Figure size 432x288 with 1 Axes>"
      ]
     },
     "metadata": {
      "needs_background": "light"
     },
     "output_type": "display_data"
    }
   ],
   "source": [
    "data['MARSTAT'] = data['MARSTAT'].astype('object')\n",
    "data['MARSTAT'].value_counts().sort_index().plot(\"bar\");"
   ]
  },
  {
   "cell_type": "code",
   "execution_count": 24,
   "metadata": {},
   "outputs": [
    {
     "data": {
      "image/png": "[encoded data removed]",
      "text/plain": [
       "<Figure size 432x288 with 1 Axes>"
      ]
     },
     "metadata": {
      "needs_background": "light"
     },
     "output_type": "display_data"
    }
   ],
   "source": [
    "table=pd.crosstab(data.MARSTAT,data[target_variable])\n",
    "table.div(table.sum(1).astype(float), axis=0).plot(kind='bar', stacked=True)\n",
    "plt.title('Bar Chart of Marital Status vs Target')\n",
    "plt.xlabel('Marital Status')\n",
    "plt.ylabel('Proportion of Target')\n",
    "plt.savefig('marital_vs_tgt')"
   ]
  },
  {
   "cell_type": "code",
   "execution_count": 25,
   "metadata": {},
   "outputs": [
    {
     "data": {
      "text/plain": [
       "0"
      ]
     },
     "execution_count": 25,
     "metadata": {},
     "output_type": "execute_result"
    }
   ],
   "source": [
    "data[\"MARSTAT\"].isna().sum()"
   ]
  },
  {
   "cell_type": "code",
   "execution_count": 26,
   "metadata": {},
   "outputs": [],
   "source": [
    "candidate_variables.extend([\"MARSTAT\"])"
   ]
  },
  {
   "cell_type": "code",
   "execution_count": 27,
   "metadata": {},
   "outputs": [
    {
     "data": {
      "text/plain": [
       "array([604, 401, 603, 601, 999, 301, 201, 302, 203, 500, 202, 204, 103,\n",
       "       109, 996, 108, 106, 101, 105, 107, 104, 102, 998, 997,   0, 402,\n",
       "       403, 602, 200, 100, 600, 300], dtype=int64)"
      ]
     },
     "execution_count": 27,
     "metadata": {},
     "output_type": "execute_result"
    }
   ],
   "source": [
    "data['EDUC'].unique()"
   ]
  },
  {
   "cell_type": "code",
   "execution_count": 28,
   "metadata": {},
   "outputs": [
    {
     "data": {
      "image/png": "[encoded data removed]",
      "text/plain": [
       "<Figure size 432x288 with 1 Axes>"
      ]
     },
     "metadata": {
      "needs_background": "light"
     },
     "output_type": "display_data"
    }
   ],
   "source": [
    "data['EDUCYR'].value_counts().sort_index().plot(\"bar\");\n",
    "#review if correlation high enough to just use one of two"
   ]
  },
  {
   "cell_type": "code",
   "execution_count": 29,
   "metadata": {},
   "outputs": [
    {
     "data": {
      "text/plain": [
       "26499"
      ]
     },
     "execution_count": 29,
     "metadata": {},
     "output_type": "execute_result"
    }
   ],
   "source": [
    "data[\"EDUCYR\"].isna().sum()"
   ]
  },
  {
   "cell_type": "code",
   "execution_count": 30,
   "metadata": {},
   "outputs": [],
   "source": [
    "# regroup different types of unknown. Treat variable as numeric therefore keep as missing\n",
    "# integer variable canont handle empty, keep as float\n",
    "data.loc[data['EDUCYR'].isin([96, 97, 98, 99]),'EDUCYR'] = np.nan"
   ]
  },
  {
   "cell_type": "code",
   "execution_count": 31,
   "metadata": {},
   "outputs": [
    {
     "data": {
      "text/plain": [
       "79035"
      ]
     },
     "execution_count": 31,
     "metadata": {},
     "output_type": "execute_result"
    }
   ],
   "source": [
    "data[\"EDUCYR\"].isna().sum()"
   ]
  },
  {
   "cell_type": "code",
   "execution_count": 32,
   "metadata": {},
   "outputs": [
    {
     "data": {
      "image/png": "[encoded data removed]",
      "text/plain": [
       "<Figure size 432x288 with 1 Axes>"
      ]
     },
     "metadata": {
      "needs_background": "light"
     },
     "output_type": "display_data"
    }
   ],
   "source": [
    "table=pd.crosstab(data.EDUCYR,data[target_variable])\n",
    "table.div(table.sum(1).astype(float), axis=0).plot(kind='bar', stacked=True)\n",
    "plt.title('Bar Chart of Number of education years vs Target')\n",
    "plt.xlabel('Education Years')\n",
    "plt.ylabel('Proportion of Target')\n",
    "plt.savefig('educyr_vs_tgt')"
   ]
  },
  {
   "cell_type": "code",
   "execution_count": 33,
   "metadata": {},
   "outputs": [],
   "source": [
    "candidate_variables.extend([\"EDUCYR\"])"
   ]
  },
  {
   "cell_type": "code",
   "execution_count": 34,
   "metadata": {},
   "outputs": [
    {
     "data": {
      "image/png": "[encoded data removed]",
      "text/plain": [
       "<Figure size 432x288 with 1 Axes>"
      ]
     },
     "metadata": {
      "needs_background": "light"
     },
     "output_type": "display_data"
    }
   ],
   "source": [
    "data['HIDEG'].value_counts().sort_index().plot(\"bar\");"
   ]
  },
  {
   "cell_type": "code",
   "execution_count": 35,
   "metadata": {},
   "outputs": [
    {
     "data": {
      "text/plain": [
       "51560"
      ]
     },
     "execution_count": 35,
     "metadata": {},
     "output_type": "execute_result"
    }
   ],
   "source": [
    "data[\"HIDEG\"].isna().sum()"
   ]
  },
  {
   "cell_type": "code",
   "execution_count": 36,
   "metadata": {},
   "outputs": [],
   "source": [
    "# regroup different types of unknown. Treat as categorical variable, therefore replace with 99\n",
    "data.loc[data['HIDEG'].isna(), 'HIDEG'] = 99\n",
    "data['HIDEG'] = data['HIDEG'].astype(int)\n",
    "data.loc[data['HIDEG'].isin([96, 97, 98, 99]),'HIDEG'] = 99\n",
    "data['HIDEG'] = data['HIDEG'].astype('object')"
   ]
  },
  {
   "cell_type": "code",
   "execution_count": 37,
   "metadata": {},
   "outputs": [
    {
     "data": {
      "image/png": "[encoded data removed]",
      "text/plain": [
       "<Figure size 432x288 with 1 Axes>"
      ]
     },
     "metadata": {
      "needs_background": "light"
     },
     "output_type": "display_data"
    }
   ],
   "source": [
    "table=pd.crosstab(data.HIDEG,data[target_variable])\n",
    "table.div(table.sum(1).astype(float), axis=0).plot(kind='bar', stacked=True)\n",
    "plt.title('Bar Chart of Highest Degree vs Target')\n",
    "plt.xlabel('Highest Degree')\n",
    "plt.ylabel('Proportion of Target')\n",
    "plt.savefig('hideg_vs_tgt')"
   ]
  },
  {
   "cell_type": "code",
   "execution_count": 38,
   "metadata": {},
   "outputs": [
    {
     "data": {
      "text/plain": [
       "0"
      ]
     },
     "execution_count": 38,
     "metadata": {},
     "output_type": "execute_result"
    }
   ],
   "source": [
    "data[\"HIDEG\"].isna().sum()"
   ]
  },
  {
   "cell_type": "code",
   "execution_count": 39,
   "metadata": {},
   "outputs": [],
   "source": [
    "candidate_variables.extend([\"HIDEG\"])"
   ]
  },
  {
   "cell_type": "code",
   "execution_count": 40,
   "metadata": {},
   "outputs": [
    {
     "data": {
      "text/plain": [
       "count    179785.000000\n",
       "mean      29824.530645\n",
       "std       33950.942183\n",
       "min     -204643.000000\n",
       "25%        8088.000000\n",
       "50%       20000.000000\n",
       "75%       40000.000000\n",
       "max      731652.960000\n",
       "Name: INCTOT, dtype: float64"
      ]
     },
     "execution_count": 40,
     "metadata": {},
     "output_type": "execute_result"
    }
   ],
   "source": [
    "data[\"INCTOT\"].describe()"
   ]
  },
  {
   "cell_type": "code",
   "execution_count": 41,
   "metadata": {},
   "outputs": [
    {
     "data": {
      "text/plain": [
       "0"
      ]
     },
     "execution_count": 41,
     "metadata": {},
     "output_type": "execute_result"
    }
   ],
   "source": [
    "data[\"INCTOT\"].isna().sum()"
   ]
  },
  {
   "cell_type": "code",
   "execution_count": 42,
   "metadata": {},
   "outputs": [
    {
     "data": {
      "text/plain": [
       "count    179785.000000\n",
       "mean      61156.177518\n",
       "std       57114.272213\n",
       "min     -258220.000000\n",
       "25%       21855.000000\n",
       "50%       45000.000000\n",
       "75%       82930.000000\n",
       "max      731653.000000\n",
       "Name: FTOTVAL, dtype: float64"
      ]
     },
     "execution_count": 42,
     "metadata": {},
     "output_type": "execute_result"
    }
   ],
   "source": [
    "data[\"FTOTVAL\"].describe()"
   ]
  },
  {
   "cell_type": "code",
   "execution_count": 43,
   "metadata": {},
   "outputs": [
    {
     "data": {
      "text/plain": [
       "0"
      ]
     },
     "execution_count": 43,
     "metadata": {},
     "output_type": "execute_result"
    }
   ],
   "source": [
    "data[\"FTOTVAL\"].isna().sum()"
   ]
  },
  {
   "cell_type": "code",
   "execution_count": 44,
   "metadata": {},
   "outputs": [],
   "source": [
    "candidate_variables.extend([\"FTOTVAL\"])"
   ]
  },
  {
   "cell_type": "code",
   "execution_count": 45,
   "metadata": {},
   "outputs": [
    {
     "data": {
      "text/plain": [
       "1    160998\n",
       "2     18755\n",
       "9        27\n",
       "7         5\n",
       "Name: DIABETICEV, dtype: int64"
      ]
     },
     "execution_count": 45,
     "metadata": {},
     "output_type": "execute_result"
    }
   ],
   "source": [
    "data['DIABETICEV'].value_counts()"
   ]
  },
  {
   "cell_type": "code",
   "execution_count": 46,
   "metadata": {},
   "outputs": [
    {
     "data": {
      "image/png": "[encoded data removed]",
      "text/plain": [
       "<Figure size 432x288 with 1 Axes>"
      ]
     },
     "metadata": {
      "needs_background": "light"
     },
     "output_type": "display_data"
    }
   ],
   "source": [
    "table=pd.crosstab(data.DIABETICEV,data[target_variable])\n",
    "table.div(table.sum(1).astype(float), axis=0).plot(kind='bar', stacked=True)\n",
    "plt.title('Bar Chart of Diabetic Event vs Target')\n",
    "plt.xlabel('Diabetic Event')\n",
    "plt.ylabel('Proportion of Target')\n",
    "plt.savefig('hideg_vs_tgt')"
   ]
  },
  {
   "cell_type": "code",
   "execution_count": 47,
   "metadata": {},
   "outputs": [],
   "source": [
    "data.loc[data['DIABETICEV'].isin([1, 7, 9]),'DIABETICEV'] = 0\n",
    "data.loc[data['DIABETICEV'] == 2,'DIABETICEV'] = 1"
   ]
  },
  {
   "cell_type": "code",
   "execution_count": 48,
   "metadata": {},
   "outputs": [
    {
     "data": {
      "text/plain": [
       "0"
      ]
     },
     "execution_count": 48,
     "metadata": {},
     "output_type": "execute_result"
    }
   ],
   "source": [
    "data[\"DIABETICEV\"].isna().sum()"
   ]
  },
  {
   "cell_type": "code",
   "execution_count": 49,
   "metadata": {},
   "outputs": [],
   "source": [
    "candidate_variables.extend([\"DIABETICEV\"])"
   ]
  },
  {
   "cell_type": "code",
   "execution_count": 50,
   "metadata": {},
   "outputs": [
    {
     "data": {
      "text/plain": [
       "['YEAR', 'AGE', 'SEX', 'MARSTAT', 'EDUCYR', 'HIDEG', 'FTOTVAL', 'DIABETICEV']"
      ]
     },
     "execution_count": 50,
     "metadata": {},
     "output_type": "execute_result"
    }
   ],
   "source": [
    "candidate_variables"
   ]
  },
  {
   "cell_type": "code",
   "execution_count": 51,
   "metadata": {},
   "outputs": [],
   "source": [
    "#candidate_variables = ['YEAR', 'PERWEIGHT', 'SAQWEIGHT', 'AGE', 'SEX', 'MARSTAT', 'EDUCYR', 'HIDEG', 'INCTOT', 'FTOTVAL', 'DIABETICEV']"
   ]
  },
  {
   "cell_type": "code",
   "execution_count": 52,
   "metadata": {},
   "outputs": [],
   "source": [
    "train = data[candidate_variables]\n",
    "Label = data[target_variable]"
   ]
  },
  {
   "cell_type": "code",
   "execution_count": 53,
   "metadata": {},
   "outputs": [
    {
     "data": {
      "text/plain": [
       "(179785, 8)"
      ]
     },
     "execution_count": 53,
     "metadata": {},
     "output_type": "execute_result"
    }
   ],
   "source": [
    "train.shape"
   ]
  },
  {
   "cell_type": "code",
   "execution_count": 54,
   "metadata": {},
   "outputs": [],
   "source": [
    "cat_features = [train.columns[i] for i, j in enumerate(train.dtypes) if (j == \"object\" or j == \"bool\")]\n",
    "numeric_features = [train.columns[i] for i, j in enumerate(train.dtypes) if j in [\"int64\", \"float64\"]]"
   ]
  },
  {
   "cell_type": "code",
   "execution_count": 55,
   "metadata": {},
   "outputs": [
    {
     "data": {
      "text/plain": [
       "['MARSTAT', 'HIDEG']"
      ]
     },
     "execution_count": 55,
     "metadata": {},
     "output_type": "execute_result"
    }
   ],
   "source": [
    "cat_features"
   ]
  },
  {
   "cell_type": "code",
   "execution_count": 56,
   "metadata": {},
   "outputs": [
    {
     "data": {
      "text/plain": [
       "['YEAR', 'AGE', 'SEX', 'EDUCYR', 'FTOTVAL', 'DIABETICEV']"
      ]
     },
     "execution_count": 56,
     "metadata": {},
     "output_type": "execute_result"
    }
   ],
   "source": [
    "numeric_features"
   ]
  },
  {
   "cell_type": "markdown",
   "metadata": {},
   "source": [
    "def check_discretize(basetable, variable, threshold):\n",
    "    return(len(basetable.groupby(variable))>threshold)\n",
    "threshold = 5\n",
    "number_bins = 5\n",
    "for variable in numeric_features:\n",
    "    if check_discretize(basetable, variable, threshold):\n",
    "        new_variable = \"disc\" + variable\n",
    "        basetable[new_variable] = pd.qcut(basetable[variable], number_bins)"
   ]
  },
  {
   "cell_type": "markdown",
   "metadata": {},
   "source": [
    "# Dummy variables"
   ]
  },
  {
   "cell_type": "code",
   "execution_count": 57,
   "metadata": {},
   "outputs": [
    {
     "data": {
      "text/html": [
       "<div>\n",
       "<style scoped>\n",
       "    .dataframe tbody tr th:only-of-type {\n",
       "        vertical-align: middle;\n",
       "    }\n",
       "\n",
       "    .dataframe tbody tr th {\n",
       "        vertical-align: top;\n",
       "    }\n",
       "\n",
       "    .dataframe thead th {\n",
       "        text-align: right;\n",
       "    }\n",
       "</style>\n",
       "<table border=\"1\" class=\"dataframe\">\n",
       "  <thead>\n",
       "    <tr style=\"text-align: right;\">\n",
       "      <th></th>\n",
       "      <th>MARSTAT</th>\n",
       "      <th>HIDEG</th>\n",
       "      <th>MARSTAT_10</th>\n",
       "      <th>MARSTAT_20</th>\n",
       "      <th>MARSTAT_30</th>\n",
       "      <th>MARSTAT_40</th>\n",
       "      <th>MARSTAT_50</th>\n",
       "      <th>MARSTAT_99</th>\n",
       "      <th>HIDEG_10</th>\n",
       "      <th>HIDEG_20</th>\n",
       "      <th>HIDEG_30</th>\n",
       "      <th>HIDEG_40</th>\n",
       "      <th>HIDEG_51</th>\n",
       "      <th>HIDEG_52</th>\n",
       "      <th>HIDEG_53</th>\n",
       "      <th>HIDEG_99</th>\n",
       "    </tr>\n",
       "  </thead>\n",
       "  <tbody>\n",
       "    <tr>\n",
       "      <th>0</th>\n",
       "      <td>10</td>\n",
       "      <td>53</td>\n",
       "      <td>1</td>\n",
       "      <td>0</td>\n",
       "      <td>0</td>\n",
       "      <td>0</td>\n",
       "      <td>0</td>\n",
       "      <td>0</td>\n",
       "      <td>0</td>\n",
       "      <td>0</td>\n",
       "      <td>0</td>\n",
       "      <td>0</td>\n",
       "      <td>0</td>\n",
       "      <td>0</td>\n",
       "      <td>1</td>\n",
       "      <td>0</td>\n",
       "    </tr>\n",
       "    <tr>\n",
       "      <th>1</th>\n",
       "      <td>10</td>\n",
       "      <td>30</td>\n",
       "      <td>1</td>\n",
       "      <td>0</td>\n",
       "      <td>0</td>\n",
       "      <td>0</td>\n",
       "      <td>0</td>\n",
       "      <td>0</td>\n",
       "      <td>0</td>\n",
       "      <td>0</td>\n",
       "      <td>1</td>\n",
       "      <td>0</td>\n",
       "      <td>0</td>\n",
       "      <td>0</td>\n",
       "      <td>0</td>\n",
       "      <td>0</td>\n",
       "    </tr>\n",
       "    <tr>\n",
       "      <th>2</th>\n",
       "      <td>10</td>\n",
       "      <td>52</td>\n",
       "      <td>1</td>\n",
       "      <td>0</td>\n",
       "      <td>0</td>\n",
       "      <td>0</td>\n",
       "      <td>0</td>\n",
       "      <td>0</td>\n",
       "      <td>0</td>\n",
       "      <td>0</td>\n",
       "      <td>0</td>\n",
       "      <td>0</td>\n",
       "      <td>0</td>\n",
       "      <td>1</td>\n",
       "      <td>0</td>\n",
       "      <td>0</td>\n",
       "    </tr>\n",
       "    <tr>\n",
       "      <th>3</th>\n",
       "      <td>10</td>\n",
       "      <td>51</td>\n",
       "      <td>1</td>\n",
       "      <td>0</td>\n",
       "      <td>0</td>\n",
       "      <td>0</td>\n",
       "      <td>0</td>\n",
       "      <td>0</td>\n",
       "      <td>0</td>\n",
       "      <td>0</td>\n",
       "      <td>0</td>\n",
       "      <td>0</td>\n",
       "      <td>1</td>\n",
       "      <td>0</td>\n",
       "      <td>0</td>\n",
       "      <td>0</td>\n",
       "    </tr>\n",
       "    <tr>\n",
       "      <th>4</th>\n",
       "      <td>50</td>\n",
       "      <td>99</td>\n",
       "      <td>0</td>\n",
       "      <td>0</td>\n",
       "      <td>0</td>\n",
       "      <td>0</td>\n",
       "      <td>1</td>\n",
       "      <td>0</td>\n",
       "      <td>0</td>\n",
       "      <td>0</td>\n",
       "      <td>0</td>\n",
       "      <td>0</td>\n",
       "      <td>0</td>\n",
       "      <td>0</td>\n",
       "      <td>0</td>\n",
       "      <td>1</td>\n",
       "    </tr>\n",
       "  </tbody>\n",
       "</table>\n",
       "</div>"
      ],
      "text/plain": [
       "  MARSTAT HIDEG  MARSTAT_10  MARSTAT_20  MARSTAT_30  MARSTAT_40  MARSTAT_50  \\\n",
       "0      10    53           1           0           0           0           0   \n",
       "1      10    30           1           0           0           0           0   \n",
       "2      10    52           1           0           0           0           0   \n",
       "3      10    51           1           0           0           0           0   \n",
       "4      50    99           0           0           0           0           1   \n",
       "\n",
       "   MARSTAT_99  HIDEG_10  HIDEG_20  HIDEG_30  HIDEG_40  HIDEG_51  HIDEG_52  \\\n",
       "0           0         0         0         0         0         0         0   \n",
       "1           0         0         0         1         0         0         0   \n",
       "2           0         0         0         0         0         0         1   \n",
       "3           0         0         0         0         0         1         0   \n",
       "4           0         0         0         0         0         0         0   \n",
       "\n",
       "   HIDEG_53  HIDEG_99  \n",
       "0         1         0  \n",
       "1         0         0  \n",
       "2         0         0  \n",
       "3         0         0  \n",
       "4         0         1  "
      ]
     },
     "execution_count": 57,
     "metadata": {},
     "output_type": "execute_result"
    }
   ],
   "source": [
    "train_cat = train[cat_features]\n",
    "for var in cat_features:\n",
    "    cat_list='var'+'_'+var\n",
    "    cat_list = pd.get_dummies(train_cat[var], prefix=var)\n",
    "    data1=train_cat.join(cat_list)\n",
    "    train_cat=data1\n",
    "train_cat.head()"
   ]
  },
  {
   "cell_type": "markdown",
   "metadata": {},
   "source": [
    "# Missing values"
   ]
  },
  {
   "cell_type": "code",
   "execution_count": 58,
   "metadata": {},
   "outputs": [
    {
     "name": "stdout",
     "output_type": "stream",
     "text": [
      "1 AGE\n",
      "1395\n",
      "3 EDUCYR\n",
      "79035\n"
     ]
    }
   ],
   "source": [
    "train_num = train[numeric_features]\n",
    "# check variables that are missing\n",
    "for j in range(train_num.values.shape[1]):\n",
    "    vec = train_num.values[:,j]\n",
    "    mask = np.isfinite(vec)\n",
    "    if np.sum(~mask) > 0:\n",
    "        print(j, train_num.columns[j])\n",
    "        print(np.sum(~mask))"
   ]
  },
  {
   "cell_type": "code",
   "execution_count": 59,
   "metadata": {},
   "outputs": [],
   "source": [
    "imp = SimpleImputer(missing_values=np.nan, strategy='median')\n",
    "imp.fit(train_num)\n",
    "train_num_imp= imp.transform(train_num)\n",
    "train_num = pd.DataFrame(train_num_imp, columns = train_num.columns)"
   ]
  },
  {
   "cell_type": "code",
   "execution_count": 60,
   "metadata": {},
   "outputs": [
    {
     "data": {
      "text/html": [
       "<div>\n",
       "<style scoped>\n",
       "    .dataframe tbody tr th:only-of-type {\n",
       "        vertical-align: middle;\n",
       "    }\n",
       "\n",
       "    .dataframe tbody tr th {\n",
       "        vertical-align: top;\n",
       "    }\n",
       "\n",
       "    .dataframe thead th {\n",
       "        text-align: right;\n",
       "    }\n",
       "</style>\n",
       "<table border=\"1\" class=\"dataframe\">\n",
       "  <thead>\n",
       "    <tr style=\"text-align: right;\">\n",
       "      <th></th>\n",
       "      <th>MARSTAT</th>\n",
       "      <th>HIDEG</th>\n",
       "      <th>MARSTAT_10</th>\n",
       "      <th>MARSTAT_20</th>\n",
       "      <th>MARSTAT_30</th>\n",
       "      <th>MARSTAT_40</th>\n",
       "      <th>MARSTAT_50</th>\n",
       "      <th>MARSTAT_99</th>\n",
       "      <th>HIDEG_10</th>\n",
       "      <th>HIDEG_20</th>\n",
       "      <th>HIDEG_30</th>\n",
       "      <th>HIDEG_40</th>\n",
       "      <th>HIDEG_51</th>\n",
       "      <th>HIDEG_52</th>\n",
       "      <th>HIDEG_53</th>\n",
       "      <th>HIDEG_99</th>\n",
       "    </tr>\n",
       "  </thead>\n",
       "  <tbody>\n",
       "    <tr>\n",
       "      <th>0</th>\n",
       "      <td>10</td>\n",
       "      <td>53</td>\n",
       "      <td>1</td>\n",
       "      <td>0</td>\n",
       "      <td>0</td>\n",
       "      <td>0</td>\n",
       "      <td>0</td>\n",
       "      <td>0</td>\n",
       "      <td>0</td>\n",
       "      <td>0</td>\n",
       "      <td>0</td>\n",
       "      <td>0</td>\n",
       "      <td>0</td>\n",
       "      <td>0</td>\n",
       "      <td>1</td>\n",
       "      <td>0</td>\n",
       "    </tr>\n",
       "    <tr>\n",
       "      <th>1</th>\n",
       "      <td>10</td>\n",
       "      <td>30</td>\n",
       "      <td>1</td>\n",
       "      <td>0</td>\n",
       "      <td>0</td>\n",
       "      <td>0</td>\n",
       "      <td>0</td>\n",
       "      <td>0</td>\n",
       "      <td>0</td>\n",
       "      <td>0</td>\n",
       "      <td>1</td>\n",
       "      <td>0</td>\n",
       "      <td>0</td>\n",
       "      <td>0</td>\n",
       "      <td>0</td>\n",
       "      <td>0</td>\n",
       "    </tr>\n",
       "    <tr>\n",
       "      <th>2</th>\n",
       "      <td>10</td>\n",
       "      <td>52</td>\n",
       "      <td>1</td>\n",
       "      <td>0</td>\n",
       "      <td>0</td>\n",
       "      <td>0</td>\n",
       "      <td>0</td>\n",
       "      <td>0</td>\n",
       "      <td>0</td>\n",
       "      <td>0</td>\n",
       "      <td>0</td>\n",
       "      <td>0</td>\n",
       "      <td>0</td>\n",
       "      <td>1</td>\n",
       "      <td>0</td>\n",
       "      <td>0</td>\n",
       "    </tr>\n",
       "    <tr>\n",
       "      <th>3</th>\n",
       "      <td>10</td>\n",
       "      <td>51</td>\n",
       "      <td>1</td>\n",
       "      <td>0</td>\n",
       "      <td>0</td>\n",
       "      <td>0</td>\n",
       "      <td>0</td>\n",
       "      <td>0</td>\n",
       "      <td>0</td>\n",
       "      <td>0</td>\n",
       "      <td>0</td>\n",
       "      <td>0</td>\n",
       "      <td>1</td>\n",
       "      <td>0</td>\n",
       "      <td>0</td>\n",
       "      <td>0</td>\n",
       "    </tr>\n",
       "    <tr>\n",
       "      <th>4</th>\n",
       "      <td>50</td>\n",
       "      <td>99</td>\n",
       "      <td>0</td>\n",
       "      <td>0</td>\n",
       "      <td>0</td>\n",
       "      <td>0</td>\n",
       "      <td>1</td>\n",
       "      <td>0</td>\n",
       "      <td>0</td>\n",
       "      <td>0</td>\n",
       "      <td>0</td>\n",
       "      <td>0</td>\n",
       "      <td>0</td>\n",
       "      <td>0</td>\n",
       "      <td>0</td>\n",
       "      <td>1</td>\n",
       "    </tr>\n",
       "  </tbody>\n",
       "</table>\n",
       "</div>"
      ],
      "text/plain": [
       "  MARSTAT HIDEG  MARSTAT_10  MARSTAT_20  MARSTAT_30  MARSTAT_40  MARSTAT_50  \\\n",
       "0      10    53           1           0           0           0           0   \n",
       "1      10    30           1           0           0           0           0   \n",
       "2      10    52           1           0           0           0           0   \n",
       "3      10    51           1           0           0           0           0   \n",
       "4      50    99           0           0           0           0           1   \n",
       "\n",
       "   MARSTAT_99  HIDEG_10  HIDEG_20  HIDEG_30  HIDEG_40  HIDEG_51  HIDEG_52  \\\n",
       "0           0         0         0         0         0         0         0   \n",
       "1           0         0         0         1         0         0         0   \n",
       "2           0         0         0         0         0         0         1   \n",
       "3           0         0         0         0         0         1         0   \n",
       "4           0         0         0         0         0         0         0   \n",
       "\n",
       "   HIDEG_53  HIDEG_99  \n",
       "0         1         0  \n",
       "1         0         0  \n",
       "2         0         0  \n",
       "3         0         0  \n",
       "4         0         1  "
      ]
     },
     "execution_count": 60,
     "metadata": {},
     "output_type": "execute_result"
    }
   ],
   "source": [
    "train_cat.head()"
   ]
  },
  {
   "cell_type": "markdown",
   "metadata": {},
   "source": [
    "# Dataset"
   ]
  },
  {
   "cell_type": "code",
   "execution_count": 61,
   "metadata": {},
   "outputs": [],
   "source": [
    "train = pd.concat([train_num, train_cat], axis=1, sort=True)\n",
    "train = train.drop(['MARSTAT', 'HIDEG'], axis=1)"
   ]
  },
  {
   "cell_type": "markdown",
   "metadata": {},
   "source": [
    "# Train-test"
   ]
  },
  {
   "cell_type": "code",
   "execution_count": 62,
   "metadata": {},
   "outputs": [],
   "source": [
    "X_train, X_val, y_train, y_val = train_test_split(train, Label, random_state=0)"
   ]
  },
  {
   "cell_type": "code",
   "execution_count": 63,
   "metadata": {},
   "outputs": [
    {
     "data": {
      "text/plain": [
       "0    130168\n",
       "1      4670\n",
       "Name: HEARTATTEV, dtype: int64"
      ]
     },
     "execution_count": 63,
     "metadata": {},
     "output_type": "execute_result"
    }
   ],
   "source": [
    "y_train.value_counts().sort_index()"
   ]
  },
  {
   "cell_type": "code",
   "execution_count": 64,
   "metadata": {},
   "outputs": [
    {
     "data": {
      "text/plain": [
       "0    43288\n",
       "1     1659\n",
       "Name: HEARTATTEV, dtype: int64"
      ]
     },
     "execution_count": 64,
     "metadata": {},
     "output_type": "execute_result"
    }
   ],
   "source": [
    "y_val.value_counts().sort_index()"
   ]
  },
  {
   "cell_type": "markdown",
   "metadata": {},
   "source": [
    "# K-fold"
   ]
  },
  {
   "cell_type": "code",
   "execution_count": 122,
   "metadata": {},
   "outputs": [],
   "source": [
    "num_folds = 5\n",
    "seed = 7\n",
    "\n",
    "kfold = StratifiedKFold(n_splits=num_folds, random_state=seed, shuffle=True)"
   ]
  },
  {
   "cell_type": "markdown",
   "metadata": {},
   "source": [
    "# Logistic Regression - Forward selection"
   ]
  },
  {
   "cell_type": "code",
   "execution_count": 123,
   "metadata": {},
   "outputs": [
    {
     "ename": "KeyError",
     "evalue": "\"['MARSTAT_99' 'HIDEG_99'] not found in axis\"",
     "output_type": "error",
     "traceback": [
      "\u001b[1;31m---------------------------------------------------------------------------\u001b[0m",
      "\u001b[1;31mKeyError\u001b[0m                                  Traceback (most recent call last)",
      "\u001b[1;32m<ipython-input-123-b4efa278b81f>\u001b[0m in \u001b[0;36m<module>\u001b[1;34m\u001b[0m\n\u001b[0;32m      1\u001b[0m \u001b[1;31m# remove one category (null)\u001b[0m\u001b[1;33m\u001b[0m\u001b[1;33m\u001b[0m\u001b[0m\n\u001b[1;32m----> 2\u001b[1;33m \u001b[0mX_train\u001b[0m \u001b[1;33m=\u001b[0m \u001b[0mX_train\u001b[0m\u001b[1;33m.\u001b[0m\u001b[0mdrop\u001b[0m\u001b[1;33m(\u001b[0m\u001b[1;33m[\u001b[0m\u001b[1;34m'MARSTAT_99'\u001b[0m\u001b[1;33m,\u001b[0m \u001b[1;34m'HIDEG_99'\u001b[0m\u001b[1;33m]\u001b[0m\u001b[1;33m,\u001b[0m \u001b[0maxis\u001b[0m\u001b[1;33m=\u001b[0m\u001b[1;36m1\u001b[0m\u001b[1;33m)\u001b[0m\u001b[1;33m\u001b[0m\u001b[0m\n\u001b[0m\u001b[0;32m      3\u001b[0m \u001b[0mbasetable\u001b[0m \u001b[1;33m=\u001b[0m \u001b[0mpd\u001b[0m\u001b[1;33m.\u001b[0m\u001b[0mconcat\u001b[0m\u001b[1;33m(\u001b[0m\u001b[1;33m[\u001b[0m\u001b[0mX_train\u001b[0m\u001b[1;33m,\u001b[0m \u001b[0my_train\u001b[0m\u001b[1;33m]\u001b[0m\u001b[1;33m,\u001b[0m \u001b[0maxis\u001b[0m\u001b[1;33m=\u001b[0m\u001b[1;36m1\u001b[0m\u001b[1;33m)\u001b[0m\u001b[1;33m\u001b[0m\u001b[0m\n\u001b[0;32m      4\u001b[0m \u001b[0mvariables\u001b[0m \u001b[1;33m=\u001b[0m \u001b[0mlist\u001b[0m\u001b[1;33m(\u001b[0m\u001b[0mX_train\u001b[0m\u001b[1;33m.\u001b[0m\u001b[0mcolumns\u001b[0m\u001b[1;33m.\u001b[0m\u001b[0mvalues\u001b[0m\u001b[1;33m)\u001b[0m\u001b[1;33m\u001b[0m\u001b[0m\n",
      "\u001b[1;32m~\\Anaconda3\\lib\\site-packages\\pandas\\core\\frame.py\u001b[0m in \u001b[0;36mdrop\u001b[1;34m(self, labels, axis, index, columns, level, inplace, errors)\u001b[0m\n\u001b[0;32m   3695\u001b[0m                                            \u001b[0mindex\u001b[0m\u001b[1;33m=\u001b[0m\u001b[0mindex\u001b[0m\u001b[1;33m,\u001b[0m \u001b[0mcolumns\u001b[0m\u001b[1;33m=\u001b[0m\u001b[0mcolumns\u001b[0m\u001b[1;33m,\u001b[0m\u001b[1;33m\u001b[0m\u001b[0m\n\u001b[0;32m   3696\u001b[0m                                            \u001b[0mlevel\u001b[0m\u001b[1;33m=\u001b[0m\u001b[0mlevel\u001b[0m\u001b[1;33m,\u001b[0m \u001b[0minplace\u001b[0m\u001b[1;33m=\u001b[0m\u001b[0minplace\u001b[0m\u001b[1;33m,\u001b[0m\u001b[1;33m\u001b[0m\u001b[0m\n\u001b[1;32m-> 3697\u001b[1;33m                                            errors=errors)\n\u001b[0m\u001b[0;32m   3698\u001b[0m \u001b[1;33m\u001b[0m\u001b[0m\n\u001b[0;32m   3699\u001b[0m     @rewrite_axis_style_signature('mapper', [('copy', True),\n",
      "\u001b[1;32m~\\Anaconda3\\lib\\site-packages\\pandas\\core\\generic.py\u001b[0m in \u001b[0;36mdrop\u001b[1;34m(self, labels, axis, index, columns, level, inplace, errors)\u001b[0m\n\u001b[0;32m   3109\u001b[0m         \u001b[1;32mfor\u001b[0m \u001b[0maxis\u001b[0m\u001b[1;33m,\u001b[0m \u001b[0mlabels\u001b[0m \u001b[1;32min\u001b[0m \u001b[0maxes\u001b[0m\u001b[1;33m.\u001b[0m\u001b[0mitems\u001b[0m\u001b[1;33m(\u001b[0m\u001b[1;33m)\u001b[0m\u001b[1;33m:\u001b[0m\u001b[1;33m\u001b[0m\u001b[0m\n\u001b[0;32m   3110\u001b[0m             \u001b[1;32mif\u001b[0m \u001b[0mlabels\u001b[0m \u001b[1;32mis\u001b[0m \u001b[1;32mnot\u001b[0m \u001b[1;32mNone\u001b[0m\u001b[1;33m:\u001b[0m\u001b[1;33m\u001b[0m\u001b[0m\n\u001b[1;32m-> 3111\u001b[1;33m                 \u001b[0mobj\u001b[0m \u001b[1;33m=\u001b[0m \u001b[0mobj\u001b[0m\u001b[1;33m.\u001b[0m\u001b[0m_drop_axis\u001b[0m\u001b[1;33m(\u001b[0m\u001b[0mlabels\u001b[0m\u001b[1;33m,\u001b[0m \u001b[0maxis\u001b[0m\u001b[1;33m,\u001b[0m \u001b[0mlevel\u001b[0m\u001b[1;33m=\u001b[0m\u001b[0mlevel\u001b[0m\u001b[1;33m,\u001b[0m \u001b[0merrors\u001b[0m\u001b[1;33m=\u001b[0m\u001b[0merrors\u001b[0m\u001b[1;33m)\u001b[0m\u001b[1;33m\u001b[0m\u001b[0m\n\u001b[0m\u001b[0;32m   3112\u001b[0m \u001b[1;33m\u001b[0m\u001b[0m\n\u001b[0;32m   3113\u001b[0m         \u001b[1;32mif\u001b[0m \u001b[0minplace\u001b[0m\u001b[1;33m:\u001b[0m\u001b[1;33m\u001b[0m\u001b[0m\n",
      "\u001b[1;32m~\\Anaconda3\\lib\\site-packages\\pandas\\core\\generic.py\u001b[0m in \u001b[0;36m_drop_axis\u001b[1;34m(self, labels, axis, level, errors)\u001b[0m\n\u001b[0;32m   3141\u001b[0m                 \u001b[0mnew_axis\u001b[0m \u001b[1;33m=\u001b[0m \u001b[0maxis\u001b[0m\u001b[1;33m.\u001b[0m\u001b[0mdrop\u001b[0m\u001b[1;33m(\u001b[0m\u001b[0mlabels\u001b[0m\u001b[1;33m,\u001b[0m \u001b[0mlevel\u001b[0m\u001b[1;33m=\u001b[0m\u001b[0mlevel\u001b[0m\u001b[1;33m,\u001b[0m \u001b[0merrors\u001b[0m\u001b[1;33m=\u001b[0m\u001b[0merrors\u001b[0m\u001b[1;33m)\u001b[0m\u001b[1;33m\u001b[0m\u001b[0m\n\u001b[0;32m   3142\u001b[0m             \u001b[1;32melse\u001b[0m\u001b[1;33m:\u001b[0m\u001b[1;33m\u001b[0m\u001b[0m\n\u001b[1;32m-> 3143\u001b[1;33m                 \u001b[0mnew_axis\u001b[0m \u001b[1;33m=\u001b[0m \u001b[0maxis\u001b[0m\u001b[1;33m.\u001b[0m\u001b[0mdrop\u001b[0m\u001b[1;33m(\u001b[0m\u001b[0mlabels\u001b[0m\u001b[1;33m,\u001b[0m \u001b[0merrors\u001b[0m\u001b[1;33m=\u001b[0m\u001b[0merrors\u001b[0m\u001b[1;33m)\u001b[0m\u001b[1;33m\u001b[0m\u001b[0m\n\u001b[0m\u001b[0;32m   3144\u001b[0m             \u001b[0mresult\u001b[0m \u001b[1;33m=\u001b[0m \u001b[0mself\u001b[0m\u001b[1;33m.\u001b[0m\u001b[0mreindex\u001b[0m\u001b[1;33m(\u001b[0m\u001b[1;33m**\u001b[0m\u001b[1;33m{\u001b[0m\u001b[0maxis_name\u001b[0m\u001b[1;33m:\u001b[0m \u001b[0mnew_axis\u001b[0m\u001b[1;33m}\u001b[0m\u001b[1;33m)\u001b[0m\u001b[1;33m\u001b[0m\u001b[0m\n\u001b[0;32m   3145\u001b[0m \u001b[1;33m\u001b[0m\u001b[0m\n",
      "\u001b[1;32m~\\Anaconda3\\lib\\site-packages\\pandas\\core\\indexes\\base.py\u001b[0m in \u001b[0;36mdrop\u001b[1;34m(self, labels, errors)\u001b[0m\n\u001b[0;32m   4402\u001b[0m             \u001b[1;32mif\u001b[0m \u001b[0merrors\u001b[0m \u001b[1;33m!=\u001b[0m \u001b[1;34m'ignore'\u001b[0m\u001b[1;33m:\u001b[0m\u001b[1;33m\u001b[0m\u001b[0m\n\u001b[0;32m   4403\u001b[0m                 raise KeyError(\n\u001b[1;32m-> 4404\u001b[1;33m                     '{} not found in axis'.format(labels[mask]))\n\u001b[0m\u001b[0;32m   4405\u001b[0m             \u001b[0mindexer\u001b[0m \u001b[1;33m=\u001b[0m \u001b[0mindexer\u001b[0m\u001b[1;33m[\u001b[0m\u001b[1;33m~\u001b[0m\u001b[0mmask\u001b[0m\u001b[1;33m]\u001b[0m\u001b[1;33m\u001b[0m\u001b[0m\n\u001b[0;32m   4406\u001b[0m         \u001b[1;32mreturn\u001b[0m \u001b[0mself\u001b[0m\u001b[1;33m.\u001b[0m\u001b[0mdelete\u001b[0m\u001b[1;33m(\u001b[0m\u001b[0mindexer\u001b[0m\u001b[1;33m)\u001b[0m\u001b[1;33m\u001b[0m\u001b[0m\n",
      "\u001b[1;31mKeyError\u001b[0m: \"['MARSTAT_99' 'HIDEG_99'] not found in axis\""
     ]
    }
   ],
   "source": [
    "# remove one category (null)\n",
    "X_train = X_train.drop(['MARSTAT_99', 'HIDEG_99'], axis=1)\n",
    "basetable = pd.concat([X_train, y_train], axis=1)\n",
    "variables = list(X_train.columns.values)"
   ]
  },
  {
   "cell_type": "code",
   "execution_count": 124,
   "metadata": {},
   "outputs": [
    {
     "data": {
      "text/html": [
       "<div>\n",
       "<style scoped>\n",
       "    .dataframe tbody tr th:only-of-type {\n",
       "        vertical-align: middle;\n",
       "    }\n",
       "\n",
       "    .dataframe tbody tr th {\n",
       "        vertical-align: top;\n",
       "    }\n",
       "\n",
       "    .dataframe thead th {\n",
       "        text-align: right;\n",
       "    }\n",
       "</style>\n",
       "<table border=\"1\" class=\"dataframe\">\n",
       "  <thead>\n",
       "    <tr style=\"text-align: right;\">\n",
       "      <th></th>\n",
       "      <th>YEAR</th>\n",
       "      <th>AGE</th>\n",
       "      <th>SEX</th>\n",
       "      <th>EDUCYR</th>\n",
       "      <th>FTOTVAL</th>\n",
       "      <th>DIABETICEV</th>\n",
       "      <th>MARSTAT_10</th>\n",
       "      <th>MARSTAT_20</th>\n",
       "      <th>MARSTAT_30</th>\n",
       "      <th>MARSTAT_40</th>\n",
       "      <th>MARSTAT_50</th>\n",
       "      <th>HIDEG_10</th>\n",
       "      <th>HIDEG_20</th>\n",
       "      <th>HIDEG_30</th>\n",
       "      <th>HIDEG_40</th>\n",
       "      <th>HIDEG_51</th>\n",
       "      <th>HIDEG_52</th>\n",
       "      <th>HIDEG_53</th>\n",
       "      <th>HEARTATTEV</th>\n",
       "    </tr>\n",
       "  </thead>\n",
       "  <tbody>\n",
       "    <tr>\n",
       "      <th>87489</th>\n",
       "      <td>2013.0</td>\n",
       "      <td>23.0</td>\n",
       "      <td>1.0</td>\n",
       "      <td>12.0</td>\n",
       "      <td>1500.0</td>\n",
       "      <td>0.0</td>\n",
       "      <td>0</td>\n",
       "      <td>0</td>\n",
       "      <td>0</td>\n",
       "      <td>0</td>\n",
       "      <td>1</td>\n",
       "      <td>0</td>\n",
       "      <td>0</td>\n",
       "      <td>0</td>\n",
       "      <td>0</td>\n",
       "      <td>0</td>\n",
       "      <td>0</td>\n",
       "      <td>0</td>\n",
       "      <td>0</td>\n",
       "    </tr>\n",
       "    <tr>\n",
       "      <th>71069</th>\n",
       "      <td>2012.0</td>\n",
       "      <td>23.0</td>\n",
       "      <td>2.0</td>\n",
       "      <td>12.0</td>\n",
       "      <td>21000.0</td>\n",
       "      <td>0.0</td>\n",
       "      <td>0</td>\n",
       "      <td>0</td>\n",
       "      <td>0</td>\n",
       "      <td>0</td>\n",
       "      <td>1</td>\n",
       "      <td>0</td>\n",
       "      <td>0</td>\n",
       "      <td>1</td>\n",
       "      <td>0</td>\n",
       "      <td>0</td>\n",
       "      <td>0</td>\n",
       "      <td>0</td>\n",
       "      <td>0</td>\n",
       "    </tr>\n",
       "    <tr>\n",
       "      <th>121339</th>\n",
       "      <td>2014.0</td>\n",
       "      <td>60.0</td>\n",
       "      <td>2.0</td>\n",
       "      <td>12.0</td>\n",
       "      <td>45488.0</td>\n",
       "      <td>0.0</td>\n",
       "      <td>1</td>\n",
       "      <td>0</td>\n",
       "      <td>0</td>\n",
       "      <td>0</td>\n",
       "      <td>0</td>\n",
       "      <td>0</td>\n",
       "      <td>0</td>\n",
       "      <td>0</td>\n",
       "      <td>0</td>\n",
       "      <td>0</td>\n",
       "      <td>0</td>\n",
       "      <td>0</td>\n",
       "      <td>0</td>\n",
       "    </tr>\n",
       "    <tr>\n",
       "      <th>43066</th>\n",
       "      <td>2011.0</td>\n",
       "      <td>38.0</td>\n",
       "      <td>1.0</td>\n",
       "      <td>13.0</td>\n",
       "      <td>26030.0</td>\n",
       "      <td>0.0</td>\n",
       "      <td>0</td>\n",
       "      <td>0</td>\n",
       "      <td>0</td>\n",
       "      <td>0</td>\n",
       "      <td>1</td>\n",
       "      <td>0</td>\n",
       "      <td>0</td>\n",
       "      <td>1</td>\n",
       "      <td>0</td>\n",
       "      <td>0</td>\n",
       "      <td>0</td>\n",
       "      <td>0</td>\n",
       "      <td>0</td>\n",
       "    </tr>\n",
       "    <tr>\n",
       "      <th>160043</th>\n",
       "      <td>2016.0</td>\n",
       "      <td>69.0</td>\n",
       "      <td>2.0</td>\n",
       "      <td>6.0</td>\n",
       "      <td>29910.0</td>\n",
       "      <td>1.0</td>\n",
       "      <td>0</td>\n",
       "      <td>1</td>\n",
       "      <td>0</td>\n",
       "      <td>0</td>\n",
       "      <td>0</td>\n",
       "      <td>1</td>\n",
       "      <td>0</td>\n",
       "      <td>0</td>\n",
       "      <td>0</td>\n",
       "      <td>0</td>\n",
       "      <td>0</td>\n",
       "      <td>0</td>\n",
       "      <td>0</td>\n",
       "    </tr>\n",
       "  </tbody>\n",
       "</table>\n",
       "</div>"
      ],
      "text/plain": [
       "          YEAR   AGE  SEX  EDUCYR  FTOTVAL  DIABETICEV  MARSTAT_10  \\\n",
       "87489   2013.0  23.0  1.0    12.0   1500.0         0.0           0   \n",
       "71069   2012.0  23.0  2.0    12.0  21000.0         0.0           0   \n",
       "121339  2014.0  60.0  2.0    12.0  45488.0         0.0           1   \n",
       "43066   2011.0  38.0  1.0    13.0  26030.0         0.0           0   \n",
       "160043  2016.0  69.0  2.0     6.0  29910.0         1.0           0   \n",
       "\n",
       "        MARSTAT_20  MARSTAT_30  MARSTAT_40  MARSTAT_50  HIDEG_10  HIDEG_20  \\\n",
       "87489            0           0           0           1         0         0   \n",
       "71069            0           0           0           1         0         0   \n",
       "121339           0           0           0           0         0         0   \n",
       "43066            0           0           0           1         0         0   \n",
       "160043           1           0           0           0         1         0   \n",
       "\n",
       "        HIDEG_30  HIDEG_40  HIDEG_51  HIDEG_52  HIDEG_53  HEARTATTEV  \n",
       "87489          0         0         0         0         0           0  \n",
       "71069          1         0         0         0         0           0  \n",
       "121339         0         0         0         0         0           0  \n",
       "43066          1         0         0         0         0           0  \n",
       "160043         0         0         0         0         0           0  "
      ]
     },
     "execution_count": 124,
     "metadata": {},
     "output_type": "execute_result"
    }
   ],
   "source": [
    "basetable.head()"
   ]
  },
  {
   "cell_type": "code",
   "execution_count": 68,
   "metadata": {},
   "outputs": [
    {
     "data": {
      "text/plain": [
       "0.8203466995444003"
      ]
     },
     "execution_count": 68,
     "metadata": {},
     "output_type": "execute_result"
    }
   ],
   "source": [
    "X = basetable.drop(target_variable, axis=1)\n",
    "y = basetable[target_variable]#.values.ravel()\n",
    "logreg = linear_model.LogisticRegression(solver='lbfgs', max_iter=200)\n",
    "logreg.fit(X, y)\n",
    "predictions = logreg.predict_proba(X)[:,1]\n",
    "auc = roc_auc_score(y, predictions)\n",
    "auc"
   ]
  },
  {
   "cell_type": "code",
   "execution_count": 69,
   "metadata": {},
   "outputs": [
    {
     "name": "stdout",
     "output_type": "stream",
     "text": [
      "0.12927989156858594\n",
      "0.1259125561457703\n",
      "0.12416957628172752\n",
      "0.12393051471043427\n",
      "0.12371874634048181\n",
      "0.12340273844082376\n",
      "['AGE', 'DIABETICEV', 'SEX', 'HIDEG_20', 'MARSTAT_10', 'MARSTAT_50']\n"
     ]
    }
   ],
   "source": [
    "max_number_variables = 6\n",
    "number_iterations = min(max_number_variables, len(variables))\n",
    "current_variables = []\n",
    "for i in range(0,number_iterations):\n",
    "    next_var = next_best(current_variables, variables, [target_variable], basetable)\n",
    "    current_variables = current_variables + [next_var]\n",
    "    variables.remove(next_var)\n",
    "print(current_variables)"
   ]
  },
  {
   "cell_type": "code",
   "execution_count": 70,
   "metadata": {},
   "outputs": [
    {
     "data": {
      "text/plain": [
       "LogisticRegression(C=1.0, class_weight=None, dual=False, fit_intercept=True,\n",
       "          intercept_scaling=1, max_iter=200, multi_class='warn',\n",
       "          n_jobs=None, penalty='l2', random_state=None, solver='lbfgs',\n",
       "          tol=0.0001, verbose=0, warm_start=False)"
      ]
     },
     "execution_count": 70,
     "metadata": {},
     "output_type": "execute_result"
    }
   ],
   "source": [
    "logreg.fit(basetable[current_variables],basetable[target_variable])"
   ]
  },
  {
   "cell_type": "code",
   "execution_count": 71,
   "metadata": {},
   "outputs": [],
   "source": [
    "predictions = logreg.predict_proba(X_val[current_variables])\n",
    "auc = roc_auc_score(y_val, predictions[:,1])\n",
    "logloss = log_loss(y_val, predictions[:,1])"
   ]
  },
  {
   "cell_type": "code",
   "execution_count": 72,
   "metadata": {},
   "outputs": [
    {
     "name": "stdout",
     "output_type": "stream",
     "text": [
      "0.84277693793223\n",
      "0.1290280886873399\n"
     ]
    }
   ],
   "source": [
    "print(auc)\n",
    "print(logloss)"
   ]
  },
  {
   "cell_type": "code",
   "execution_count": 73,
   "metadata": {},
   "outputs": [
    {
     "name": "stderr",
     "output_type": "stream",
     "text": [
      "C:\\Users\\Karsten\\Anaconda3\\lib\\site-packages\\matplotlib\\cbook\\deprecation.py:107: MatplotlibDeprecationWarning: Passing one of 'on', 'true', 'off', 'false' as a boolean is deprecated; use an actual boolean (True/False) instead.\n",
      "  warnings.warn(message, mplDeprecation, stacklevel=1)\n"
     ]
    },
    {
     "data": {
      "image/png": "[encoded data removed]",
      "text/plain": [
       "<Figure size 432x288 with 1 Axes>"
      ]
     },
     "metadata": {
      "needs_background": "light"
     },
     "output_type": "display_data"
    }
   ],
   "source": [
    "skplt.metrics.plot_cumulative_gain(y_val, predictions)\n",
    "plt.show()"
   ]
  },
  {
   "cell_type": "code",
   "execution_count": 74,
   "metadata": {},
   "outputs": [
    {
     "data": {
      "text/plain": [
       "array([[1.0606423 , 2.7976342 , 0.46932477, 1.89415247, 0.68519523,\n",
       "        0.586858  ]])"
      ]
     },
     "execution_count": 74,
     "metadata": {},
     "output_type": "execute_result"
    }
   ],
   "source": [
    "np.exp(logreg.coef_)"
   ]
  },
  {
   "cell_type": "code",
   "execution_count": 75,
   "metadata": {},
   "outputs": [
    {
     "name": "stderr",
     "output_type": "stream",
     "text": [
      "C:\\Users\\Karsten\\Anaconda3\\lib\\site-packages\\ipykernel_launcher.py:14: FutureWarning: using a dict on a Series for aggregation\n",
      "is deprecated and will be removed in a future version\n",
      "  \n"
     ]
    }
   ],
   "source": [
    "pig_tables = {}\n",
    "for variable in current_variables:\n",
    "    # Create a predictor insight graph table\n",
    "    pig_table = create_pig_table(basetable, target_variable, variable)\n",
    "    # Add the table to the dictionary\n",
    "    pig_tables[variable] = pig_table"
   ]
  },
  {
   "cell_type": "code",
   "execution_count": 76,
   "metadata": {},
   "outputs": [
    {
     "name": "stdout",
     "output_type": "stream",
     "text": [
      "   DIABETICEV  Incidence    Size\n",
      "0         0.0   0.024397  120792\n",
      "1         1.0   0.122668   14046\n"
     ]
    }
   ],
   "source": [
    "print(pig_tables[\"DIABETICEV\"])"
   ]
  },
  {
   "cell_type": "code",
   "execution_count": 77,
   "metadata": {},
   "outputs": [],
   "source": [
    "#plot_pig(pig_table, \"DIABETICEV\")"
   ]
  },
  {
   "cell_type": "code",
   "execution_count": 78,
   "metadata": {},
   "outputs": [
    {
     "name": "stdout",
     "output_type": "stream",
     "text": [
      "Optimization terminated successfully.\n",
      "         Current function value: 0.138611\n",
      "         Iterations 9\n",
      "                         Results: Logit\n",
      "=================================================================\n",
      "Model:              Logit            Pseudo R-squared: 0.079     \n",
      "Dependent Variable: HEARTATTEV       AIC:              37392.0275\n",
      "Date:               2018-10-19 17:58 BIC:              37450.8984\n",
      "No. Observations:   134838           Log-Likelihood:   -18690.   \n",
      "Df Model:           5                LL-Null:          -20293.   \n",
      "Df Residuals:       134832           LLR p-value:      0.0000    \n",
      "Converged:          1.0000           Scale:            1.0000    \n",
      "No. Iterations:     9.0000                                       \n",
      "------------------------------------------------------------------\n",
      "              Coef.   Std.Err.     z      P>|z|    [0.025   0.975]\n",
      "------------------------------------------------------------------\n",
      "AGE           0.0082    0.0007   11.7515  0.0000   0.0068   0.0095\n",
      "DIABETICEV    1.1692    0.0339   34.5213  0.0000   1.1028   1.2355\n",
      "SEX          -1.9921    0.0291  -68.5419  0.0000  -2.0491  -1.9352\n",
      "HIDEG_20      0.2407    0.0793    3.0358  0.0024   0.0853   0.3961\n",
      "MARSTAT_10   -1.3879    0.0283  -48.9655  0.0000  -1.4434  -1.3323\n",
      "MARSTAT_50   -2.3791    0.0517  -45.9812  0.0000  -2.4805  -2.2777\n",
      "=================================================================\n",
      "\n"
     ]
    }
   ],
   "source": [
    "import statsmodels.api as sm\n",
    "logit_model=sm.Logit(y,basetable[current_variables])\n",
    "result=logit_model.fit()\n",
    "print(result.summary2())"
   ]
  },
  {
   "cell_type": "code",
   "execution_count": 79,
   "metadata": {},
   "outputs": [
    {
     "name": "stdout",
     "output_type": "stream",
     "text": [
      "[[43284     4]\n",
      " [ 1653     6]]\n"
     ]
    }
   ],
   "source": [
    "from sklearn.metrics import confusion_matrix\n",
    "confusion_matrix = confusion_matrix(y_val, logreg.predict(X_val[current_variables]))\n",
    "print(confusion_matrix)"
   ]
  },
  {
   "cell_type": "markdown",
   "metadata": {},
   "source": [
    "# Logistic Regression - Grid search"
   ]
  },
  {
   "cell_type": "code",
   "execution_count": 125,
   "metadata": {},
   "outputs": [],
   "source": [
    "param_grid_logreg = {\n",
    "    'C': [10, 100]\n",
    "}"
   ]
  },
  {
   "cell_type": "code",
   "execution_count": 126,
   "metadata": {},
   "outputs": [
    {
     "data": {
      "text/plain": [
       "GridSearchCV(cv=StratifiedKFold(n_splits=5, random_state=7, shuffle=True),\n",
       "       error_score='raise',\n",
       "       estimator=LogisticRegression(C=1.0, class_weight=None, dual=False, fit_intercept=True,\n",
       "          intercept_scaling=1, max_iter=100, multi_class='warn',\n",
       "          n_jobs=None, penalty='l1', random_state=None, solver='liblinear',\n",
       "          tol=0.0001, verbose=0, warm_start=False),\n",
       "       fit_params=None, iid='warn', n_jobs=None,\n",
       "       param_grid={'C': [10, 100]}, pre_dispatch='2*n_jobs', refit=True,\n",
       "       return_train_score='warn', scoring='neg_log_loss', verbose=0)"
      ]
     },
     "execution_count": 126,
     "metadata": {},
     "output_type": "execute_result"
    }
   ],
   "source": [
    "logreg2 = linear_model.LogisticRegression(penalty = 'l1', solver='liblinear') #'lbfgs')\n",
    "grid_logreg = GridSearchCV(logreg2, param_grid_logreg, cv=kfold, scoring='neg_log_loss', error_score='raise')\n",
    "grid_logreg.fit(train, Label)"
   ]
  },
  {
   "cell_type": "code",
   "execution_count": 127,
   "metadata": {},
   "outputs": [
    {
     "name": "stdout",
     "output_type": "stream",
     "text": [
      "-0.12360 (+/-0.00157) for {'C': 10}\n",
      "-0.12357 (+/-0.00162) for {'C': 100}\n"
     ]
    }
   ],
   "source": [
    "means = grid_logreg.cv_results_['mean_test_score']\n",
    "stds = grid_logreg.cv_results_['std_test_score']\n",
    "for mean, std, params in zip(means, stds, grid_logreg.cv_results_['params']):\n",
    "   print(\"%0.5f (+/-%0.05f) for %r\"\n",
    "   % (mean, std * 2, params))"
   ]
  },
  {
   "cell_type": "code",
   "execution_count": 128,
   "metadata": {},
   "outputs": [
    {
     "data": {
      "text/plain": [
       "LogisticRegression(C=100, class_weight=None, dual=False, fit_intercept=True,\n",
       "          intercept_scaling=1, max_iter=100, multi_class='warn',\n",
       "          n_jobs=None, penalty='l1', random_state=None, solver='liblinear',\n",
       "          tol=0.0001, verbose=0, warm_start=False)"
      ]
     },
     "execution_count": 128,
     "metadata": {},
     "output_type": "execute_result"
    }
   ],
   "source": [
    "grid_logreg.best_estimator_"
   ]
  },
  {
   "cell_type": "code",
   "execution_count": 130,
   "metadata": {},
   "outputs": [],
   "source": [
    "#grid_logreg.cv_results_"
   ]
  },
  {
   "cell_type": "code",
   "execution_count": 131,
   "metadata": {},
   "outputs": [
    {
     "data": {
      "text/plain": [
       "array([[-6.52583062e-04,  5.86875500e-02, -7.74099238e-01,\n",
       "         6.11154204e-03, -5.69818509e-06,  9.49927044e-01,\n",
       "        -1.15319594e+00, -1.01625263e+00, -9.82710072e-01,\n",
       "        -7.82573680e-01, -1.46165776e+00, -4.47132791e+00,\n",
       "        -1.72369003e+00, -1.25175897e+00, -1.80153093e+00,\n",
       "        -2.17990660e+00, -2.16216693e+00, -1.74303674e+00,\n",
       "        -1.80549124e+00, -1.82363262e+00]])"
      ]
     },
     "execution_count": 131,
     "metadata": {},
     "output_type": "execute_result"
    }
   ],
   "source": [
    "grid_logreg.best_estimator_.coef_"
   ]
  },
  {
   "cell_type": "code",
   "execution_count": 96,
   "metadata": {},
   "outputs": [
    {
     "name": "stdout",
     "output_type": "stream",
     "text": [
      "-0.124 (+/-0.004) for {'C': 3}\n"
     ]
    }
   ],
   "source": [
    "means = grid_logreg.cv_results_['mean_test_score']\n",
    "stds = grid_logreg.cv_results_['std_test_score']\n",
    "for mean, std, params in zip(means, stds, grid_logreg.cv_results_['params']):\n",
    "   print(\"%0.3f (+/-%0.03f) for %r\"\n",
    "   % (mean, std * 2, params))"
   ]
  },
  {
   "cell_type": "code",
   "execution_count": 97,
   "metadata": {},
   "outputs": [],
   "source": [
    "#grid_logreg.best_estimator_.coef_ @ train[10] + grid_logreg.best_estimator_.intercept_"
   ]
  },
  {
   "cell_type": "code",
   "execution_count": null,
   "metadata": {},
   "outputs": [],
   "source": []
  }
 ],
 "metadata": {
  "kernelspec": {
   "display_name": "Python 3",
   "language": "python",
   "name": "python3"
  },
  "language_info": {
   "codemirror_mode": {
    "name": "ipython",
    "version": 3
   },
   "file_extension": ".py",
   "mimetype": "text/x-python",
   "name": "python",
   "nbconvert_exporter": "python",
   "pygments_lexer": "ipython3",
   "version": "3.6.6"
  }
 },
 "nbformat": 4,
 "nbformat_minor": 2
}
