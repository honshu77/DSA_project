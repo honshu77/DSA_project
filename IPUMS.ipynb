{
 "cells": [
  {
   "cell_type": "code",
   "execution_count": 521,
   "metadata": {},
   "outputs": [],
   "source": [
    "import pandas as pd\n",
    "import numpy as np\n",
    "from sklearn import linear_model\n",
    "import scikitplot as skplt\n",
    "import matplotlib.pyplot as plt\n",
    "from sklearn.preprocessing import Imputer\n",
    "from sklearn.model_selection import train_test_split\n",
    "from sklearn.metrics import roc_auc_score\n",
    "import matplotlib\n",
    "import matplotlib.pyplot as plt"
   ]
  },
  {
   "cell_type": "code",
   "execution_count": 522,
   "metadata": {},
   "outputs": [],
   "source": [
    "def logreg_auc(variables, target, basetable):\n",
    "    X = basetable[variables]\n",
    "    y = basetable[target].values.ravel()\n",
    "    logreg = linear_model.LogisticRegression()\n",
    "    logreg.fit(X, y)\n",
    "    predictions = logreg.predict_proba(X)[:,1]\n",
    "    auc = roc_auc_score(y, predictions)\n",
    "    return(auc)\n",
    "\n",
    "def next_best(current_variables,candidate_variables, target, basetable):\n",
    "    best_auc = -1\n",
    "    best_variable = None\n",
    "    for v in candidate_variables:\n",
    "        auc_v = logreg_auc(current_variables + [v], target, basetable)\n",
    "        if auc_v >= best_auc:\n",
    "            best_auc = auc_v\n",
    "            best_variable = v\n",
    "    print(best_auc)\n",
    "    return best_variable"
   ]
  },
  {
   "cell_type": "code",
   "execution_count": 523,
   "metadata": {},
   "outputs": [],
   "source": [
    "data = pd.read_csv(\"data/data.csv\")"
   ]
  },
  {
   "cell_type": "code",
   "execution_count": 524,
   "metadata": {},
   "outputs": [
    {
     "data": {
      "text/html": [
       "<div>\n",
       "<style scoped>\n",
       "    .dataframe tbody tr th:only-of-type {\n",
       "        vertical-align: middle;\n",
       "    }\n",
       "\n",
       "    .dataframe tbody tr th {\n",
       "        vertical-align: top;\n",
       "    }\n",
       "\n",
       "    .dataframe thead th {\n",
       "        text-align: right;\n",
       "    }\n",
       "</style>\n",
       "<table border=\"1\" class=\"dataframe\">\n",
       "  <thead>\n",
       "    <tr style=\"text-align: right;\">\n",
       "      <th></th>\n",
       "      <th>Unnamed: 0</th>\n",
       "      <th>YEAR</th>\n",
       "      <th>SERIAL</th>\n",
       "      <th>DUID</th>\n",
       "      <th>PID</th>\n",
       "      <th>MEPSID</th>\n",
       "      <th>PANEL</th>\n",
       "      <th>PSUANN</th>\n",
       "      <th>STRATANN</th>\n",
       "      <th>PSUPLD</th>\n",
       "      <th>...</th>\n",
       "      <th>HEARTCONEV</th>\n",
       "      <th>HYPERTENEV</th>\n",
       "      <th>STROKEAGE</th>\n",
       "      <th>STROKEV</th>\n",
       "      <th>HYPERTENAGE</th>\n",
       "      <th>CHEARTDIAGE</th>\n",
       "      <th>HEARTATTAGE</th>\n",
       "      <th>CHOLHIGHAGE</th>\n",
       "      <th>DIABETICAGE</th>\n",
       "      <th>HPTOTNIGHT</th>\n",
       "    </tr>\n",
       "  </thead>\n",
       "  <tbody>\n",
       "    <tr>\n",
       "      <th>0</th>\n",
       "      <td>1</td>\n",
       "      <td>2010</td>\n",
       "      <td>1</td>\n",
       "      <td>10007</td>\n",
       "      <td>101</td>\n",
       "      <td>1000710115</td>\n",
       "      <td>15</td>\n",
       "      <td>2</td>\n",
       "      <td>1024</td>\n",
       "      <td>2.0</td>\n",
       "      <td>...</td>\n",
       "      <td>1</td>\n",
       "      <td>2</td>\n",
       "      <td>0</td>\n",
       "      <td>1</td>\n",
       "      <td>24</td>\n",
       "      <td>96</td>\n",
       "      <td>96</td>\n",
       "      <td>27</td>\n",
       "      <td>96</td>\n",
       "      <td>0</td>\n",
       "    </tr>\n",
       "    <tr>\n",
       "      <th>1</th>\n",
       "      <td>2</td>\n",
       "      <td>2010</td>\n",
       "      <td>1</td>\n",
       "      <td>10007</td>\n",
       "      <td>102</td>\n",
       "      <td>1000710215</td>\n",
       "      <td>15</td>\n",
       "      <td>2</td>\n",
       "      <td>1024</td>\n",
       "      <td>2.0</td>\n",
       "      <td>...</td>\n",
       "      <td>1</td>\n",
       "      <td>1</td>\n",
       "      <td>0</td>\n",
       "      <td>1</td>\n",
       "      <td>96</td>\n",
       "      <td>96</td>\n",
       "      <td>96</td>\n",
       "      <td>96</td>\n",
       "      <td>96</td>\n",
       "      <td>0</td>\n",
       "    </tr>\n",
       "    <tr>\n",
       "      <th>2</th>\n",
       "      <td>3</td>\n",
       "      <td>2010</td>\n",
       "      <td>1</td>\n",
       "      <td>10007</td>\n",
       "      <td>103</td>\n",
       "      <td>1000710315</td>\n",
       "      <td>15</td>\n",
       "      <td>2</td>\n",
       "      <td>1024</td>\n",
       "      <td>2.0</td>\n",
       "      <td>...</td>\n",
       "      <td>0</td>\n",
       "      <td>0</td>\n",
       "      <td>0</td>\n",
       "      <td>0</td>\n",
       "      <td>96</td>\n",
       "      <td>96</td>\n",
       "      <td>96</td>\n",
       "      <td>96</td>\n",
       "      <td>96</td>\n",
       "      <td>0</td>\n",
       "    </tr>\n",
       "    <tr>\n",
       "      <th>3</th>\n",
       "      <td>4</td>\n",
       "      <td>2010</td>\n",
       "      <td>1</td>\n",
       "      <td>10007</td>\n",
       "      <td>104</td>\n",
       "      <td>1000710415</td>\n",
       "      <td>15</td>\n",
       "      <td>2</td>\n",
       "      <td>1024</td>\n",
       "      <td>2.0</td>\n",
       "      <td>...</td>\n",
       "      <td>0</td>\n",
       "      <td>0</td>\n",
       "      <td>0</td>\n",
       "      <td>0</td>\n",
       "      <td>96</td>\n",
       "      <td>96</td>\n",
       "      <td>96</td>\n",
       "      <td>96</td>\n",
       "      <td>96</td>\n",
       "      <td>0</td>\n",
       "    </tr>\n",
       "    <tr>\n",
       "      <th>4</th>\n",
       "      <td>5</td>\n",
       "      <td>2010</td>\n",
       "      <td>2</td>\n",
       "      <td>10008</td>\n",
       "      <td>101</td>\n",
       "      <td>1000810115</td>\n",
       "      <td>15</td>\n",
       "      <td>1</td>\n",
       "      <td>1021</td>\n",
       "      <td>1.0</td>\n",
       "      <td>...</td>\n",
       "      <td>1</td>\n",
       "      <td>1</td>\n",
       "      <td>0</td>\n",
       "      <td>1</td>\n",
       "      <td>96</td>\n",
       "      <td>96</td>\n",
       "      <td>96</td>\n",
       "      <td>96</td>\n",
       "      <td>96</td>\n",
       "      <td>0</td>\n",
       "    </tr>\n",
       "  </tbody>\n",
       "</table>\n",
       "<p>5 rows × 38 columns</p>\n",
       "</div>"
      ],
      "text/plain": [
       "   Unnamed: 0  YEAR  SERIAL   DUID  PID      MEPSID  PANEL  PSUANN  STRATANN  \\\n",
       "0           1  2010       1  10007  101  1000710115     15       2      1024   \n",
       "1           2  2010       1  10007  102  1000710215     15       2      1024   \n",
       "2           3  2010       1  10007  103  1000710315     15       2      1024   \n",
       "3           4  2010       1  10007  104  1000710415     15       2      1024   \n",
       "4           5  2010       2  10008  101  1000810115     15       1      1021   \n",
       "\n",
       "   PSUPLD     ...      HEARTCONEV  HYPERTENEV  STROKEAGE  STROKEV  \\\n",
       "0     2.0     ...               1           2          0        1   \n",
       "1     2.0     ...               1           1          0        1   \n",
       "2     2.0     ...               0           0          0        0   \n",
       "3     2.0     ...               0           0          0        0   \n",
       "4     1.0     ...               1           1          0        1   \n",
       "\n",
       "   HYPERTENAGE  CHEARTDIAGE  HEARTATTAGE  CHOLHIGHAGE  DIABETICAGE  HPTOTNIGHT  \n",
       "0           24           96           96           27           96           0  \n",
       "1           96           96           96           96           96           0  \n",
       "2           96           96           96           96           96           0  \n",
       "3           96           96           96           96           96           0  \n",
       "4           96           96           96           96           96           0  \n",
       "\n",
       "[5 rows x 38 columns]"
      ]
     },
     "execution_count": 524,
     "metadata": {},
     "output_type": "execute_result"
    }
   ],
   "source": [
    "data.head()"
   ]
  },
  {
   "cell_type": "code",
   "execution_count": 525,
   "metadata": {},
   "outputs": [
    {
     "data": {
      "text/plain": [
       "Unnamed: 0       int64\n",
       "YEAR             int64\n",
       "SERIAL           int64\n",
       "DUID             int64\n",
       "PID              int64\n",
       "MEPSID           int64\n",
       "PANEL            int64\n",
       "PSUANN           int64\n",
       "STRATANN         int64\n",
       "PSUPLD         float64\n",
       "STRATAPLD      float64\n",
       "PANELYR          int64\n",
       "RELYR            int64\n",
       "PERNUM           int64\n",
       "PERWEIGHT      float64\n",
       "SAQWEIGHT      float64\n",
       "DIABWEIGHT     float64\n",
       "AGE              int64\n",
       "SEX              int64\n",
       "MARSTAT          int64\n",
       "BIRTHYR          int64\n",
       "EDUC             int64\n",
       "EDUCYR         float64\n",
       "HIDEG          float64\n",
       "INCTOT         float64\n",
       "FTOTVAL        float64\n",
       "DIABETICEV       int64\n",
       "HEARTATTEV       int64\n",
       "HEARTCONEV       int64\n",
       "HYPERTENEV       int64\n",
       "STROKEAGE        int64\n",
       "STROKEV          int64\n",
       "HYPERTENAGE      int64\n",
       "CHEARTDIAGE      int64\n",
       "HEARTATTAGE      int64\n",
       "CHOLHIGHAGE      int64\n",
       "DIABETICAGE      int64\n",
       "HPTOTNIGHT       int64\n",
       "dtype: object"
      ]
     },
     "execution_count": 525,
     "metadata": {},
     "output_type": "execute_result"
    }
   ],
   "source": [
    "data.dtypes"
   ]
  },
  {
   "cell_type": "code",
   "execution_count": 526,
   "metadata": {},
   "outputs": [],
   "source": [
    "target_variable = \"HEARTATTEV\"\n",
    "candidate_variables = []"
   ]
  },
  {
   "cell_type": "code",
   "execution_count": 527,
   "metadata": {},
   "outputs": [],
   "source": [
    "#binary classification of target variable\n",
    "data.drop(data[-data[target_variable].isin([1, 2])].index, inplace = True)\n",
    "data.loc[data[target_variable] == 1,target_variable] = 0\n",
    "data.loc[data[target_variable] == 2,target_variable] = 1\n",
    "data = data.reset_index(drop = True)"
   ]
  },
  {
   "cell_type": "code",
   "execution_count": 528,
   "metadata": {},
   "outputs": [
    {
     "data": {
      "text/plain": [
       "<matplotlib.axes._subplots.AxesSubplot at 0x270a682d278>"
      ]
     },
     "execution_count": 528,
     "metadata": {},
     "output_type": "execute_result"
    },
    {
     "data": {
      "image/png": "[encoded data removed]",
      "text/plain": [
       "<Figure size 432x288 with 1 Axes>"
      ]
     },
     "metadata": {
      "needs_background": "light"
     },
     "output_type": "display_data"
    }
   ],
   "source": [
    "data['YEAR'].value_counts().sort_index().plot(kind='bar')"
   ]
  },
  {
   "cell_type": "code",
   "execution_count": 529,
   "metadata": {},
   "outputs": [],
   "source": [
    "candidate_variables.extend([\"YEAR\"])"
   ]
  },
  {
   "cell_type": "code",
   "execution_count": 530,
   "metadata": {},
   "outputs": [
    {
     "data": {
      "text/plain": [
       "Series([], Name: test, dtype: int64)"
      ]
     },
     "execution_count": 530,
     "metadata": {},
     "output_type": "execute_result"
    }
   ],
   "source": [
    "#BIRTHYR more complete as for variable AGE all ages > 85 are set as 85 and there are missing ages (99)\n",
    "#check that BIRTHYR consistent\n",
    "data['test'] = data['YEAR'] - data['BIRTHYR'] - data['AGE']\n",
    "data.loc[data['AGE'] > 85, 'test'] = 0\n",
    "data.loc[abs(data['test'])>1, 'test']"
   ]
  },
  {
   "cell_type": "code",
   "execution_count": 531,
   "metadata": {},
   "outputs": [],
   "source": [
    "#recalculate age\n",
    "data['AGE'] = data['YEAR'] - data['BIRTHYR']\n",
    "data = data.drop(['test'],axis=1)\n",
    "candidate_variables.extend([\"AGE\"])"
   ]
  },
  {
   "cell_type": "code",
   "execution_count": 532,
   "metadata": {},
   "outputs": [
    {
     "data": {
      "text/plain": [
       "count    179785.000000\n",
       "mean       9416.623627\n",
       "std        8351.204369\n",
       "min           0.000000\n",
       "25%        3784.611328\n",
       "50%        6900.357910\n",
       "75%       12644.689453\n",
       "max      102133.750000\n",
       "Name: PERWEIGHT, dtype: float64"
      ]
     },
     "execution_count": 532,
     "metadata": {},
     "output_type": "execute_result"
    }
   ],
   "source": [
    "#PERWEIGHT technical variable to reweight samples \n",
    "data[\"PERWEIGHT\"].describe()"
   ]
  },
  {
   "cell_type": "code",
   "execution_count": 533,
   "metadata": {},
   "outputs": [
    {
     "data": {
      "text/plain": [
       "15100"
      ]
     },
     "execution_count": 533,
     "metadata": {},
     "output_type": "execute_result"
    }
   ],
   "source": [
    "sum(data['DIABWEIGHT'] != 0)"
   ]
  },
  {
   "cell_type": "code",
   "execution_count": 534,
   "metadata": {},
   "outputs": [
    {
     "data": {
      "text/plain": [
       "array([1, 2], dtype=int64)"
      ]
     },
     "execution_count": 534,
     "metadata": {},
     "output_type": "execute_result"
    }
   ],
   "source": [
    "data['SEX'].unique()"
   ]
  },
  {
   "cell_type": "code",
   "execution_count": 535,
   "metadata": {},
   "outputs": [
    {
     "data": {
      "image/png": "[encoded data removed]",
      "text/plain": [
       "<Figure size 432x288 with 1 Axes>"
      ]
     },
     "metadata": {
      "needs_background": "light"
     },
     "output_type": "display_data"
    }
   ],
   "source": [
    "pd.crosstab(data.SEX,data[target_variable]).plot(kind='bar')\n",
    "plt.title('Bar Chart of Sex vs Target')\n",
    "plt.xlabel('Sex')\n",
    "plt.ylabel('Proportion of Customers')\n",
    "plt.savefig('sex_vs_tgt')"
   ]
  },
  {
   "cell_type": "code",
   "execution_count": 536,
   "metadata": {},
   "outputs": [],
   "source": [
    "candidate_variables.extend([\"SEX\"])"
   ]
  },
  {
   "cell_type": "code",
   "execution_count": 537,
   "metadata": {},
   "outputs": [
    {
     "data": {
      "text/plain": [
       "dtype('int64')"
      ]
     },
     "execution_count": 537,
     "metadata": {},
     "output_type": "execute_result"
    }
   ],
   "source": [
    "data['MARSTAT'].dtype"
   ]
  },
  {
   "cell_type": "code",
   "execution_count": 538,
   "metadata": {},
   "outputs": [
    {
     "data": {
      "image/png": "[encoded data removed]",
      "text/plain": [
       "<Figure size 432x288 with 1 Axes>"
      ]
     },
     "metadata": {
      "needs_background": "light"
     },
     "output_type": "display_data"
    }
   ],
   "source": [
    "data['MARSTAT'] = data['MARSTAT'].astype('object')\n",
    "data['MARSTAT'].value_counts().sort_index().plot(\"bar\");\n",
    "#combine 0 and 99"
   ]
  },
  {
   "cell_type": "code",
   "execution_count": 539,
   "metadata": {},
   "outputs": [
    {
     "data": {
      "image/png": "[encoded data removed]",
      "text/plain": [
       "<Figure size 432x288 with 1 Axes>"
      ]
     },
     "metadata": {
      "needs_background": "light"
     },
     "output_type": "display_data"
    }
   ],
   "source": [
    "table=pd.crosstab(data.MARSTAT,data[target_variable])\n",
    "table.div(table.sum(1).astype(float), axis=0).plot(kind='bar', stacked=True)\n",
    "plt.title('Bar Chart of Marital Status vs Target')\n",
    "plt.xlabel('Marital Status')\n",
    "plt.ylabel('Proportion of Target')\n",
    "plt.savefig('marital_vs_tgt')"
   ]
  },
  {
   "cell_type": "code",
   "execution_count": 540,
   "metadata": {},
   "outputs": [],
   "source": [
    "candidate_variables.extend([\"MARSTAT\"])"
   ]
  },
  {
   "cell_type": "code",
   "execution_count": 541,
   "metadata": {},
   "outputs": [
    {
     "data": {
      "text/plain": [
       "array([604, 401, 603, 601, 999, 301, 201, 302, 203, 500, 202, 204, 103,\n",
       "       109, 996, 108, 106, 101, 105, 107, 104, 102, 998, 997,   0, 402,\n",
       "       403, 602, 200, 100, 600, 300], dtype=int64)"
      ]
     },
     "execution_count": 541,
     "metadata": {},
     "output_type": "execute_result"
    }
   ],
   "source": [
    "data['EDUC'].unique()"
   ]
  },
  {
   "cell_type": "code",
   "execution_count": 542,
   "metadata": {},
   "outputs": [
    {
     "data": {
      "image/png": "[encoded data removed]",
      "text/plain": [
       "<Figure size 432x288 with 1 Axes>"
      ]
     },
     "metadata": {
      "needs_background": "light"
     },
     "output_type": "display_data"
    }
   ],
   "source": [
    "data['EDUCYR'].value_counts().sort_index().plot(\"bar\");\n",
    "#review if correlation high enough to just use one of two"
   ]
  },
  {
   "cell_type": "code",
   "execution_count": 543,
   "metadata": {},
   "outputs": [],
   "source": [
    "# regroup different types of unknown\n",
    "data.loc[data['EDUCYR'].isin([96, 97, 98, 99]),'EDUCYR'] = None"
   ]
  },
  {
   "cell_type": "code",
   "execution_count": 544,
   "metadata": {},
   "outputs": [
    {
     "data": {
      "image/png": "[encoded data removed]",
      "text/plain": [
       "<Figure size 432x288 with 1 Axes>"
      ]
     },
     "metadata": {
      "needs_background": "light"
     },
     "output_type": "display_data"
    }
   ],
   "source": [
    "table=pd.crosstab(data.EDUCYR,data[target_variable])\n",
    "table.div(table.sum(1).astype(float), axis=0).plot(kind='bar', stacked=True)\n",
    "plt.title('Bar Chart of Number of education years vs Target')\n",
    "plt.xlabel('Education Years')\n",
    "plt.ylabel('Proportion of Target')\n",
    "plt.savefig('educyr_vs_tgt')"
   ]
  },
  {
   "cell_type": "code",
   "execution_count": 545,
   "metadata": {},
   "outputs": [],
   "source": [
    "candidate_variables.extend([\"EDUCYR\"])"
   ]
  },
  {
   "cell_type": "code",
   "execution_count": 546,
   "metadata": {},
   "outputs": [
    {
     "data": {
      "image/png": "[encoded data removed]",
      "text/plain": [
       "<Figure size 432x288 with 1 Axes>"
      ]
     },
     "metadata": {
      "needs_background": "light"
     },
     "output_type": "display_data"
    }
   ],
   "source": [
    "data['HIDEG'] = data['HIDEG'].astype('object')\n",
    "data['HIDEG'].value_counts().sort_index().plot(\"bar\");"
   ]
  },
  {
   "cell_type": "code",
   "execution_count": 547,
   "metadata": {},
   "outputs": [],
   "source": [
    "# regroup different types of unknown\n",
    "data.loc[data['HIDEG'].isin([96, 97, 98, 99]),'HIDEG'] = None"
   ]
  },
  {
   "cell_type": "code",
   "execution_count": 548,
   "metadata": {},
   "outputs": [
    {
     "data": {
      "image/png": "[encoded data removed]",
      "text/plain": [
       "<Figure size 432x288 with 1 Axes>"
      ]
     },
     "metadata": {
      "needs_background": "light"
     },
     "output_type": "display_data"
    }
   ],
   "source": [
    "table=pd.crosstab(data.HIDEG,data[target_variable])\n",
    "table.div(table.sum(1).astype(float), axis=0).plot(kind='bar', stacked=True)\n",
    "plt.title('Bar Chart of Highest Degree vs Target')\n",
    "plt.xlabel('Highest Degree')\n",
    "plt.ylabel('Proportion of Target')\n",
    "plt.savefig('hideg_vs_tgt')"
   ]
  },
  {
   "cell_type": "code",
   "execution_count": 549,
   "metadata": {},
   "outputs": [],
   "source": [
    "candidate_variables.extend([\"HIDEG\"])"
   ]
  },
  {
   "cell_type": "code",
   "execution_count": 550,
   "metadata": {},
   "outputs": [
    {
     "data": {
      "text/plain": [
       "count    179785.000000\n",
       "mean      29824.530645\n",
       "std       33950.942183\n",
       "min     -204643.000000\n",
       "25%        8088.000000\n",
       "50%       20000.000000\n",
       "75%       40000.000000\n",
       "max      731652.960000\n",
       "Name: INCTOT, dtype: float64"
      ]
     },
     "execution_count": 550,
     "metadata": {},
     "output_type": "execute_result"
    }
   ],
   "source": [
    "data[\"INCTOT\"].describe()"
   ]
  },
  {
   "cell_type": "code",
   "execution_count": 551,
   "metadata": {},
   "outputs": [
    {
     "data": {
      "text/plain": [
       "count    179785.000000\n",
       "mean      61156.177518\n",
       "std       57114.272213\n",
       "min     -258220.000000\n",
       "25%       21855.000000\n",
       "50%       45000.000000\n",
       "75%       82930.000000\n",
       "max      731653.000000\n",
       "Name: FTOTVAL, dtype: float64"
      ]
     },
     "execution_count": 551,
     "metadata": {},
     "output_type": "execute_result"
    }
   ],
   "source": [
    "data[\"FTOTVAL\"].describe()"
   ]
  },
  {
   "cell_type": "code",
   "execution_count": 552,
   "metadata": {},
   "outputs": [],
   "source": [
    "candidate_variables.extend([\"FTOTVAL\"])"
   ]
  },
  {
   "cell_type": "code",
   "execution_count": 553,
   "metadata": {},
   "outputs": [
    {
     "data": {
      "text/plain": [
       "1    160998\n",
       "2     18755\n",
       "9        27\n",
       "7         5\n",
       "Name: DIABETICEV, dtype: int64"
      ]
     },
     "execution_count": 553,
     "metadata": {},
     "output_type": "execute_result"
    }
   ],
   "source": [
    "data['DIABETICEV'].value_counts()"
   ]
  },
  {
   "cell_type": "code",
   "execution_count": 554,
   "metadata": {},
   "outputs": [
    {
     "data": {
      "image/png": "[encoded data removed]",
      "text/plain": [
       "<Figure size 432x288 with 1 Axes>"
      ]
     },
     "metadata": {
      "needs_background": "light"
     },
     "output_type": "display_data"
    }
   ],
   "source": [
    "table=pd.crosstab(data.DIABETICEV,data[target_variable])\n",
    "table.div(table.sum(1).astype(float), axis=0).plot(kind='bar', stacked=True)\n",
    "plt.title('Bar Chart of Diabetic Event vs Target')\n",
    "plt.xlabel('Diabetic Event')\n",
    "plt.ylabel('Proportion of Target')\n",
    "plt.savefig('hideg_vs_tgt')"
   ]
  },
  {
   "cell_type": "code",
   "execution_count": 555,
   "metadata": {},
   "outputs": [],
   "source": [
    "data.loc[data['DIABETICEV'].isin([1, 7, 9]),'DIABETICEV'] = 0\n",
    "data.loc[data['DIABETICEV'] == 2,'DIABETICEV'] = 1"
   ]
  },
  {
   "cell_type": "code",
   "execution_count": 556,
   "metadata": {},
   "outputs": [],
   "source": [
    "candidate_variables.extend([\"DIABETICEV\"])"
   ]
  },
  {
   "cell_type": "code",
   "execution_count": 557,
   "metadata": {},
   "outputs": [
    {
     "data": {
      "text/plain": [
       "['YEAR', 'AGE', 'SEX', 'MARSTAT', 'EDUCYR', 'HIDEG', 'FTOTVAL', 'DIABETICEV']"
      ]
     },
     "execution_count": 557,
     "metadata": {},
     "output_type": "execute_result"
    }
   ],
   "source": [
    "candidate_variables"
   ]
  },
  {
   "cell_type": "code",
   "execution_count": 558,
   "metadata": {},
   "outputs": [],
   "source": [
    "#candidate_variables = ['YEAR', 'PERWEIGHT', 'SAQWEIGHT', 'AGE', 'SEX', 'MARSTAT', 'EDUCYR', 'HIDEG', 'INCTOT', 'FTOTVAL', 'DIABETICEV']"
   ]
  },
  {
   "cell_type": "code",
   "execution_count": 559,
   "metadata": {},
   "outputs": [],
   "source": [
    "train = data[candidate_variables]\n",
    "Label = data[target_variable]"
   ]
  },
  {
   "cell_type": "code",
   "execution_count": 560,
   "metadata": {},
   "outputs": [
    {
     "data": {
      "text/plain": [
       "(179785, 8)"
      ]
     },
     "execution_count": 560,
     "metadata": {},
     "output_type": "execute_result"
    }
   ],
   "source": [
    "train.shape"
   ]
  },
  {
   "cell_type": "code",
   "execution_count": 561,
   "metadata": {},
   "outputs": [],
   "source": [
    "cat_features = [train.columns[i] for i, j in enumerate(train.dtypes) if (j == \"object\" or j == \"bool\")]\n",
    "numeric_features = [train.columns[i] for i, j in enumerate(train.dtypes) if j in [\"int64\", \"float64\"]]"
   ]
  },
  {
   "cell_type": "code",
   "execution_count": 562,
   "metadata": {},
   "outputs": [
    {
     "data": {
      "text/plain": [
       "['MARSTAT', 'HIDEG']"
      ]
     },
     "execution_count": 562,
     "metadata": {},
     "output_type": "execute_result"
    }
   ],
   "source": [
    "cat_features"
   ]
  },
  {
   "cell_type": "code",
   "execution_count": 563,
   "metadata": {},
   "outputs": [
    {
     "data": {
      "text/plain": [
       "['YEAR', 'AGE', 'SEX', 'EDUCYR', 'FTOTVAL', 'DIABETICEV']"
      ]
     },
     "execution_count": 563,
     "metadata": {},
     "output_type": "execute_result"
    }
   ],
   "source": [
    "numeric_features"
   ]
  },
  {
   "cell_type": "markdown",
   "metadata": {},
   "source": [
    "def check_discretize(basetable, variable, threshold):\n",
    "    return(len(basetable.groupby(variable))>threshold)\n",
    "threshold = 5\n",
    "number_bins = 5\n",
    "for variable in numeric_features:\n",
    "    if check_discretize(basetable, variable, threshold):\n",
    "        new_variable = \"disc\" + variable\n",
    "        basetable[new_variable] = pd.qcut(basetable[variable], number_bins)"
   ]
  },
  {
   "cell_type": "markdown",
   "metadata": {},
   "source": [
    "# Dummy variables"
   ]
  },
  {
   "cell_type": "code",
   "execution_count": 564,
   "metadata": {},
   "outputs": [
    {
     "data": {
      "text/html": [
       "<div>\n",
       "<style scoped>\n",
       "    .dataframe tbody tr th:only-of-type {\n",
       "        vertical-align: middle;\n",
       "    }\n",
       "\n",
       "    .dataframe tbody tr th {\n",
       "        vertical-align: top;\n",
       "    }\n",
       "\n",
       "    .dataframe thead th {\n",
       "        text-align: right;\n",
       "    }\n",
       "</style>\n",
       "<table border=\"1\" class=\"dataframe\">\n",
       "  <thead>\n",
       "    <tr style=\"text-align: right;\">\n",
       "      <th></th>\n",
       "      <th>MARSTAT</th>\n",
       "      <th>HIDEG</th>\n",
       "      <th>MARSTAT_10</th>\n",
       "      <th>MARSTAT_20</th>\n",
       "      <th>MARSTAT_30</th>\n",
       "      <th>MARSTAT_40</th>\n",
       "      <th>MARSTAT_50</th>\n",
       "      <th>MARSTAT_99</th>\n",
       "      <th>HIDEG_10.0</th>\n",
       "      <th>HIDEG_20.0</th>\n",
       "      <th>HIDEG_30.0</th>\n",
       "      <th>HIDEG_40.0</th>\n",
       "      <th>HIDEG_51.0</th>\n",
       "      <th>HIDEG_52.0</th>\n",
       "      <th>HIDEG_53.0</th>\n",
       "    </tr>\n",
       "  </thead>\n",
       "  <tbody>\n",
       "    <tr>\n",
       "      <th>0</th>\n",
       "      <td>10</td>\n",
       "      <td>53</td>\n",
       "      <td>1</td>\n",
       "      <td>0</td>\n",
       "      <td>0</td>\n",
       "      <td>0</td>\n",
       "      <td>0</td>\n",
       "      <td>0</td>\n",
       "      <td>0</td>\n",
       "      <td>0</td>\n",
       "      <td>0</td>\n",
       "      <td>0</td>\n",
       "      <td>0</td>\n",
       "      <td>0</td>\n",
       "      <td>1</td>\n",
       "    </tr>\n",
       "    <tr>\n",
       "      <th>1</th>\n",
       "      <td>10</td>\n",
       "      <td>30</td>\n",
       "      <td>1</td>\n",
       "      <td>0</td>\n",
       "      <td>0</td>\n",
       "      <td>0</td>\n",
       "      <td>0</td>\n",
       "      <td>0</td>\n",
       "      <td>0</td>\n",
       "      <td>0</td>\n",
       "      <td>1</td>\n",
       "      <td>0</td>\n",
       "      <td>0</td>\n",
       "      <td>0</td>\n",
       "      <td>0</td>\n",
       "    </tr>\n",
       "    <tr>\n",
       "      <th>2</th>\n",
       "      <td>10</td>\n",
       "      <td>52</td>\n",
       "      <td>1</td>\n",
       "      <td>0</td>\n",
       "      <td>0</td>\n",
       "      <td>0</td>\n",
       "      <td>0</td>\n",
       "      <td>0</td>\n",
       "      <td>0</td>\n",
       "      <td>0</td>\n",
       "      <td>0</td>\n",
       "      <td>0</td>\n",
       "      <td>0</td>\n",
       "      <td>1</td>\n",
       "      <td>0</td>\n",
       "    </tr>\n",
       "    <tr>\n",
       "      <th>3</th>\n",
       "      <td>10</td>\n",
       "      <td>51</td>\n",
       "      <td>1</td>\n",
       "      <td>0</td>\n",
       "      <td>0</td>\n",
       "      <td>0</td>\n",
       "      <td>0</td>\n",
       "      <td>0</td>\n",
       "      <td>0</td>\n",
       "      <td>0</td>\n",
       "      <td>0</td>\n",
       "      <td>0</td>\n",
       "      <td>1</td>\n",
       "      <td>0</td>\n",
       "      <td>0</td>\n",
       "    </tr>\n",
       "    <tr>\n",
       "      <th>4</th>\n",
       "      <td>50</td>\n",
       "      <td>None</td>\n",
       "      <td>0</td>\n",
       "      <td>0</td>\n",
       "      <td>0</td>\n",
       "      <td>0</td>\n",
       "      <td>1</td>\n",
       "      <td>0</td>\n",
       "      <td>0</td>\n",
       "      <td>0</td>\n",
       "      <td>0</td>\n",
       "      <td>0</td>\n",
       "      <td>0</td>\n",
       "      <td>0</td>\n",
       "      <td>0</td>\n",
       "    </tr>\n",
       "  </tbody>\n",
       "</table>\n",
       "</div>"
      ],
      "text/plain": [
       "  MARSTAT HIDEG  MARSTAT_10  MARSTAT_20  MARSTAT_30  MARSTAT_40  MARSTAT_50  \\\n",
       "0      10    53           1           0           0           0           0   \n",
       "1      10    30           1           0           0           0           0   \n",
       "2      10    52           1           0           0           0           0   \n",
       "3      10    51           1           0           0           0           0   \n",
       "4      50  None           0           0           0           0           1   \n",
       "\n",
       "   MARSTAT_99  HIDEG_10.0  HIDEG_20.0  HIDEG_30.0  HIDEG_40.0  HIDEG_51.0  \\\n",
       "0           0           0           0           0           0           0   \n",
       "1           0           0           0           1           0           0   \n",
       "2           0           0           0           0           0           0   \n",
       "3           0           0           0           0           0           1   \n",
       "4           0           0           0           0           0           0   \n",
       "\n",
       "   HIDEG_52.0  HIDEG_53.0  \n",
       "0           0           1  \n",
       "1           0           0  \n",
       "2           1           0  \n",
       "3           0           0  \n",
       "4           0           0  "
      ]
     },
     "execution_count": 564,
     "metadata": {},
     "output_type": "execute_result"
    }
   ],
   "source": [
    "train_cat = train[cat_features]\n",
    "for var in cat_features:\n",
    "    cat_list='var'+'_'+var\n",
    "    cat_list = pd.get_dummies(train_cat[var], prefix=var)\n",
    "    data1=train_cat.join(cat_list)\n",
    "    train_cat=data1\n",
    "train_cat.head()"
   ]
  },
  {
   "cell_type": "markdown",
   "metadata": {},
   "source": [
    "# Missing values"
   ]
  },
  {
   "cell_type": "code",
   "execution_count": 565,
   "metadata": {},
   "outputs": [
    {
     "name": "stdout",
     "output_type": "stream",
     "text": [
      "3 EDUCYR\n",
      "79035\n"
     ]
    }
   ],
   "source": [
    "train_num = train[numeric_features]\n",
    "# check variables that are missing\n",
    "for j in range(train_num.values.shape[1]):\n",
    "    vec = train_num.values[:,j]\n",
    "    mask = np.isfinite(vec)\n",
    "    if np.sum(~mask) > 0:\n",
    "        print(j, train_num.columns[j])\n",
    "        print(np.sum(~mask))"
   ]
  },
  {
   "cell_type": "code",
   "execution_count": 566,
   "metadata": {},
   "outputs": [],
   "source": [
    "imp = Imputer(missing_values='NaN', strategy='median', axis=0)\n",
    "imp.fit(train_num)\n",
    "train_num_imp= imp.transform(train_num)\n",
    "train_num = pd.DataFrame(train_num_imp, columns = train_num.columns)"
   ]
  },
  {
   "cell_type": "code",
   "execution_count": 567,
   "metadata": {},
   "outputs": [
    {
     "data": {
      "text/html": [
       "<div>\n",
       "<style scoped>\n",
       "    .dataframe tbody tr th:only-of-type {\n",
       "        vertical-align: middle;\n",
       "    }\n",
       "\n",
       "    .dataframe tbody tr th {\n",
       "        vertical-align: top;\n",
       "    }\n",
       "\n",
       "    .dataframe thead th {\n",
       "        text-align: right;\n",
       "    }\n",
       "</style>\n",
       "<table border=\"1\" class=\"dataframe\">\n",
       "  <thead>\n",
       "    <tr style=\"text-align: right;\">\n",
       "      <th></th>\n",
       "      <th>MARSTAT</th>\n",
       "      <th>HIDEG</th>\n",
       "      <th>MARSTAT_10</th>\n",
       "      <th>MARSTAT_20</th>\n",
       "      <th>MARSTAT_30</th>\n",
       "      <th>MARSTAT_40</th>\n",
       "      <th>MARSTAT_50</th>\n",
       "      <th>MARSTAT_99</th>\n",
       "      <th>HIDEG_10.0</th>\n",
       "      <th>HIDEG_20.0</th>\n",
       "      <th>HIDEG_30.0</th>\n",
       "      <th>HIDEG_40.0</th>\n",
       "      <th>HIDEG_51.0</th>\n",
       "      <th>HIDEG_52.0</th>\n",
       "      <th>HIDEG_53.0</th>\n",
       "    </tr>\n",
       "  </thead>\n",
       "  <tbody>\n",
       "    <tr>\n",
       "      <th>0</th>\n",
       "      <td>10</td>\n",
       "      <td>53</td>\n",
       "      <td>1</td>\n",
       "      <td>0</td>\n",
       "      <td>0</td>\n",
       "      <td>0</td>\n",
       "      <td>0</td>\n",
       "      <td>0</td>\n",
       "      <td>0</td>\n",
       "      <td>0</td>\n",
       "      <td>0</td>\n",
       "      <td>0</td>\n",
       "      <td>0</td>\n",
       "      <td>0</td>\n",
       "      <td>1</td>\n",
       "    </tr>\n",
       "    <tr>\n",
       "      <th>1</th>\n",
       "      <td>10</td>\n",
       "      <td>30</td>\n",
       "      <td>1</td>\n",
       "      <td>0</td>\n",
       "      <td>0</td>\n",
       "      <td>0</td>\n",
       "      <td>0</td>\n",
       "      <td>0</td>\n",
       "      <td>0</td>\n",
       "      <td>0</td>\n",
       "      <td>1</td>\n",
       "      <td>0</td>\n",
       "      <td>0</td>\n",
       "      <td>0</td>\n",
       "      <td>0</td>\n",
       "    </tr>\n",
       "    <tr>\n",
       "      <th>2</th>\n",
       "      <td>10</td>\n",
       "      <td>52</td>\n",
       "      <td>1</td>\n",
       "      <td>0</td>\n",
       "      <td>0</td>\n",
       "      <td>0</td>\n",
       "      <td>0</td>\n",
       "      <td>0</td>\n",
       "      <td>0</td>\n",
       "      <td>0</td>\n",
       "      <td>0</td>\n",
       "      <td>0</td>\n",
       "      <td>0</td>\n",
       "      <td>1</td>\n",
       "      <td>0</td>\n",
       "    </tr>\n",
       "    <tr>\n",
       "      <th>3</th>\n",
       "      <td>10</td>\n",
       "      <td>51</td>\n",
       "      <td>1</td>\n",
       "      <td>0</td>\n",
       "      <td>0</td>\n",
       "      <td>0</td>\n",
       "      <td>0</td>\n",
       "      <td>0</td>\n",
       "      <td>0</td>\n",
       "      <td>0</td>\n",
       "      <td>0</td>\n",
       "      <td>0</td>\n",
       "      <td>1</td>\n",
       "      <td>0</td>\n",
       "      <td>0</td>\n",
       "    </tr>\n",
       "    <tr>\n",
       "      <th>4</th>\n",
       "      <td>50</td>\n",
       "      <td>None</td>\n",
       "      <td>0</td>\n",
       "      <td>0</td>\n",
       "      <td>0</td>\n",
       "      <td>0</td>\n",
       "      <td>1</td>\n",
       "      <td>0</td>\n",
       "      <td>0</td>\n",
       "      <td>0</td>\n",
       "      <td>0</td>\n",
       "      <td>0</td>\n",
       "      <td>0</td>\n",
       "      <td>0</td>\n",
       "      <td>0</td>\n",
       "    </tr>\n",
       "  </tbody>\n",
       "</table>\n",
       "</div>"
      ],
      "text/plain": [
       "  MARSTAT HIDEG  MARSTAT_10  MARSTAT_20  MARSTAT_30  MARSTAT_40  MARSTAT_50  \\\n",
       "0      10    53           1           0           0           0           0   \n",
       "1      10    30           1           0           0           0           0   \n",
       "2      10    52           1           0           0           0           0   \n",
       "3      10    51           1           0           0           0           0   \n",
       "4      50  None           0           0           0           0           1   \n",
       "\n",
       "   MARSTAT_99  HIDEG_10.0  HIDEG_20.0  HIDEG_30.0  HIDEG_40.0  HIDEG_51.0  \\\n",
       "0           0           0           0           0           0           0   \n",
       "1           0           0           0           1           0           0   \n",
       "2           0           0           0           0           0           0   \n",
       "3           0           0           0           0           0           1   \n",
       "4           0           0           0           0           0           0   \n",
       "\n",
       "   HIDEG_52.0  HIDEG_53.0  \n",
       "0           0           1  \n",
       "1           0           0  \n",
       "2           1           0  \n",
       "3           0           0  \n",
       "4           0           0  "
      ]
     },
     "execution_count": 567,
     "metadata": {},
     "output_type": "execute_result"
    }
   ],
   "source": [
    "train_cat.head()"
   ]
  },
  {
   "cell_type": "markdown",
   "metadata": {},
   "source": [
    "# Dataset"
   ]
  },
  {
   "cell_type": "code",
   "execution_count": 568,
   "metadata": {},
   "outputs": [],
   "source": [
    "train = pd.concat([train_num, train_cat], axis=1, sort=True)\n",
    "train = train.drop(['MARSTAT', 'HIDEG'], axis=1)"
   ]
  },
  {
   "cell_type": "markdown",
   "metadata": {},
   "source": [
    "# Train-test"
   ]
  },
  {
   "cell_type": "code",
   "execution_count": 569,
   "metadata": {},
   "outputs": [],
   "source": [
    "X_train, X_val, y_train, y_val = train_test_split(train, Label, random_state=0)"
   ]
  },
  {
   "cell_type": "markdown",
   "metadata": {},
   "source": [
    "# Logistic Regression"
   ]
  },
  {
   "cell_type": "code",
   "execution_count": 570,
   "metadata": {},
   "outputs": [],
   "source": [
    "basetable = pd.concat([X_train, y_train], axis=1)\n",
    "variables = list(X_train.columns.values)"
   ]
  },
  {
   "cell_type": "code",
   "execution_count": 571,
   "metadata": {},
   "outputs": [
    {
     "data": {
      "text/html": [
       "<div>\n",
       "<style scoped>\n",
       "    .dataframe tbody tr th:only-of-type {\n",
       "        vertical-align: middle;\n",
       "    }\n",
       "\n",
       "    .dataframe tbody tr th {\n",
       "        vertical-align: top;\n",
       "    }\n",
       "\n",
       "    .dataframe thead th {\n",
       "        text-align: right;\n",
       "    }\n",
       "</style>\n",
       "<table border=\"1\" class=\"dataframe\">\n",
       "  <thead>\n",
       "    <tr style=\"text-align: right;\">\n",
       "      <th></th>\n",
       "      <th>YEAR</th>\n",
       "      <th>AGE</th>\n",
       "      <th>SEX</th>\n",
       "      <th>EDUCYR</th>\n",
       "      <th>FTOTVAL</th>\n",
       "      <th>DIABETICEV</th>\n",
       "      <th>MARSTAT_10</th>\n",
       "      <th>MARSTAT_20</th>\n",
       "      <th>MARSTAT_30</th>\n",
       "      <th>MARSTAT_40</th>\n",
       "      <th>MARSTAT_50</th>\n",
       "      <th>MARSTAT_99</th>\n",
       "      <th>HIDEG_10.0</th>\n",
       "      <th>HIDEG_20.0</th>\n",
       "      <th>HIDEG_30.0</th>\n",
       "      <th>HIDEG_40.0</th>\n",
       "      <th>HIDEG_51.0</th>\n",
       "      <th>HIDEG_52.0</th>\n",
       "      <th>HIDEG_53.0</th>\n",
       "      <th>HEARTATTEV</th>\n",
       "    </tr>\n",
       "  </thead>\n",
       "  <tbody>\n",
       "    <tr>\n",
       "      <th>87489</th>\n",
       "      <td>2013.0</td>\n",
       "      <td>23.0</td>\n",
       "      <td>1.0</td>\n",
       "      <td>12.0</td>\n",
       "      <td>1500.0</td>\n",
       "      <td>0.0</td>\n",
       "      <td>0</td>\n",
       "      <td>0</td>\n",
       "      <td>0</td>\n",
       "      <td>0</td>\n",
       "      <td>1</td>\n",
       "      <td>0</td>\n",
       "      <td>0</td>\n",
       "      <td>0</td>\n",
       "      <td>0</td>\n",
       "      <td>0</td>\n",
       "      <td>0</td>\n",
       "      <td>0</td>\n",
       "      <td>0</td>\n",
       "      <td>0</td>\n",
       "    </tr>\n",
       "    <tr>\n",
       "      <th>71069</th>\n",
       "      <td>2012.0</td>\n",
       "      <td>23.0</td>\n",
       "      <td>2.0</td>\n",
       "      <td>12.0</td>\n",
       "      <td>21000.0</td>\n",
       "      <td>0.0</td>\n",
       "      <td>0</td>\n",
       "      <td>0</td>\n",
       "      <td>0</td>\n",
       "      <td>0</td>\n",
       "      <td>1</td>\n",
       "      <td>0</td>\n",
       "      <td>0</td>\n",
       "      <td>0</td>\n",
       "      <td>1</td>\n",
       "      <td>0</td>\n",
       "      <td>0</td>\n",
       "      <td>0</td>\n",
       "      <td>0</td>\n",
       "      <td>0</td>\n",
       "    </tr>\n",
       "    <tr>\n",
       "      <th>121339</th>\n",
       "      <td>2014.0</td>\n",
       "      <td>60.0</td>\n",
       "      <td>2.0</td>\n",
       "      <td>12.0</td>\n",
       "      <td>45488.0</td>\n",
       "      <td>0.0</td>\n",
       "      <td>1</td>\n",
       "      <td>0</td>\n",
       "      <td>0</td>\n",
       "      <td>0</td>\n",
       "      <td>0</td>\n",
       "      <td>0</td>\n",
       "      <td>0</td>\n",
       "      <td>0</td>\n",
       "      <td>0</td>\n",
       "      <td>0</td>\n",
       "      <td>0</td>\n",
       "      <td>0</td>\n",
       "      <td>0</td>\n",
       "      <td>0</td>\n",
       "    </tr>\n",
       "    <tr>\n",
       "      <th>43066</th>\n",
       "      <td>2011.0</td>\n",
       "      <td>38.0</td>\n",
       "      <td>1.0</td>\n",
       "      <td>13.0</td>\n",
       "      <td>26030.0</td>\n",
       "      <td>0.0</td>\n",
       "      <td>0</td>\n",
       "      <td>0</td>\n",
       "      <td>0</td>\n",
       "      <td>0</td>\n",
       "      <td>1</td>\n",
       "      <td>0</td>\n",
       "      <td>0</td>\n",
       "      <td>0</td>\n",
       "      <td>1</td>\n",
       "      <td>0</td>\n",
       "      <td>0</td>\n",
       "      <td>0</td>\n",
       "      <td>0</td>\n",
       "      <td>0</td>\n",
       "    </tr>\n",
       "    <tr>\n",
       "      <th>160043</th>\n",
       "      <td>2016.0</td>\n",
       "      <td>69.0</td>\n",
       "      <td>2.0</td>\n",
       "      <td>6.0</td>\n",
       "      <td>29910.0</td>\n",
       "      <td>1.0</td>\n",
       "      <td>0</td>\n",
       "      <td>1</td>\n",
       "      <td>0</td>\n",
       "      <td>0</td>\n",
       "      <td>0</td>\n",
       "      <td>0</td>\n",
       "      <td>1</td>\n",
       "      <td>0</td>\n",
       "      <td>0</td>\n",
       "      <td>0</td>\n",
       "      <td>0</td>\n",
       "      <td>0</td>\n",
       "      <td>0</td>\n",
       "      <td>0</td>\n",
       "    </tr>\n",
       "  </tbody>\n",
       "</table>\n",
       "</div>"
      ],
      "text/plain": [
       "          YEAR   AGE  SEX  EDUCYR  FTOTVAL  DIABETICEV  MARSTAT_10  \\\n",
       "87489   2013.0  23.0  1.0    12.0   1500.0         0.0           0   \n",
       "71069   2012.0  23.0  2.0    12.0  21000.0         0.0           0   \n",
       "121339  2014.0  60.0  2.0    12.0  45488.0         0.0           1   \n",
       "43066   2011.0  38.0  1.0    13.0  26030.0         0.0           0   \n",
       "160043  2016.0  69.0  2.0     6.0  29910.0         1.0           0   \n",
       "\n",
       "        MARSTAT_20  MARSTAT_30  MARSTAT_40  MARSTAT_50  MARSTAT_99  \\\n",
       "87489            0           0           0           1           0   \n",
       "71069            0           0           0           1           0   \n",
       "121339           0           0           0           0           0   \n",
       "43066            0           0           0           1           0   \n",
       "160043           1           0           0           0           0   \n",
       "\n",
       "        HIDEG_10.0  HIDEG_20.0  HIDEG_30.0  HIDEG_40.0  HIDEG_51.0  \\\n",
       "87489            0           0           0           0           0   \n",
       "71069            0           0           1           0           0   \n",
       "121339           0           0           0           0           0   \n",
       "43066            0           0           1           0           0   \n",
       "160043           1           0           0           0           0   \n",
       "\n",
       "        HIDEG_52.0  HIDEG_53.0  HEARTATTEV  \n",
       "87489            0           0           0  \n",
       "71069            0           0           0  \n",
       "121339           0           0           0  \n",
       "43066            0           0           0  \n",
       "160043           0           0           0  "
      ]
     },
     "execution_count": 571,
     "metadata": {},
     "output_type": "execute_result"
    }
   ],
   "source": [
    "basetable.head()"
   ]
  },
  {
   "cell_type": "code",
   "execution_count": 572,
   "metadata": {},
   "outputs": [
    {
     "data": {
      "text/plain": [
       "0.8289571855550995"
      ]
     },
     "execution_count": 572,
     "metadata": {},
     "output_type": "execute_result"
    }
   ],
   "source": [
    "X = basetable.drop(target_variable, axis=1)\n",
    "y = basetable[target_variable]#.values.ravel()\n",
    "logreg = linear_model.LogisticRegression()\n",
    "logreg.fit(X, y)\n",
    "predictions = logreg.predict_proba(X)[:,1]\n",
    "auc = roc_auc_score(y, predictions)\n",
    "auc"
   ]
  },
  {
   "cell_type": "code",
   "execution_count": 573,
   "metadata": {},
   "outputs": [
    {
     "name": "stdout",
     "output_type": "stream",
     "text": [
      "0.8195185447710664\n",
      "0.8363622749358858\n",
      "0.8428693138710416\n",
      "0.8445844298134502\n",
      "0.8455186145869539\n",
      "0.8462908697664571\n",
      "0.8468504167962416\n",
      "0.8474888324191028\n",
      "['AGE', 'DIABETICEV', 'SEX', 'MARSTAT_10', 'HIDEG_40.0', 'MARSTAT_50', 'HIDEG_51.0', 'HIDEG_20.0']\n"
     ]
    }
   ],
   "source": [
    "max_number_variables = 8\n",
    "number_iterations = min(max_number_variables, len(variables))\n",
    "current_variables = []\n",
    "for i in range(0,number_iterations):\n",
    "    next_var = next_best(current_variables, variables, [target_variable], basetable)\n",
    "    current_variables = current_variables + [next_var]\n",
    "    variables.remove(next_var)\n",
    "print(current_variables)"
   ]
  },
  {
   "cell_type": "code",
   "execution_count": 574,
   "metadata": {},
   "outputs": [
    {
     "data": {
      "text/plain": [
       "LogisticRegression(C=1.0, class_weight=None, dual=False, fit_intercept=True,\n",
       "          intercept_scaling=1, max_iter=100, multi_class='ovr', n_jobs=1,\n",
       "          penalty='l2', random_state=None, solver='liblinear', tol=0.0001,\n",
       "          verbose=0, warm_start=False)"
      ]
     },
     "execution_count": 574,
     "metadata": {},
     "output_type": "execute_result"
    }
   ],
   "source": [
    "logreg.fit(basetable[current_variables],basetable[target_variable])"
   ]
  },
  {
   "cell_type": "code",
   "execution_count": 575,
   "metadata": {},
   "outputs": [],
   "source": [
    "predictions = logreg.predict_proba(X_val[current_variables])\n",
    "auc = roc_auc_score(y_val, predictions[:,1])"
   ]
  },
  {
   "cell_type": "code",
   "execution_count": 576,
   "metadata": {},
   "outputs": [
    {
     "name": "stdout",
     "output_type": "stream",
     "text": [
      "0.8490804791302605\n"
     ]
    }
   ],
   "source": [
    "print(auc)"
   ]
  },
  {
   "cell_type": "code",
   "execution_count": 577,
   "metadata": {},
   "outputs": [
    {
     "name": "stderr",
     "output_type": "stream",
     "text": [
      "C:\\Users\\Karsten\\Anaconda3\\lib\\site-packages\\matplotlib\\cbook\\deprecation.py:107: MatplotlibDeprecationWarning: Passing one of 'on', 'true', 'off', 'false' as a boolean is deprecated; use an actual boolean (True/False) instead.\n",
      "  warnings.warn(message, mplDeprecation, stacklevel=1)\n"
     ]
    },
    {
     "data": {
      "image/png": "[encoded data removed]",
      "text/plain": [
       "<Figure size 432x288 with 1 Axes>"
      ]
     },
     "metadata": {
      "needs_background": "light"
     },
     "output_type": "display_data"
    }
   ],
   "source": [
    "skplt.metrics.plot_cumulative_gain(y_val, predictions)\n",
    "plt.show()"
   ]
  },
  {
   "cell_type": "code",
   "execution_count": 578,
   "metadata": {},
   "outputs": [
    {
     "data": {
      "text/plain": [
       "array([[1.0638975 , 2.6714899 , 0.46068622, 0.71966588, 0.65151385,\n",
       "        0.63668815, 0.5819427 , 1.84978143]])"
      ]
     },
     "execution_count": 578,
     "metadata": {},
     "output_type": "execute_result"
    }
   ],
   "source": [
    "np.exp(logreg.coef_)"
   ]
  },
  {
   "cell_type": "code",
   "execution_count": null,
   "metadata": {},
   "outputs": [],
   "source": []
  }
 ],
 "metadata": {
  "kernelspec": {
   "display_name": "Python 3",
   "language": "python",
   "name": "python3"
  },
  "language_info": {
   "codemirror_mode": {
    "name": "ipython",
    "version": 3
   },
   "file_extension": ".py",
   "mimetype": "text/x-python",
   "name": "python",
   "nbconvert_exporter": "python",
   "pygments_lexer": "ipython3",
   "version": "3.7.0"
  }
 },
 "nbformat": 4,
 "nbformat_minor": 2
}
