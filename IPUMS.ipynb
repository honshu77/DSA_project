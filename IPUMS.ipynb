{
 "cells": [
  {
   "cell_type": "code",
   "execution_count": 450,
   "metadata": {},
   "outputs": [],
   "source": [
    "import pandas as pd\n",
    "import numpy as np\n",
    "from sklearn import linear_model\n",
    "import scikitplot as skplt\n",
    "import matplotlib.pyplot as plt\n",
    "from sklearn.preprocessing import Imputer\n",
    "from sklearn.metrics import roc_auc_score\n",
    "import matplotlib\n",
    "import matplotlib.pyplot as plt"
   ]
  },
  {
   "cell_type": "code",
   "execution_count": 451,
   "metadata": {},
   "outputs": [],
   "source": [
    "def logreg_auc(variables, target, basetable):\n",
    "    X = basetable[variables]\n",
    "    y = basetable[target].values.ravel()\n",
    "    logreg = linear_model.LogisticRegression()\n",
    "    logreg.fit(X, y)\n",
    "    predictions = logreg.predict_proba(X)[:,1]\n",
    "    auc = roc_auc_score(y, predictions)\n",
    "    return(auc)\n",
    "\n",
    "def next_best(current_variables,candidate_variables, target, basetable):\n",
    "    best_auc = -1\n",
    "    best_variable = None\n",
    "    for v in candidate_variables:\n",
    "        auc_v = logreg_auc(current_variables + [v], target, basetable)\n",
    "        if auc_v >= best_auc:\n",
    "            best_auc = auc_v\n",
    "            best_variable = v\n",
    "    print(best_auc)\n",
    "    return best_variable"
   ]
  },
  {
   "cell_type": "code",
   "execution_count": 452,
   "metadata": {},
   "outputs": [],
   "source": [
    "data = pd.read_csv(\"data/data.csv\")"
   ]
  },
  {
   "cell_type": "code",
   "execution_count": 453,
   "metadata": {},
   "outputs": [
    {
     "data": {
      "text/html": [
       "<div>\n",
       "<style scoped>\n",
       "    .dataframe tbody tr th:only-of-type {\n",
       "        vertical-align: middle;\n",
       "    }\n",
       "\n",
       "    .dataframe tbody tr th {\n",
       "        vertical-align: top;\n",
       "    }\n",
       "\n",
       "    .dataframe thead th {\n",
       "        text-align: right;\n",
       "    }\n",
       "</style>\n",
       "<table border=\"1\" class=\"dataframe\">\n",
       "  <thead>\n",
       "    <tr style=\"text-align: right;\">\n",
       "      <th></th>\n",
       "      <th>Unnamed: 0</th>\n",
       "      <th>YEAR</th>\n",
       "      <th>SERIAL</th>\n",
       "      <th>DUID</th>\n",
       "      <th>PID</th>\n",
       "      <th>MEPSID</th>\n",
       "      <th>PANEL</th>\n",
       "      <th>PSUANN</th>\n",
       "      <th>STRATANN</th>\n",
       "      <th>PSUPLD</th>\n",
       "      <th>...</th>\n",
       "      <th>HEARTCONEV</th>\n",
       "      <th>HYPERTENEV</th>\n",
       "      <th>STROKEAGE</th>\n",
       "      <th>STROKEV</th>\n",
       "      <th>HYPERTENAGE</th>\n",
       "      <th>CHEARTDIAGE</th>\n",
       "      <th>HEARTATTAGE</th>\n",
       "      <th>CHOLHIGHAGE</th>\n",
       "      <th>DIABETICAGE</th>\n",
       "      <th>HPTOTNIGHT</th>\n",
       "    </tr>\n",
       "  </thead>\n",
       "  <tbody>\n",
       "    <tr>\n",
       "      <th>0</th>\n",
       "      <td>1</td>\n",
       "      <td>2010</td>\n",
       "      <td>1</td>\n",
       "      <td>10007</td>\n",
       "      <td>101</td>\n",
       "      <td>1000710115</td>\n",
       "      <td>15</td>\n",
       "      <td>2</td>\n",
       "      <td>1024</td>\n",
       "      <td>2.0</td>\n",
       "      <td>...</td>\n",
       "      <td>1</td>\n",
       "      <td>2</td>\n",
       "      <td>0</td>\n",
       "      <td>1</td>\n",
       "      <td>24</td>\n",
       "      <td>96</td>\n",
       "      <td>96</td>\n",
       "      <td>27</td>\n",
       "      <td>96</td>\n",
       "      <td>0</td>\n",
       "    </tr>\n",
       "    <tr>\n",
       "      <th>1</th>\n",
       "      <td>2</td>\n",
       "      <td>2010</td>\n",
       "      <td>1</td>\n",
       "      <td>10007</td>\n",
       "      <td>102</td>\n",
       "      <td>1000710215</td>\n",
       "      <td>15</td>\n",
       "      <td>2</td>\n",
       "      <td>1024</td>\n",
       "      <td>2.0</td>\n",
       "      <td>...</td>\n",
       "      <td>1</td>\n",
       "      <td>1</td>\n",
       "      <td>0</td>\n",
       "      <td>1</td>\n",
       "      <td>96</td>\n",
       "      <td>96</td>\n",
       "      <td>96</td>\n",
       "      <td>96</td>\n",
       "      <td>96</td>\n",
       "      <td>0</td>\n",
       "    </tr>\n",
       "    <tr>\n",
       "      <th>2</th>\n",
       "      <td>3</td>\n",
       "      <td>2010</td>\n",
       "      <td>1</td>\n",
       "      <td>10007</td>\n",
       "      <td>103</td>\n",
       "      <td>1000710315</td>\n",
       "      <td>15</td>\n",
       "      <td>2</td>\n",
       "      <td>1024</td>\n",
       "      <td>2.0</td>\n",
       "      <td>...</td>\n",
       "      <td>0</td>\n",
       "      <td>0</td>\n",
       "      <td>0</td>\n",
       "      <td>0</td>\n",
       "      <td>96</td>\n",
       "      <td>96</td>\n",
       "      <td>96</td>\n",
       "      <td>96</td>\n",
       "      <td>96</td>\n",
       "      <td>0</td>\n",
       "    </tr>\n",
       "    <tr>\n",
       "      <th>3</th>\n",
       "      <td>4</td>\n",
       "      <td>2010</td>\n",
       "      <td>1</td>\n",
       "      <td>10007</td>\n",
       "      <td>104</td>\n",
       "      <td>1000710415</td>\n",
       "      <td>15</td>\n",
       "      <td>2</td>\n",
       "      <td>1024</td>\n",
       "      <td>2.0</td>\n",
       "      <td>...</td>\n",
       "      <td>0</td>\n",
       "      <td>0</td>\n",
       "      <td>0</td>\n",
       "      <td>0</td>\n",
       "      <td>96</td>\n",
       "      <td>96</td>\n",
       "      <td>96</td>\n",
       "      <td>96</td>\n",
       "      <td>96</td>\n",
       "      <td>0</td>\n",
       "    </tr>\n",
       "    <tr>\n",
       "      <th>4</th>\n",
       "      <td>5</td>\n",
       "      <td>2010</td>\n",
       "      <td>2</td>\n",
       "      <td>10008</td>\n",
       "      <td>101</td>\n",
       "      <td>1000810115</td>\n",
       "      <td>15</td>\n",
       "      <td>1</td>\n",
       "      <td>1021</td>\n",
       "      <td>1.0</td>\n",
       "      <td>...</td>\n",
       "      <td>1</td>\n",
       "      <td>1</td>\n",
       "      <td>0</td>\n",
       "      <td>1</td>\n",
       "      <td>96</td>\n",
       "      <td>96</td>\n",
       "      <td>96</td>\n",
       "      <td>96</td>\n",
       "      <td>96</td>\n",
       "      <td>0</td>\n",
       "    </tr>\n",
       "  </tbody>\n",
       "</table>\n",
       "<p>5 rows × 38 columns</p>\n",
       "</div>"
      ],
      "text/plain": [
       "   Unnamed: 0  YEAR  SERIAL   DUID  PID      MEPSID  PANEL  PSUANN  STRATANN  \\\n",
       "0           1  2010       1  10007  101  1000710115     15       2      1024   \n",
       "1           2  2010       1  10007  102  1000710215     15       2      1024   \n",
       "2           3  2010       1  10007  103  1000710315     15       2      1024   \n",
       "3           4  2010       1  10007  104  1000710415     15       2      1024   \n",
       "4           5  2010       2  10008  101  1000810115     15       1      1021   \n",
       "\n",
       "   PSUPLD     ...      HEARTCONEV  HYPERTENEV  STROKEAGE  STROKEV  \\\n",
       "0     2.0     ...               1           2          0        1   \n",
       "1     2.0     ...               1           1          0        1   \n",
       "2     2.0     ...               0           0          0        0   \n",
       "3     2.0     ...               0           0          0        0   \n",
       "4     1.0     ...               1           1          0        1   \n",
       "\n",
       "   HYPERTENAGE  CHEARTDIAGE  HEARTATTAGE  CHOLHIGHAGE  DIABETICAGE  HPTOTNIGHT  \n",
       "0           24           96           96           27           96           0  \n",
       "1           96           96           96           96           96           0  \n",
       "2           96           96           96           96           96           0  \n",
       "3           96           96           96           96           96           0  \n",
       "4           96           96           96           96           96           0  \n",
       "\n",
       "[5 rows x 38 columns]"
      ]
     },
     "execution_count": 453,
     "metadata": {},
     "output_type": "execute_result"
    }
   ],
   "source": [
    "data.head()"
   ]
  },
  {
   "cell_type": "code",
   "execution_count": 454,
   "metadata": {},
   "outputs": [
    {
     "data": {
      "text/plain": [
       "Unnamed: 0       int64\n",
       "YEAR             int64\n",
       "SERIAL           int64\n",
       "DUID             int64\n",
       "PID              int64\n",
       "MEPSID           int64\n",
       "PANEL            int64\n",
       "PSUANN           int64\n",
       "STRATANN         int64\n",
       "PSUPLD         float64\n",
       "STRATAPLD      float64\n",
       "PANELYR          int64\n",
       "RELYR            int64\n",
       "PERNUM           int64\n",
       "PERWEIGHT      float64\n",
       "SAQWEIGHT      float64\n",
       "DIABWEIGHT     float64\n",
       "AGE              int64\n",
       "SEX              int64\n",
       "MARSTAT          int64\n",
       "BIRTHYR          int64\n",
       "EDUC             int64\n",
       "EDUCYR         float64\n",
       "HIDEG          float64\n",
       "INCTOT         float64\n",
       "FTOTVAL        float64\n",
       "DIABETICEV       int64\n",
       "HEARTATTEV       int64\n",
       "HEARTCONEV       int64\n",
       "HYPERTENEV       int64\n",
       "STROKEAGE        int64\n",
       "STROKEV          int64\n",
       "HYPERTENAGE      int64\n",
       "CHEARTDIAGE      int64\n",
       "HEARTATTAGE      int64\n",
       "CHOLHIGHAGE      int64\n",
       "DIABETICAGE      int64\n",
       "HPTOTNIGHT       int64\n",
       "dtype: object"
      ]
     },
     "execution_count": 454,
     "metadata": {},
     "output_type": "execute_result"
    }
   ],
   "source": [
    "data.dtypes"
   ]
  },
  {
   "cell_type": "code",
   "execution_count": 455,
   "metadata": {},
   "outputs": [],
   "source": [
    "target_variable = \"HEARTATTEV\""
   ]
  },
  {
   "cell_type": "code",
   "execution_count": 456,
   "metadata": {},
   "outputs": [],
   "source": [
    "#binary classification of target variable\n",
    "data.drop(data[-data[target_variable].isin([1, 2])].index, inplace = True)\n",
    "data.loc[data[target_variable] == 1,target_variable] = 0\n",
    "data.loc[data[target_variable] == 2,target_variable] = 1\n",
    "data = data.reset_index(drop = True)"
   ]
  },
  {
   "cell_type": "code",
   "execution_count": 457,
   "metadata": {},
   "outputs": [
    {
     "data": {
      "text/plain": [
       "15100"
      ]
     },
     "execution_count": 457,
     "metadata": {},
     "output_type": "execute_result"
    }
   ],
   "source": [
    "sum(data['DIABWEIGHT'] != 0)\n",
    "#exclude as too many 0"
   ]
  },
  {
   "cell_type": "code",
   "execution_count": 458,
   "metadata": {},
   "outputs": [
    {
     "data": {
      "text/plain": [
       "array([1, 2], dtype=int64)"
      ]
     },
     "execution_count": 458,
     "metadata": {},
     "output_type": "execute_result"
    }
   ],
   "source": [
    "data['SEX'].unique()"
   ]
  },
  {
   "cell_type": "code",
   "execution_count": 459,
   "metadata": {},
   "outputs": [
    {
     "data": {
      "image/png": "[encoded data removed]",
      "text/plain": [
       "<Figure size 432x288 with 1 Axes>"
      ]
     },
     "metadata": {},
     "output_type": "display_data"
    }
   ],
   "source": [
    "pd.crosstab(data.SEX,data[target_variable]).plot(kind='bar')\n",
    "plt.title('Bar Chart of Sex vs Target')\n",
    "plt.xlabel('Sex')\n",
    "plt.ylabel('Proportion of Customers')\n",
    "plt.savefig('sex_vs_tgt')"
   ]
  },
  {
   "cell_type": "code",
   "execution_count": 460,
   "metadata": {},
   "outputs": [
    {
     "data": {
      "text/plain": [
       "dtype('int64')"
      ]
     },
     "execution_count": 460,
     "metadata": {},
     "output_type": "execute_result"
    }
   ],
   "source": [
    "data['MARSTAT'].dtype"
   ]
  },
  {
   "cell_type": "code",
   "execution_count": 461,
   "metadata": {},
   "outputs": [
    {
     "data": {
      "text/plain": [
       "10    85864\n",
       "50    56978\n",
       "30    20409\n",
       "20    10964\n",
       "40     5565\n",
       "99        5\n",
       "Name: MARSTAT, dtype: int64"
      ]
     },
     "execution_count": 461,
     "metadata": {},
     "output_type": "execute_result"
    }
   ],
   "source": [
    "data['MARSTAT'] = data['MARSTAT'].astype('object')\n",
    "data['MARSTAT'].value_counts()\n",
    "#combine 0 and 99"
   ]
  },
  {
   "cell_type": "code",
   "execution_count": 462,
   "metadata": {},
   "outputs": [
    {
     "data": {
      "image/png": "[encoded data removed]",
      "text/plain": [
       "<Figure size 432x288 with 1 Axes>"
      ]
     },
     "metadata": {},
     "output_type": "display_data"
    }
   ],
   "source": [
    "table=pd.crosstab(data.MARSTAT,data[target_variable])\n",
    "table.div(table.sum(1).astype(float), axis=0).plot(kind='bar', stacked=True)\n",
    "plt.title('Bar Chart of Marital Status vs Target')\n",
    "plt.xlabel('Marital Status')\n",
    "plt.ylabel('Proportion of Target')\n",
    "plt.savefig('marital_vs_tgt')"
   ]
  },
  {
   "cell_type": "code",
   "execution_count": 463,
   "metadata": {},
   "outputs": [
    {
     "data": {
      "text/plain": [
       "array([604, 401, 603, 601, 999, 301, 201, 302, 203, 500, 202, 204, 103,\n",
       "       109, 996, 108, 106, 101, 105, 107, 104, 102, 998, 997,   0, 402,\n",
       "       403, 602, 200, 100, 600, 300], dtype=int64)"
      ]
     },
     "execution_count": 463,
     "metadata": {},
     "output_type": "execute_result"
    }
   ],
   "source": [
    "data['EDUC'].unique()"
   ]
  },
  {
   "cell_type": "code",
   "execution_count": 464,
   "metadata": {},
   "outputs": [
    {
     "data": {
      "text/plain": [
       "96.0    51245\n",
       "12.0    31676\n",
       "16.0    14891\n",
       "14.0    11937\n",
       "17.0     9075\n",
       "13.0     7130\n",
       "11.0     6406\n",
       "10.0     4400\n",
       "15.0     3637\n",
       "9.0      3390\n",
       "6.0      2268\n",
       "8.0      2131\n",
       "99.0      988\n",
       "7.0       836\n",
       "3.0       658\n",
       "5.0       607\n",
       "0.0       596\n",
       "4.0       517\n",
       "2.0       352\n",
       "1.0       243\n",
       "98.0      205\n",
       "97.0       98\n",
       "Name: EDUCYR, dtype: int64"
      ]
     },
     "execution_count": 464,
     "metadata": {},
     "output_type": "execute_result"
    }
   ],
   "source": [
    "data['EDUCYR'].value_counts()\n",
    "#review if correlation high enough to just use one of two"
   ]
  },
  {
   "cell_type": "code",
   "execution_count": 465,
   "metadata": {},
   "outputs": [],
   "source": [
    "# regroup different types of unknown\n",
    "data.loc[data['EDUCYR'].isin([96, 97, 98, 99]),'EDUCYR'] = None"
   ]
  },
  {
   "cell_type": "code",
   "execution_count": 466,
   "metadata": {},
   "outputs": [
    {
     "data": {
      "image/png": "[encoded data removed]",
      "text/plain": [
       "<Figure size 432x288 with 1 Axes>"
      ]
     },
     "metadata": {},
     "output_type": "display_data"
    }
   ],
   "source": [
    "table=pd.crosstab(data.EDUCYR,data[target_variable])\n",
    "table.div(table.sum(1).astype(float), axis=0).plot(kind='bar', stacked=True)\n",
    "plt.title('Bar Chart of Number of education years vs Target')\n",
    "plt.xlabel('Education Years')\n",
    "plt.ylabel('Proportion of Target')\n",
    "plt.savefig('educyr_vs_tgt')"
   ]
  },
  {
   "cell_type": "code",
   "execution_count": 467,
   "metadata": {},
   "outputs": [
    {
     "data": {
      "text/plain": [
       "30.0    44298\n",
       "96.0    26381\n",
       "10.0    21468\n",
       "40.0    15318\n",
       "53.0     7387\n",
       "51.0     6197\n",
       "20.0     4322\n",
       "52.0     1691\n",
       "99.0      859\n",
       "98.0      212\n",
       "97.0       92\n",
       "Name: HIDEG, dtype: int64"
      ]
     },
     "execution_count": 467,
     "metadata": {},
     "output_type": "execute_result"
    }
   ],
   "source": [
    "data['HIDEG'] = data['HIDEG'].astype('object')\n",
    "data['HIDEG'].value_counts()"
   ]
  },
  {
   "cell_type": "code",
   "execution_count": 468,
   "metadata": {},
   "outputs": [],
   "source": [
    "# regroup different types of unknown\n",
    "data.loc[data['HIDEG'].isin([96, 97, 98, 99]),'HIDEG'] = None"
   ]
  },
  {
   "cell_type": "code",
   "execution_count": 469,
   "metadata": {},
   "outputs": [
    {
     "data": {
      "image/png": "[encoded data removed]",
      "text/plain": [
       "<Figure size 432x288 with 1 Axes>"
      ]
     },
     "metadata": {},
     "output_type": "display_data"
    }
   ],
   "source": [
    "table=pd.crosstab(data.HIDEG,data[target_variable])\n",
    "table.div(table.sum(1).astype(float), axis=0).plot(kind='bar', stacked=True)\n",
    "plt.title('Bar Chart of Highest Degree vs Target')\n",
    "plt.xlabel('Highest Degree')\n",
    "plt.ylabel('Proportion of Target')\n",
    "plt.savefig('hideg_vs_tgt')"
   ]
  },
  {
   "cell_type": "code",
   "execution_count": 470,
   "metadata": {},
   "outputs": [
    {
     "data": {
      "text/plain": [
       "1    160998\n",
       "2     18755\n",
       "9        27\n",
       "7         5\n",
       "Name: DIABETICEV, dtype: int64"
      ]
     },
     "execution_count": 470,
     "metadata": {},
     "output_type": "execute_result"
    }
   ],
   "source": [
    "data['DIABETICEV'].value_counts()"
   ]
  },
  {
   "cell_type": "code",
   "execution_count": 471,
   "metadata": {},
   "outputs": [
    {
     "data": {
      "image/png": "[encoded data removed]",
      "text/plain": [
       "<Figure size 432x288 with 1 Axes>"
      ]
     },
     "metadata": {},
     "output_type": "display_data"
    }
   ],
   "source": [
    "table=pd.crosstab(data.DIABETICEV,data[target_variable])\n",
    "table.div(table.sum(1).astype(float), axis=0).plot(kind='bar', stacked=True)\n",
    "plt.title('Bar Chart of Diabetic Event vs Target')\n",
    "plt.xlabel('Diabetic Event')\n",
    "plt.ylabel('Proportion of Target')\n",
    "plt.savefig('hideg_vs_tgt')"
   ]
  },
  {
   "cell_type": "code",
   "execution_count": 472,
   "metadata": {},
   "outputs": [],
   "source": [
    "data.loc[data['DIABETICEV'].isin([1, 7, 9]),'DiABETICEV'] = 0\n",
    "data.loc[data['DIABETICEV'] == 2,'DIABETICEV'] = 1"
   ]
  },
  {
   "cell_type": "code",
   "execution_count": 473,
   "metadata": {},
   "outputs": [],
   "source": [
    "candidate_variables = ['YEAR', 'PERWEIGHT', 'SAQWEIGHT', 'AGE', 'SEX', 'MARSTAT', 'BIRTHYR', 'EDUCYR', 'HIDEG', 'INCTOT', 'FTOTVAL', 'DIABETICEV']"
   ]
  },
  {
   "cell_type": "code",
   "execution_count": 474,
   "metadata": {},
   "outputs": [],
   "source": [
    "train = data[candidate_variables]\n",
    "Label = data[target_variable]"
   ]
  },
  {
   "cell_type": "code",
   "execution_count": 475,
   "metadata": {},
   "outputs": [
    {
     "data": {
      "text/plain": [
       "(179785, 12)"
      ]
     },
     "execution_count": 475,
     "metadata": {},
     "output_type": "execute_result"
    }
   ],
   "source": [
    "train.shape"
   ]
  },
  {
   "cell_type": "code",
   "execution_count": 476,
   "metadata": {},
   "outputs": [],
   "source": [
    "cat_features = [train.columns[i] for i, j in enumerate(train.dtypes) if (j == \"object\" or j == \"bool\")]\n",
    "numeric_features = [train.columns[i] for i, j in enumerate(train.dtypes) if j in [\"int64\", \"float64\"]]"
   ]
  },
  {
   "cell_type": "code",
   "execution_count": 477,
   "metadata": {},
   "outputs": [
    {
     "data": {
      "text/plain": [
       "['MARSTAT', 'HIDEG']"
      ]
     },
     "execution_count": 477,
     "metadata": {},
     "output_type": "execute_result"
    }
   ],
   "source": [
    "cat_features"
   ]
  },
  {
   "cell_type": "code",
   "execution_count": 478,
   "metadata": {},
   "outputs": [
    {
     "data": {
      "text/plain": [
       "['YEAR',\n",
       " 'PERWEIGHT',\n",
       " 'SAQWEIGHT',\n",
       " 'AGE',\n",
       " 'SEX',\n",
       " 'BIRTHYR',\n",
       " 'EDUCYR',\n",
       " 'INCTOT',\n",
       " 'FTOTVAL',\n",
       " 'DIABETICEV']"
      ]
     },
     "execution_count": 478,
     "metadata": {},
     "output_type": "execute_result"
    }
   ],
   "source": [
    "numeric_features"
   ]
  },
  {
   "cell_type": "markdown",
   "metadata": {},
   "source": [
    "def check_discretize(basetable, variable, threshold):\n",
    "    return(len(basetable.groupby(variable))>threshold)\n",
    "threshold = 5\n",
    "number_bins = 5\n",
    "for variable in numeric_features:\n",
    "    if check_discretize(basetable, variable, threshold):\n",
    "        new_variable = \"disc\" + variable\n",
    "        basetable[new_variable] = pd.qcut(basetable[variable], number_bins)"
   ]
  },
  {
   "cell_type": "markdown",
   "metadata": {},
   "source": [
    "# Dummy variables"
   ]
  },
  {
   "cell_type": "code",
   "execution_count": 479,
   "metadata": {},
   "outputs": [
    {
     "data": {
      "text/html": [
       "<div>\n",
       "<style scoped>\n",
       "    .dataframe tbody tr th:only-of-type {\n",
       "        vertical-align: middle;\n",
       "    }\n",
       "\n",
       "    .dataframe tbody tr th {\n",
       "        vertical-align: top;\n",
       "    }\n",
       "\n",
       "    .dataframe thead th {\n",
       "        text-align: right;\n",
       "    }\n",
       "</style>\n",
       "<table border=\"1\" class=\"dataframe\">\n",
       "  <thead>\n",
       "    <tr style=\"text-align: right;\">\n",
       "      <th></th>\n",
       "      <th>MARSTAT</th>\n",
       "      <th>HIDEG</th>\n",
       "      <th>MARSTAT_10</th>\n",
       "      <th>MARSTAT_20</th>\n",
       "      <th>MARSTAT_30</th>\n",
       "      <th>MARSTAT_40</th>\n",
       "      <th>MARSTAT_50</th>\n",
       "      <th>MARSTAT_99</th>\n",
       "      <th>HIDEG_10.0</th>\n",
       "      <th>HIDEG_20.0</th>\n",
       "      <th>HIDEG_30.0</th>\n",
       "      <th>HIDEG_40.0</th>\n",
       "      <th>HIDEG_51.0</th>\n",
       "      <th>HIDEG_52.0</th>\n",
       "      <th>HIDEG_53.0</th>\n",
       "    </tr>\n",
       "  </thead>\n",
       "  <tbody>\n",
       "    <tr>\n",
       "      <th>0</th>\n",
       "      <td>10</td>\n",
       "      <td>53</td>\n",
       "      <td>1</td>\n",
       "      <td>0</td>\n",
       "      <td>0</td>\n",
       "      <td>0</td>\n",
       "      <td>0</td>\n",
       "      <td>0</td>\n",
       "      <td>0</td>\n",
       "      <td>0</td>\n",
       "      <td>0</td>\n",
       "      <td>0</td>\n",
       "      <td>0</td>\n",
       "      <td>0</td>\n",
       "      <td>1</td>\n",
       "    </tr>\n",
       "    <tr>\n",
       "      <th>1</th>\n",
       "      <td>10</td>\n",
       "      <td>30</td>\n",
       "      <td>1</td>\n",
       "      <td>0</td>\n",
       "      <td>0</td>\n",
       "      <td>0</td>\n",
       "      <td>0</td>\n",
       "      <td>0</td>\n",
       "      <td>0</td>\n",
       "      <td>0</td>\n",
       "      <td>1</td>\n",
       "      <td>0</td>\n",
       "      <td>0</td>\n",
       "      <td>0</td>\n",
       "      <td>0</td>\n",
       "    </tr>\n",
       "    <tr>\n",
       "      <th>2</th>\n",
       "      <td>10</td>\n",
       "      <td>52</td>\n",
       "      <td>1</td>\n",
       "      <td>0</td>\n",
       "      <td>0</td>\n",
       "      <td>0</td>\n",
       "      <td>0</td>\n",
       "      <td>0</td>\n",
       "      <td>0</td>\n",
       "      <td>0</td>\n",
       "      <td>0</td>\n",
       "      <td>0</td>\n",
       "      <td>0</td>\n",
       "      <td>1</td>\n",
       "      <td>0</td>\n",
       "    </tr>\n",
       "    <tr>\n",
       "      <th>3</th>\n",
       "      <td>10</td>\n",
       "      <td>51</td>\n",
       "      <td>1</td>\n",
       "      <td>0</td>\n",
       "      <td>0</td>\n",
       "      <td>0</td>\n",
       "      <td>0</td>\n",
       "      <td>0</td>\n",
       "      <td>0</td>\n",
       "      <td>0</td>\n",
       "      <td>0</td>\n",
       "      <td>0</td>\n",
       "      <td>1</td>\n",
       "      <td>0</td>\n",
       "      <td>0</td>\n",
       "    </tr>\n",
       "    <tr>\n",
       "      <th>4</th>\n",
       "      <td>50</td>\n",
       "      <td>None</td>\n",
       "      <td>0</td>\n",
       "      <td>0</td>\n",
       "      <td>0</td>\n",
       "      <td>0</td>\n",
       "      <td>1</td>\n",
       "      <td>0</td>\n",
       "      <td>0</td>\n",
       "      <td>0</td>\n",
       "      <td>0</td>\n",
       "      <td>0</td>\n",
       "      <td>0</td>\n",
       "      <td>0</td>\n",
       "      <td>0</td>\n",
       "    </tr>\n",
       "  </tbody>\n",
       "</table>\n",
       "</div>"
      ],
      "text/plain": [
       "  MARSTAT HIDEG  MARSTAT_10  MARSTAT_20  MARSTAT_30  MARSTAT_40  MARSTAT_50  \\\n",
       "0      10    53           1           0           0           0           0   \n",
       "1      10    30           1           0           0           0           0   \n",
       "2      10    52           1           0           0           0           0   \n",
       "3      10    51           1           0           0           0           0   \n",
       "4      50  None           0           0           0           0           1   \n",
       "\n",
       "   MARSTAT_99  HIDEG_10.0  HIDEG_20.0  HIDEG_30.0  HIDEG_40.0  HIDEG_51.0  \\\n",
       "0           0           0           0           0           0           0   \n",
       "1           0           0           0           1           0           0   \n",
       "2           0           0           0           0           0           0   \n",
       "3           0           0           0           0           0           1   \n",
       "4           0           0           0           0           0           0   \n",
       "\n",
       "   HIDEG_52.0  HIDEG_53.0  \n",
       "0           0           1  \n",
       "1           0           0  \n",
       "2           1           0  \n",
       "3           0           0  \n",
       "4           0           0  "
      ]
     },
     "execution_count": 479,
     "metadata": {},
     "output_type": "execute_result"
    }
   ],
   "source": [
    "train_cat = train[cat_features]\n",
    "for var in cat_features:\n",
    "    cat_list='var'+'_'+var\n",
    "    cat_list = pd.get_dummies(train_cat[var], prefix=var)\n",
    "    data1=train_cat.join(cat_list)\n",
    "    train_cat=data1\n",
    "train_cat.head()"
   ]
  },
  {
   "cell_type": "markdown",
   "metadata": {},
   "source": [
    "# Missing values"
   ]
  },
  {
   "cell_type": "code",
   "execution_count": 480,
   "metadata": {},
   "outputs": [
    {
     "name": "stdout",
     "output_type": "stream",
     "text": [
      "6 EDUCYR\n",
      "79035\n"
     ]
    }
   ],
   "source": [
    "train_num = train[numeric_features]\n",
    "# check variables that are missing\n",
    "for j in range(train_num.values.shape[1]):\n",
    "    vec = train_num.values[:,j]\n",
    "    mask = np.isfinite(vec)\n",
    "    if np.sum(~mask) > 0:\n",
    "        print(j, train_num.columns[j])\n",
    "        print(np.sum(~mask))"
   ]
  },
  {
   "cell_type": "code",
   "execution_count": 481,
   "metadata": {},
   "outputs": [],
   "source": [
    "imp = Imputer(missing_values='NaN', strategy='median', axis=0)\n",
    "imp.fit(train_num)\n",
    "train_num_imp= imp.transform(train_num)\n",
    "train_num = pd.DataFrame(train_num_imp, columns = train_num.columns)"
   ]
  },
  {
   "cell_type": "code",
   "execution_count": 482,
   "metadata": {},
   "outputs": [
    {
     "data": {
      "text/html": [
       "<div>\n",
       "<style scoped>\n",
       "    .dataframe tbody tr th:only-of-type {\n",
       "        vertical-align: middle;\n",
       "    }\n",
       "\n",
       "    .dataframe tbody tr th {\n",
       "        vertical-align: top;\n",
       "    }\n",
       "\n",
       "    .dataframe thead th {\n",
       "        text-align: right;\n",
       "    }\n",
       "</style>\n",
       "<table border=\"1\" class=\"dataframe\">\n",
       "  <thead>\n",
       "    <tr style=\"text-align: right;\">\n",
       "      <th></th>\n",
       "      <th>MARSTAT</th>\n",
       "      <th>HIDEG</th>\n",
       "      <th>MARSTAT_10</th>\n",
       "      <th>MARSTAT_20</th>\n",
       "      <th>MARSTAT_30</th>\n",
       "      <th>MARSTAT_40</th>\n",
       "      <th>MARSTAT_50</th>\n",
       "      <th>MARSTAT_99</th>\n",
       "      <th>HIDEG_10.0</th>\n",
       "      <th>HIDEG_20.0</th>\n",
       "      <th>HIDEG_30.0</th>\n",
       "      <th>HIDEG_40.0</th>\n",
       "      <th>HIDEG_51.0</th>\n",
       "      <th>HIDEG_52.0</th>\n",
       "      <th>HIDEG_53.0</th>\n",
       "    </tr>\n",
       "  </thead>\n",
       "  <tbody>\n",
       "    <tr>\n",
       "      <th>0</th>\n",
       "      <td>10</td>\n",
       "      <td>53</td>\n",
       "      <td>1</td>\n",
       "      <td>0</td>\n",
       "      <td>0</td>\n",
       "      <td>0</td>\n",
       "      <td>0</td>\n",
       "      <td>0</td>\n",
       "      <td>0</td>\n",
       "      <td>0</td>\n",
       "      <td>0</td>\n",
       "      <td>0</td>\n",
       "      <td>0</td>\n",
       "      <td>0</td>\n",
       "      <td>1</td>\n",
       "    </tr>\n",
       "    <tr>\n",
       "      <th>1</th>\n",
       "      <td>10</td>\n",
       "      <td>30</td>\n",
       "      <td>1</td>\n",
       "      <td>0</td>\n",
       "      <td>0</td>\n",
       "      <td>0</td>\n",
       "      <td>0</td>\n",
       "      <td>0</td>\n",
       "      <td>0</td>\n",
       "      <td>0</td>\n",
       "      <td>1</td>\n",
       "      <td>0</td>\n",
       "      <td>0</td>\n",
       "      <td>0</td>\n",
       "      <td>0</td>\n",
       "    </tr>\n",
       "    <tr>\n",
       "      <th>2</th>\n",
       "      <td>10</td>\n",
       "      <td>52</td>\n",
       "      <td>1</td>\n",
       "      <td>0</td>\n",
       "      <td>0</td>\n",
       "      <td>0</td>\n",
       "      <td>0</td>\n",
       "      <td>0</td>\n",
       "      <td>0</td>\n",
       "      <td>0</td>\n",
       "      <td>0</td>\n",
       "      <td>0</td>\n",
       "      <td>0</td>\n",
       "      <td>1</td>\n",
       "      <td>0</td>\n",
       "    </tr>\n",
       "    <tr>\n",
       "      <th>3</th>\n",
       "      <td>10</td>\n",
       "      <td>51</td>\n",
       "      <td>1</td>\n",
       "      <td>0</td>\n",
       "      <td>0</td>\n",
       "      <td>0</td>\n",
       "      <td>0</td>\n",
       "      <td>0</td>\n",
       "      <td>0</td>\n",
       "      <td>0</td>\n",
       "      <td>0</td>\n",
       "      <td>0</td>\n",
       "      <td>1</td>\n",
       "      <td>0</td>\n",
       "      <td>0</td>\n",
       "    </tr>\n",
       "    <tr>\n",
       "      <th>4</th>\n",
       "      <td>50</td>\n",
       "      <td>None</td>\n",
       "      <td>0</td>\n",
       "      <td>0</td>\n",
       "      <td>0</td>\n",
       "      <td>0</td>\n",
       "      <td>1</td>\n",
       "      <td>0</td>\n",
       "      <td>0</td>\n",
       "      <td>0</td>\n",
       "      <td>0</td>\n",
       "      <td>0</td>\n",
       "      <td>0</td>\n",
       "      <td>0</td>\n",
       "      <td>0</td>\n",
       "    </tr>\n",
       "  </tbody>\n",
       "</table>\n",
       "</div>"
      ],
      "text/plain": [
       "  MARSTAT HIDEG  MARSTAT_10  MARSTAT_20  MARSTAT_30  MARSTAT_40  MARSTAT_50  \\\n",
       "0      10    53           1           0           0           0           0   \n",
       "1      10    30           1           0           0           0           0   \n",
       "2      10    52           1           0           0           0           0   \n",
       "3      10    51           1           0           0           0           0   \n",
       "4      50  None           0           0           0           0           1   \n",
       "\n",
       "   MARSTAT_99  HIDEG_10.0  HIDEG_20.0  HIDEG_30.0  HIDEG_40.0  HIDEG_51.0  \\\n",
       "0           0           0           0           0           0           0   \n",
       "1           0           0           0           1           0           0   \n",
       "2           0           0           0           0           0           0   \n",
       "3           0           0           0           0           0           1   \n",
       "4           0           0           0           0           0           0   \n",
       "\n",
       "   HIDEG_52.0  HIDEG_53.0  \n",
       "0           0           1  \n",
       "1           0           0  \n",
       "2           1           0  \n",
       "3           0           0  \n",
       "4           0           0  "
      ]
     },
     "execution_count": 482,
     "metadata": {},
     "output_type": "execute_result"
    }
   ],
   "source": [
    "train_cat.head()"
   ]
  },
  {
   "cell_type": "markdown",
   "metadata": {},
   "source": [
    "# Logistic Regression"
   ]
  },
  {
   "cell_type": "code",
   "execution_count": 483,
   "metadata": {},
   "outputs": [],
   "source": [
    "basetable = pd.concat([train_num, train_cat], axis=1, sort=True)\n",
    "basetable = basetable.drop(['MARSTAT', 'HIDEG'], axis=1)\n",
    "variables = list(basetable.columns.values)\n",
    "basetable[\"Label\"] = Label"
   ]
  },
  {
   "cell_type": "code",
   "execution_count": 484,
   "metadata": {},
   "outputs": [
    {
     "data": {
      "text/html": [
       "<div>\n",
       "<style scoped>\n",
       "    .dataframe tbody tr th:only-of-type {\n",
       "        vertical-align: middle;\n",
       "    }\n",
       "\n",
       "    .dataframe tbody tr th {\n",
       "        vertical-align: top;\n",
       "    }\n",
       "\n",
       "    .dataframe thead th {\n",
       "        text-align: right;\n",
       "    }\n",
       "</style>\n",
       "<table border=\"1\" class=\"dataframe\">\n",
       "  <thead>\n",
       "    <tr style=\"text-align: right;\">\n",
       "      <th></th>\n",
       "      <th>YEAR</th>\n",
       "      <th>PERWEIGHT</th>\n",
       "      <th>SAQWEIGHT</th>\n",
       "      <th>AGE</th>\n",
       "      <th>SEX</th>\n",
       "      <th>BIRTHYR</th>\n",
       "      <th>EDUCYR</th>\n",
       "      <th>INCTOT</th>\n",
       "      <th>FTOTVAL</th>\n",
       "      <th>DIABETICEV</th>\n",
       "      <th>...</th>\n",
       "      <th>MARSTAT_50</th>\n",
       "      <th>MARSTAT_99</th>\n",
       "      <th>HIDEG_10.0</th>\n",
       "      <th>HIDEG_20.0</th>\n",
       "      <th>HIDEG_30.0</th>\n",
       "      <th>HIDEG_40.0</th>\n",
       "      <th>HIDEG_51.0</th>\n",
       "      <th>HIDEG_52.0</th>\n",
       "      <th>HIDEG_53.0</th>\n",
       "      <th>Label</th>\n",
       "    </tr>\n",
       "  </thead>\n",
       "  <tbody>\n",
       "    <tr>\n",
       "      <th>0</th>\n",
       "      <td>2010.0</td>\n",
       "      <td>4859.254882</td>\n",
       "      <td>5134.367675</td>\n",
       "      <td>29.0</td>\n",
       "      <td>1.0</td>\n",
       "      <td>1981.0</td>\n",
       "      <td>14.0</td>\n",
       "      <td>67000.0</td>\n",
       "      <td>67000.0</td>\n",
       "      <td>1.0</td>\n",
       "      <td>...</td>\n",
       "      <td>0</td>\n",
       "      <td>0</td>\n",
       "      <td>0</td>\n",
       "      <td>0</td>\n",
       "      <td>0</td>\n",
       "      <td>0</td>\n",
       "      <td>0</td>\n",
       "      <td>0</td>\n",
       "      <td>1</td>\n",
       "      <td>0</td>\n",
       "    </tr>\n",
       "    <tr>\n",
       "      <th>1</th>\n",
       "      <td>2010.0</td>\n",
       "      <td>6045.316406</td>\n",
       "      <td>5895.136230</td>\n",
       "      <td>26.0</td>\n",
       "      <td>2.0</td>\n",
       "      <td>1984.0</td>\n",
       "      <td>14.0</td>\n",
       "      <td>0.0</td>\n",
       "      <td>67000.0</td>\n",
       "      <td>1.0</td>\n",
       "      <td>...</td>\n",
       "      <td>0</td>\n",
       "      <td>0</td>\n",
       "      <td>0</td>\n",
       "      <td>0</td>\n",
       "      <td>1</td>\n",
       "      <td>0</td>\n",
       "      <td>0</td>\n",
       "      <td>0</td>\n",
       "      <td>0</td>\n",
       "      <td>0</td>\n",
       "    </tr>\n",
       "    <tr>\n",
       "      <th>2</th>\n",
       "      <td>2010.0</td>\n",
       "      <td>5834.068847</td>\n",
       "      <td>7058.177246</td>\n",
       "      <td>52.0</td>\n",
       "      <td>1.0</td>\n",
       "      <td>1958.0</td>\n",
       "      <td>17.0</td>\n",
       "      <td>54441.0</td>\n",
       "      <td>91420.0</td>\n",
       "      <td>1.0</td>\n",
       "      <td>...</td>\n",
       "      <td>0</td>\n",
       "      <td>0</td>\n",
       "      <td>0</td>\n",
       "      <td>0</td>\n",
       "      <td>0</td>\n",
       "      <td>0</td>\n",
       "      <td>0</td>\n",
       "      <td>1</td>\n",
       "      <td>0</td>\n",
       "      <td>0</td>\n",
       "    </tr>\n",
       "    <tr>\n",
       "      <th>3</th>\n",
       "      <td>2010.0</td>\n",
       "      <td>6652.286132</td>\n",
       "      <td>0.000000</td>\n",
       "      <td>54.0</td>\n",
       "      <td>2.0</td>\n",
       "      <td>1956.0</td>\n",
       "      <td>17.0</td>\n",
       "      <td>36979.0</td>\n",
       "      <td>91420.0</td>\n",
       "      <td>1.0</td>\n",
       "      <td>...</td>\n",
       "      <td>0</td>\n",
       "      <td>0</td>\n",
       "      <td>0</td>\n",
       "      <td>0</td>\n",
       "      <td>0</td>\n",
       "      <td>0</td>\n",
       "      <td>1</td>\n",
       "      <td>0</td>\n",
       "      <td>0</td>\n",
       "      <td>0</td>\n",
       "    </tr>\n",
       "    <tr>\n",
       "      <th>4</th>\n",
       "      <td>2010.0</td>\n",
       "      <td>9741.558593</td>\n",
       "      <td>8976.346679</td>\n",
       "      <td>62.0</td>\n",
       "      <td>2.0</td>\n",
       "      <td>1948.0</td>\n",
       "      <td>12.0</td>\n",
       "      <td>19476.0</td>\n",
       "      <td>19476.0</td>\n",
       "      <td>1.0</td>\n",
       "      <td>...</td>\n",
       "      <td>1</td>\n",
       "      <td>0</td>\n",
       "      <td>0</td>\n",
       "      <td>0</td>\n",
       "      <td>0</td>\n",
       "      <td>0</td>\n",
       "      <td>0</td>\n",
       "      <td>0</td>\n",
       "      <td>0</td>\n",
       "      <td>0</td>\n",
       "    </tr>\n",
       "  </tbody>\n",
       "</table>\n",
       "<p>5 rows × 24 columns</p>\n",
       "</div>"
      ],
      "text/plain": [
       "     YEAR    PERWEIGHT    SAQWEIGHT   AGE  SEX  BIRTHYR  EDUCYR   INCTOT  \\\n",
       "0  2010.0  4859.254882  5134.367675  29.0  1.0   1981.0    14.0  67000.0   \n",
       "1  2010.0  6045.316406  5895.136230  26.0  2.0   1984.0    14.0      0.0   \n",
       "2  2010.0  5834.068847  7058.177246  52.0  1.0   1958.0    17.0  54441.0   \n",
       "3  2010.0  6652.286132     0.000000  54.0  2.0   1956.0    17.0  36979.0   \n",
       "4  2010.0  9741.558593  8976.346679  62.0  2.0   1948.0    12.0  19476.0   \n",
       "\n",
       "   FTOTVAL  DIABETICEV  ...    MARSTAT_50  MARSTAT_99  HIDEG_10.0  HIDEG_20.0  \\\n",
       "0  67000.0         1.0  ...             0           0           0           0   \n",
       "1  67000.0         1.0  ...             0           0           0           0   \n",
       "2  91420.0         1.0  ...             0           0           0           0   \n",
       "3  91420.0         1.0  ...             0           0           0           0   \n",
       "4  19476.0         1.0  ...             1           0           0           0   \n",
       "\n",
       "   HIDEG_30.0  HIDEG_40.0  HIDEG_51.0  HIDEG_52.0  HIDEG_53.0  Label  \n",
       "0           0           0           0           0           1      0  \n",
       "1           1           0           0           0           0      0  \n",
       "2           0           0           0           1           0      0  \n",
       "3           0           0           1           0           0      0  \n",
       "4           0           0           0           0           0      0  \n",
       "\n",
       "[5 rows x 24 columns]"
      ]
     },
     "execution_count": 484,
     "metadata": {},
     "output_type": "execute_result"
    }
   ],
   "source": [
    "basetable.head()"
   ]
  },
  {
   "cell_type": "code",
   "execution_count": 486,
   "metadata": {},
   "outputs": [
    {
     "data": {
      "text/plain": [
       "0.8290501375044489"
      ]
     },
     "execution_count": 486,
     "metadata": {},
     "output_type": "execute_result"
    }
   ],
   "source": [
    "X = basetable.drop([\"Label\"], axis=1)\n",
    "y = basetable[\"Label\"]#.values.ravel()\n",
    "logreg = linear_model.LogisticRegression()\n",
    "logreg.fit(X, y)\n",
    "predictions = logreg.predict_proba(X)[:,1]\n",
    "auc = roc_auc_score(y, predictions)\n",
    "auc"
   ]
  },
  {
   "cell_type": "code",
   "execution_count": 487,
   "metadata": {},
   "outputs": [
    {
     "name": "stdout",
     "output_type": "stream",
     "text": [
      "0.8189576675824496\n",
      "0.8205443634303562\n",
      "0.8298308057857928\n",
      "0.8301963148900928\n",
      "0.8303958315567548\n",
      "0.8304409462074865\n",
      "0.8304753430885066\n",
      "0.8305010653714505\n",
      "['BIRTHYR', 'YEAR', 'FTOTVAL', 'INCTOT', 'PERWEIGHT', 'EDUCYR', 'SEX', 'SAQWEIGHT']\n"
     ]
    }
   ],
   "source": [
    "max_number_variables = 8\n",
    "number_iterations = min(max_number_variables, len(variables))\n",
    "current_variables = []\n",
    "for i in range(0,number_iterations):\n",
    "    next_var = next_best(current_variables, variables, [\"Label\"], basetable)\n",
    "    current_variables = current_variables + [next_var]\n",
    "    variables.remove(next_var)\n",
    "print(current_variables)"
   ]
  },
  {
   "cell_type": "code",
   "execution_count": 488,
   "metadata": {},
   "outputs": [
    {
     "data": {
      "text/plain": [
       "LogisticRegression(C=1.0, class_weight=None, dual=False, fit_intercept=True,\n",
       "          intercept_scaling=1, max_iter=100, multi_class='ovr', n_jobs=1,\n",
       "          penalty='l2', random_state=None, solver='liblinear', tol=0.0001,\n",
       "          verbose=0, warm_start=False)"
      ]
     },
     "execution_count": 488,
     "metadata": {},
     "output_type": "execute_result"
    }
   ],
   "source": [
    "logreg.fit(basetable[current_variables],Label)"
   ]
  },
  {
   "cell_type": "code",
   "execution_count": 489,
   "metadata": {},
   "outputs": [],
   "source": [
    "predictions = logreg.predict_proba(basetable[current_variables])\n",
    "auc = roc_auc_score(basetable[\"Label\"], predictions[:,1])"
   ]
  },
  {
   "cell_type": "code",
   "execution_count": 490,
   "metadata": {},
   "outputs": [
    {
     "name": "stdout",
     "output_type": "stream",
     "text": [
      "0.8305010653714505\n"
     ]
    }
   ],
   "source": [
    "print(auc)"
   ]
  },
  {
   "cell_type": "code",
   "execution_count": 491,
   "metadata": {},
   "outputs": [
    {
     "name": "stderr",
     "output_type": "stream",
     "text": [
      "C:\\Users\\Karsten\\Anaconda3\\lib\\site-packages\\matplotlib\\cbook\\deprecation.py:107: MatplotlibDeprecationWarning: Passing one of 'on', 'true', 'off', 'false' as a boolean is deprecated; use an actual boolean (True/False) instead.\n",
      "  warnings.warn(message, mplDeprecation, stacklevel=1)\n"
     ]
    },
    {
     "data": {
      "image/png": "[encoded data removed]",
      "text/plain": [
       "<Figure size 432x288 with 1 Axes>"
      ]
     },
     "metadata": {},
     "output_type": "display_data"
    }
   ],
   "source": [
    "skplt.metrics.plot_cumulative_gain(basetable[\"Label\"].values, predictions)\n",
    "plt.show()"
   ]
  },
  {
   "cell_type": "code",
   "execution_count": 492,
   "metadata": {},
   "outputs": [
    {
     "data": {
      "text/plain": [
       "array([[0.94060476, 1.05979541, 0.99999502, 0.99999636, 1.00000611,\n",
       "        0.99791694, 0.99872027, 1.00000198]])"
      ]
     },
     "execution_count": 492,
     "metadata": {},
     "output_type": "execute_result"
    }
   ],
   "source": [
    "np.exp(logreg.coef_)"
   ]
  },
  {
   "cell_type": "code",
   "execution_count": null,
   "metadata": {},
   "outputs": [],
   "source": []
  }
 ],
 "metadata": {
  "kernelspec": {
   "display_name": "Python 3",
   "language": "python",
   "name": "python3"
  },
  "language_info": {
   "codemirror_mode": {
    "name": "ipython",
    "version": 3
   },
   "file_extension": ".py",
   "mimetype": "text/x-python",
   "name": "python",
   "nbconvert_exporter": "python",
   "pygments_lexer": "ipython3",
   "version": "3.6.5"
  }
 },
 "nbformat": 4,
 "nbformat_minor": 2
}
