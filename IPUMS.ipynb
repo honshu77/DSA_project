{
 "cells": [
  {
   "cell_type": "code",
   "execution_count": 321,
   "metadata": {},
   "outputs": [],
   "source": [
    "import pandas as pd\n",
    "import numpy as np\n",
    "#import scikitplot as skplt\n",
    "import matplotlib.pyplot as plt\n",
    "import seaborn as sns #for pair-plot\n",
    "\n",
    "from sklearn.impute import SimpleImputer\n",
    "from sklearn.model_selection import train_test_split, KFold, StratifiedKFold, cross_val_score, GridSearchCV\n",
    "\n",
    "from sklearn import linear_model\n",
    "from sklearn.ensemble import GradientBoostingClassifier, RandomForestClassifier\n",
    "from sklearn.ensemble.partial_dependence import partial_dependence, plot_partial_dependence\n",
    "\n",
    "from sklearn.metrics import roc_auc_score, roc_curve, log_loss, brier_score_loss, confusion_matrix\n",
    "from sklearn.calibration import calibration_curve\n",
    "\n",
    "import xgboost as xgb"
   ]
  },
  {
   "cell_type": "code",
   "execution_count": 322,
   "metadata": {},
   "outputs": [],
   "source": [
    "plt.style.use('seaborn')"
   ]
  },
  {
   "cell_type": "code",
   "execution_count": 323,
   "metadata": {},
   "outputs": [],
   "source": [
    "def logreg_auc(variables, target, basetable):\n",
    "    X = basetable[variables]\n",
    "    y = basetable[target].values.ravel()\n",
    "    logreg = linear_model.LogisticRegression(solver='lbfgs', max_iter = 300)\n",
    "    logreg.fit(X, y)\n",
    "    predictions = logreg.predict_proba(X)[:,1]\n",
    "    auc = roc_auc_score(y, predictions)\n",
    "    return(auc)\n",
    "\n",
    "def logreg_ll(variables, target, basetable):\n",
    "    X = basetable[variables]\n",
    "    y = basetable[target].values.ravel()\n",
    "    logreg = linear_model.LogisticRegression(solver='lbfgs', max_iter = 300)\n",
    "    logreg.fit(X, y)\n",
    "    predictions = logreg.predict_proba(X)[:,1]\n",
    "    ll = log_loss(y, predictions)\n",
    "    return(ll)\n",
    "\n",
    "def next_best(current_variables,candidate_variables, target, basetable):\n",
    "    best_auc = -1\n",
    "    best_ll = 100000\n",
    "    best_variable = None\n",
    "    for v in candidate_variables:\n",
    "        #auc_v = logreg_auc(current_variables + [v], target, basetable)\n",
    "        ll_v = logreg_ll(current_variables + [v], target, basetable)\n",
    "        #if auc_v >= best_auc:\n",
    "        #    best_auc = auc_v\n",
    "        if ll_v <= best_ll:\n",
    "            best_ll = ll_v\n",
    "            best_variable = v\n",
    "    print(best_ll)\n",
    "    return best_variable"
   ]
  },
  {
   "cell_type": "code",
   "execution_count": 324,
   "metadata": {},
   "outputs": [],
   "source": [
    "def plot_pig_table(basetable, target, variable):\n",
    "  \n",
    "    # Create groups for each variable\n",
    "    groups = basetable[[target,variable]].groupby(variable)\n",
    "    \n",
    "    #groups.groupby(target).apply(my_agg)\n",
    "    pig_table = groups[target].agg({'Incidence' : np.mean, 'Size' : np.size}).reset_index()\n",
    "    \n",
    "    # Plot formatting\n",
    "    plt.xlabel(variable)\n",
    "    plt.ylabel(\"Size\", rotation = 0,rotation_mode=\"anchor\", ha = \"right\" )\n",
    "    \n",
    "    # Plot the bars with sizes \n",
    "    pig_table[\"Size\"].plot(kind=\"bar\", width = 0.5, color = \"lightgray\", edgecolor = \"none\") \n",
    "    \n",
    "    # Plot the incidence line on secondary axis\n",
    "    pig_table[\"Incidence\"].plot(secondary_y = True)\n",
    "    \n",
    "    # Plot formatting\n",
    "    plt.xticks(np.arange(len(pig_table)), pig_table[variable])\n",
    "    plt.xlim([-0.5, len(pig_table)-0.5])\n",
    "    plt.ylabel(\"Incidence\", rotation = 0, rotation_mode=\"anchor\", ha = \"left\")\n",
    "    \n",
    "    # Show the graph\n",
    "    plt.show()\n",
    "    "
   ]
  },
  {
   "cell_type": "code",
   "execution_count": 325,
   "metadata": {},
   "outputs": [],
   "source": [
    "data = pd.read_csv(\"data/data_002.csv\")"
   ]
  },
  {
   "cell_type": "code",
   "execution_count": 326,
   "metadata": {},
   "outputs": [
    {
     "data": {
      "text/html": [
       "<div>\n",
       "<style scoped>\n",
       "    .dataframe tbody tr th:only-of-type {\n",
       "        vertical-align: middle;\n",
       "    }\n",
       "\n",
       "    .dataframe tbody tr th {\n",
       "        vertical-align: top;\n",
       "    }\n",
       "\n",
       "    .dataframe thead th {\n",
       "        text-align: right;\n",
       "    }\n",
       "</style>\n",
       "<table border=\"1\" class=\"dataframe\">\n",
       "  <thead>\n",
       "    <tr style=\"text-align: right;\">\n",
       "      <th></th>\n",
       "      <th>Unnamed: 0</th>\n",
       "      <th>YEAR</th>\n",
       "      <th>SERIAL</th>\n",
       "      <th>DUID</th>\n",
       "      <th>PID</th>\n",
       "      <th>MEPSID</th>\n",
       "      <th>PANEL</th>\n",
       "      <th>PSUANN</th>\n",
       "      <th>STRATANN</th>\n",
       "      <th>PSUPLD</th>\n",
       "      <th>...</th>\n",
       "      <th>HEARTATTEV</th>\n",
       "      <th>HEARTCONEV</th>\n",
       "      <th>HYPERTENEV</th>\n",
       "      <th>STROKEAGE</th>\n",
       "      <th>STROKEV</th>\n",
       "      <th>HYPERTENAGE</th>\n",
       "      <th>CHEARTDIAGE</th>\n",
       "      <th>HEARTATTAGE</th>\n",
       "      <th>CHOLHIGHAGE</th>\n",
       "      <th>DIABETICAGE</th>\n",
       "    </tr>\n",
       "  </thead>\n",
       "  <tbody>\n",
       "    <tr>\n",
       "      <th>0</th>\n",
       "      <td>1</td>\n",
       "      <td>2010</td>\n",
       "      <td>1</td>\n",
       "      <td>10007</td>\n",
       "      <td>101</td>\n",
       "      <td>1000710115</td>\n",
       "      <td>15</td>\n",
       "      <td>2</td>\n",
       "      <td>1024</td>\n",
       "      <td>2.0</td>\n",
       "      <td>...</td>\n",
       "      <td>1</td>\n",
       "      <td>1</td>\n",
       "      <td>2</td>\n",
       "      <td>0</td>\n",
       "      <td>1</td>\n",
       "      <td>24</td>\n",
       "      <td>96</td>\n",
       "      <td>96</td>\n",
       "      <td>27</td>\n",
       "      <td>96</td>\n",
       "    </tr>\n",
       "    <tr>\n",
       "      <th>1</th>\n",
       "      <td>2</td>\n",
       "      <td>2010</td>\n",
       "      <td>1</td>\n",
       "      <td>10007</td>\n",
       "      <td>102</td>\n",
       "      <td>1000710215</td>\n",
       "      <td>15</td>\n",
       "      <td>2</td>\n",
       "      <td>1024</td>\n",
       "      <td>2.0</td>\n",
       "      <td>...</td>\n",
       "      <td>1</td>\n",
       "      <td>1</td>\n",
       "      <td>1</td>\n",
       "      <td>0</td>\n",
       "      <td>1</td>\n",
       "      <td>96</td>\n",
       "      <td>96</td>\n",
       "      <td>96</td>\n",
       "      <td>96</td>\n",
       "      <td>96</td>\n",
       "    </tr>\n",
       "    <tr>\n",
       "      <th>2</th>\n",
       "      <td>3</td>\n",
       "      <td>2010</td>\n",
       "      <td>1</td>\n",
       "      <td>10007</td>\n",
       "      <td>103</td>\n",
       "      <td>1000710315</td>\n",
       "      <td>15</td>\n",
       "      <td>2</td>\n",
       "      <td>1024</td>\n",
       "      <td>2.0</td>\n",
       "      <td>...</td>\n",
       "      <td>0</td>\n",
       "      <td>0</td>\n",
       "      <td>0</td>\n",
       "      <td>0</td>\n",
       "      <td>0</td>\n",
       "      <td>96</td>\n",
       "      <td>96</td>\n",
       "      <td>96</td>\n",
       "      <td>96</td>\n",
       "      <td>96</td>\n",
       "    </tr>\n",
       "    <tr>\n",
       "      <th>3</th>\n",
       "      <td>4</td>\n",
       "      <td>2010</td>\n",
       "      <td>1</td>\n",
       "      <td>10007</td>\n",
       "      <td>104</td>\n",
       "      <td>1000710415</td>\n",
       "      <td>15</td>\n",
       "      <td>2</td>\n",
       "      <td>1024</td>\n",
       "      <td>2.0</td>\n",
       "      <td>...</td>\n",
       "      <td>0</td>\n",
       "      <td>0</td>\n",
       "      <td>0</td>\n",
       "      <td>0</td>\n",
       "      <td>0</td>\n",
       "      <td>96</td>\n",
       "      <td>96</td>\n",
       "      <td>96</td>\n",
       "      <td>96</td>\n",
       "      <td>96</td>\n",
       "    </tr>\n",
       "    <tr>\n",
       "      <th>4</th>\n",
       "      <td>5</td>\n",
       "      <td>2010</td>\n",
       "      <td>2</td>\n",
       "      <td>10008</td>\n",
       "      <td>101</td>\n",
       "      <td>1000810115</td>\n",
       "      <td>15</td>\n",
       "      <td>1</td>\n",
       "      <td>1021</td>\n",
       "      <td>1.0</td>\n",
       "      <td>...</td>\n",
       "      <td>1</td>\n",
       "      <td>1</td>\n",
       "      <td>1</td>\n",
       "      <td>0</td>\n",
       "      <td>1</td>\n",
       "      <td>96</td>\n",
       "      <td>96</td>\n",
       "      <td>96</td>\n",
       "      <td>96</td>\n",
       "      <td>96</td>\n",
       "    </tr>\n",
       "  </tbody>\n",
       "</table>\n",
       "<p>5 rows × 47 columns</p>\n",
       "</div>"
      ],
      "text/plain": [
       "   Unnamed: 0  YEAR  SERIAL   DUID  PID      MEPSID  PANEL  PSUANN  STRATANN  \\\n",
       "0           1  2010       1  10007  101  1000710115     15       2      1024   \n",
       "1           2  2010       1  10007  102  1000710215     15       2      1024   \n",
       "2           3  2010       1  10007  103  1000710315     15       2      1024   \n",
       "3           4  2010       1  10007  104  1000710415     15       2      1024   \n",
       "4           5  2010       2  10008  101  1000810115     15       1      1021   \n",
       "\n",
       "   PSUPLD     ...       HEARTATTEV  HEARTCONEV  HYPERTENEV  STROKEAGE  \\\n",
       "0     2.0     ...                1           1           2          0   \n",
       "1     2.0     ...                1           1           1          0   \n",
       "2     2.0     ...                0           0           0          0   \n",
       "3     2.0     ...                0           0           0          0   \n",
       "4     1.0     ...                1           1           1          0   \n",
       "\n",
       "   STROKEV  HYPERTENAGE  CHEARTDIAGE  HEARTATTAGE  CHOLHIGHAGE  DIABETICAGE  \n",
       "0        1           24           96           96           27           96  \n",
       "1        1           96           96           96           96           96  \n",
       "2        0           96           96           96           96           96  \n",
       "3        0           96           96           96           96           96  \n",
       "4        1           96           96           96           96           96  \n",
       "\n",
       "[5 rows x 47 columns]"
      ]
     },
     "execution_count": 326,
     "metadata": {},
     "output_type": "execute_result"
    }
   ],
   "source": [
    "data.head()"
   ]
  },
  {
   "cell_type": "code",
   "execution_count": 327,
   "metadata": {},
   "outputs": [
    {
     "data": {
      "text/plain": [
       "Unnamed: 0       int64\n",
       "YEAR             int64\n",
       "SERIAL           int64\n",
       "DUID             int64\n",
       "PID              int64\n",
       "MEPSID           int64\n",
       "PANEL            int64\n",
       "PSUANN           int64\n",
       "STRATANN         int64\n",
       "PSUPLD         float64\n",
       "STRATAPLD      float64\n",
       "PANELYR          int64\n",
       "RELYR            int64\n",
       "PERNUM           int64\n",
       "PERWEIGHT      float64\n",
       "SAQWEIGHT      float64\n",
       "DIABWEIGHT     float64\n",
       "AGE              int64\n",
       "SEX              int64\n",
       "MARSTAT          int64\n",
       "BIRTHYR          int64\n",
       "REGIONMEPS       int64\n",
       "FAMSIZE          int64\n",
       "RACEA            int64\n",
       "USBORN           int64\n",
       "INTERVLANG       int64\n",
       "EDUCYR         float64\n",
       "HIDEG          float64\n",
       "WORKEV           int64\n",
       "INCTOT         float64\n",
       "FTOTVAL        float64\n",
       "POVLEV         float64\n",
       "FILESTATUS       int64\n",
       "CANCEREV         int64\n",
       "CHEARTDIEV       int64\n",
       "CHOLHIGHEV       int64\n",
       "DIABETICEV       int64\n",
       "HEARTATTEV       int64\n",
       "HEARTCONEV       int64\n",
       "HYPERTENEV       int64\n",
       "STROKEAGE        int64\n",
       "STROKEV          int64\n",
       "HYPERTENAGE      int64\n",
       "CHEARTDIAGE      int64\n",
       "HEARTATTAGE      int64\n",
       "CHOLHIGHAGE      int64\n",
       "DIABETICAGE      int64\n",
       "dtype: object"
      ]
     },
     "execution_count": 327,
     "metadata": {},
     "output_type": "execute_result"
    }
   ],
   "source": [
    "data.dtypes"
   ]
  },
  {
   "cell_type": "code",
   "execution_count": 328,
   "metadata": {},
   "outputs": [
    {
     "data": {
      "image/png": "[encoded data removed]",
      "text/plain": [
       "<Figure size 576x396 with 1 Axes>"
      ]
     },
     "metadata": {},
     "output_type": "display_data"
    }
   ],
   "source": [
    "target_variable = \"HEARTATTEV\"\n",
    "candidate_variables = []\n",
    "data[target_variable].value_counts().sort_index().plot(\"bar\");"
   ]
  },
  {
   "cell_type": "code",
   "execution_count": 329,
   "metadata": {},
   "outputs": [
    {
     "data": {
      "text/plain": [
       "0"
      ]
     },
     "execution_count": 329,
     "metadata": {},
     "output_type": "execute_result"
    }
   ],
   "source": [
    "data[target_variable].isna().sum()"
   ]
  },
  {
   "cell_type": "code",
   "execution_count": 330,
   "metadata": {},
   "outputs": [],
   "source": [
    "#binary classification of target variable\n",
    "#remove all data rows with unknown target variable\n",
    "data.drop(data[-data[target_variable].isin([1, 2])].index, inplace = True)\n",
    "data.loc[data[target_variable] == 1,target_variable] = 0\n",
    "data.loc[data[target_variable] == 2,target_variable] = 1\n",
    "data = data.reset_index(drop = True)"
   ]
  },
  {
   "cell_type": "code",
   "execution_count": 331,
   "metadata": {},
   "outputs": [
    {
     "data": {
      "text/plain": [
       "0.03520315932919876"
      ]
     },
     "execution_count": 331,
     "metadata": {},
     "output_type": "execute_result"
    }
   ],
   "source": [
    "data[target_variable].mean()"
   ]
  },
  {
   "cell_type": "code",
   "execution_count": 332,
   "metadata": {},
   "outputs": [
    {
     "data": {
      "text/plain": [
       "0"
      ]
     },
     "execution_count": 332,
     "metadata": {},
     "output_type": "execute_result"
    }
   ],
   "source": [
    "data[\"YEAR\"].isna().sum()"
   ]
  },
  {
   "cell_type": "code",
   "execution_count": 333,
   "metadata": {},
   "outputs": [
    {
     "name": "stderr",
     "output_type": "stream",
     "text": [
      "C:\\Users\\Karsten\\Anaconda3\\lib\\site-packages\\ipykernel_launcher.py:7: FutureWarning: using a dict on a Series for aggregation\n",
      "is deprecated and will be removed in a future version\n",
      "  import sys\n"
     ]
    },
    {
     "data": {
      "image/png": "[encoded data removed]",
      "text/plain": [
       "<Figure size 576x396 with 2 Axes>"
      ]
     },
     "metadata": {},
     "output_type": "display_data"
    }
   ],
   "source": [
    "plot_pig_table(data, target_variable, \"YEAR\")"
   ]
  },
  {
   "cell_type": "code",
   "execution_count": 334,
   "metadata": {},
   "outputs": [],
   "source": [
    "candidate_variables.extend([\"YEAR\"])"
   ]
  },
  {
   "cell_type": "code",
   "execution_count": 335,
   "metadata": {},
   "outputs": [
    {
     "data": {
      "image/png": "[encoded data removed]",
      "text/plain": [
       "<Figure size 576x396 with 1 Axes>"
      ]
     },
     "metadata": {},
     "output_type": "display_data"
    }
   ],
   "source": [
    "data['AGE'].value_counts().sort_index().plot(kind='line');"
   ]
  },
  {
   "cell_type": "code",
   "execution_count": 336,
   "metadata": {},
   "outputs": [],
   "source": [
    "#All ages above 85 are regrouped in 85\n",
    "#Unknowns are coded as 99\n",
    "data.loc[data['AGE'].isin([96, 97, 98, 99]),'AGE'] = np.nan\n",
    "\n",
    "#BIRTHYR is treated in the same way. Keep AGE\n",
    "candidate_variables.extend([\"AGE\"])"
   ]
  },
  {
   "cell_type": "code",
   "execution_count": 337,
   "metadata": {},
   "outputs": [
    {
     "data": {
      "text/plain": [
       "1395"
      ]
     },
     "execution_count": 337,
     "metadata": {},
     "output_type": "execute_result"
    }
   ],
   "source": [
    "data[\"AGE\"].isna().sum()"
   ]
  },
  {
   "cell_type": "code",
   "execution_count": 338,
   "metadata": {},
   "outputs": [
    {
     "data": {
      "text/plain": [
       "count    179785.000000\n",
       "mean       9416.623627\n",
       "std        8351.204369\n",
       "min           0.000000\n",
       "25%        3784.611328\n",
       "50%        6900.357910\n",
       "75%       12644.689453\n",
       "max      102133.750000\n",
       "Name: PERWEIGHT, dtype: float64"
      ]
     },
     "execution_count": 338,
     "metadata": {},
     "output_type": "execute_result"
    }
   ],
   "source": [
    "#PERWEIGHT technical variable to reweight samples \n",
    "data[\"PERWEIGHT\"].describe()"
   ]
  },
  {
   "cell_type": "code",
   "execution_count": 339,
   "metadata": {},
   "outputs": [
    {
     "data": {
      "text/plain": [
       "array([1, 2], dtype=int64)"
      ]
     },
     "execution_count": 339,
     "metadata": {},
     "output_type": "execute_result"
    }
   ],
   "source": [
    "data['SEX'].unique()"
   ]
  },
  {
   "cell_type": "code",
   "execution_count": 340,
   "metadata": {},
   "outputs": [
    {
     "data": {
      "image/png": "[encoded data removed]",
      "text/plain": [
       "<Figure size 576x396 with 1 Axes>"
      ]
     },
     "metadata": {},
     "output_type": "display_data"
    }
   ],
   "source": [
    "pd.crosstab(data.SEX,data[target_variable]).plot(kind='bar')\n",
    "plt.title('Bar Chart of Sex vs Target')\n",
    "plt.xlabel('Sex')\n",
    "plt.ylabel('Proportion of Customers')\n",
    "plt.savefig('Results\\sex_vs_tgt')"
   ]
  },
  {
   "cell_type": "code",
   "execution_count": 341,
   "metadata": {},
   "outputs": [
    {
     "name": "stderr",
     "output_type": "stream",
     "text": [
      "C:\\Users\\Karsten\\Anaconda3\\lib\\site-packages\\ipykernel_launcher.py:7: FutureWarning: using a dict on a Series for aggregation\n",
      "is deprecated and will be removed in a future version\n",
      "  import sys\n"
     ]
    },
    {
     "data": {
      "image/png": "[encoded data removed]",
      "text/plain": [
       "<Figure size 576x396 with 2 Axes>"
      ]
     },
     "metadata": {},
     "output_type": "display_data"
    }
   ],
   "source": [
    "plot_pig_table(data, target_variable, \"SEX\")"
   ]
  },
  {
   "cell_type": "code",
   "execution_count": 342,
   "metadata": {},
   "outputs": [
    {
     "data": {
      "text/plain": [
       "0"
      ]
     },
     "execution_count": 342,
     "metadata": {},
     "output_type": "execute_result"
    }
   ],
   "source": [
    "data[\"SEX\"].isna().sum()"
   ]
  },
  {
   "cell_type": "code",
   "execution_count": 343,
   "metadata": {},
   "outputs": [],
   "source": [
    "candidate_variables.extend([\"SEX\"])"
   ]
  },
  {
   "cell_type": "code",
   "execution_count": 344,
   "metadata": {},
   "outputs": [],
   "source": [
    "data['MARSTAT'] = data['MARSTAT'].astype('object')"
   ]
  },
  {
   "cell_type": "code",
   "execution_count": 345,
   "metadata": {},
   "outputs": [
    {
     "name": "stderr",
     "output_type": "stream",
     "text": [
      "C:\\Users\\Karsten\\Anaconda3\\lib\\site-packages\\ipykernel_launcher.py:7: FutureWarning: using a dict on a Series for aggregation\n",
      "is deprecated and will be removed in a future version\n",
      "  import sys\n"
     ]
    },
    {
     "data": {
      "image/png": "[encoded data removed]",
      "text/plain": [
       "<Figure size 576x396 with 2 Axes>"
      ]
     },
     "metadata": {},
     "output_type": "display_data"
    }
   ],
   "source": [
    "plot_pig_table(data, target_variable, \"MARSTAT\")"
   ]
  },
  {
   "cell_type": "code",
   "execution_count": 346,
   "metadata": {},
   "outputs": [
    {
     "data": {
      "text/plain": [
       "0"
      ]
     },
     "execution_count": 346,
     "metadata": {},
     "output_type": "execute_result"
    }
   ],
   "source": [
    "data[\"MARSTAT\"].isna().sum()"
   ]
  },
  {
   "cell_type": "code",
   "execution_count": 347,
   "metadata": {},
   "outputs": [],
   "source": [
    "candidate_variables.extend([\"MARSTAT\"])"
   ]
  },
  {
   "cell_type": "code",
   "execution_count": 348,
   "metadata": {},
   "outputs": [
    {
     "data": {
      "image/png": "[encoded data removed]",
      "text/plain": [
       "<Figure size 576x396 with 1 Axes>"
      ]
     },
     "metadata": {},
     "output_type": "display_data"
    }
   ],
   "source": [
    "data['REGIONMEPS'].value_counts().sort_index().plot(\"bar\");"
   ]
  },
  {
   "cell_type": "code",
   "execution_count": 349,
   "metadata": {},
   "outputs": [],
   "source": [
    "data.loc[data['REGIONMEPS'] == 0, \"REGIONMEPS\"] = 99\n",
    "data['REGIONMEPS'] = data['REGIONMEPS'].astype('object')"
   ]
  },
  {
   "cell_type": "code",
   "execution_count": 350,
   "metadata": {},
   "outputs": [
    {
     "name": "stderr",
     "output_type": "stream",
     "text": [
      "C:\\Users\\Karsten\\Anaconda3\\lib\\site-packages\\ipykernel_launcher.py:7: FutureWarning: using a dict on a Series for aggregation\n",
      "is deprecated and will be removed in a future version\n",
      "  import sys\n"
     ]
    },
    {
     "data": {
      "image/png": "[encoded data removed]",
      "text/plain": [
       "<Figure size 576x396 with 2 Axes>"
      ]
     },
     "metadata": {},
     "output_type": "display_data"
    }
   ],
   "source": [
    "plot_pig_table(data, target_variable, \"REGIONMEPS\")"
   ]
  },
  {
   "cell_type": "code",
   "execution_count": 351,
   "metadata": {},
   "outputs": [],
   "source": [
    "candidate_variables.extend([\"REGIONMEPS\"])"
   ]
  },
  {
   "cell_type": "code",
   "execution_count": 352,
   "metadata": {},
   "outputs": [
    {
     "data": {
      "image/png": "[encoded data removed]",
      "text/plain": [
       "<Figure size 576x396 with 1 Axes>"
      ]
     },
     "metadata": {},
     "output_type": "display_data"
    }
   ],
   "source": [
    "data['FAMSIZE'].value_counts().sort_index().plot(\"bar\");"
   ]
  },
  {
   "cell_type": "code",
   "execution_count": 353,
   "metadata": {},
   "outputs": [
    {
     "data": {
      "text/plain": [
       "0"
      ]
     },
     "execution_count": 353,
     "metadata": {},
     "output_type": "execute_result"
    }
   ],
   "source": [
    "data[\"FAMSIZE\"].isna().sum()"
   ]
  },
  {
   "cell_type": "code",
   "execution_count": 354,
   "metadata": {},
   "outputs": [
    {
     "name": "stderr",
     "output_type": "stream",
     "text": [
      "C:\\Users\\Karsten\\Anaconda3\\lib\\site-packages\\ipykernel_launcher.py:7: FutureWarning: using a dict on a Series for aggregation\n",
      "is deprecated and will be removed in a future version\n",
      "  import sys\n"
     ]
    },
    {
     "data": {
      "image/png": "[encoded data removed]",
      "text/plain": [
       "<Figure size 576x396 with 2 Axes>"
      ]
     },
     "metadata": {},
     "output_type": "display_data"
    }
   ],
   "source": [
    "plot_pig_table(data, target_variable, \"FAMSIZE\")"
   ]
  },
  {
   "cell_type": "code",
   "execution_count": 355,
   "metadata": {},
   "outputs": [],
   "source": [
    "candidate_variables.extend([\"FAMSIZE\"])"
   ]
  },
  {
   "cell_type": "code",
   "execution_count": 356,
   "metadata": {},
   "outputs": [
    {
     "data": {
      "image/png": "[encoded data removed]",
      "text/plain": [
       "<Figure size 576x396 with 1 Axes>"
      ]
     },
     "metadata": {},
     "output_type": "display_data"
    }
   ],
   "source": [
    "data['RACEA'].value_counts().sort_index().plot(\"bar\");"
   ]
  },
  {
   "cell_type": "code",
   "execution_count": 357,
   "metadata": {},
   "outputs": [
    {
     "data": {
      "text/plain": [
       "0"
      ]
     },
     "execution_count": 357,
     "metadata": {},
     "output_type": "execute_result"
    }
   ],
   "source": [
    "data[\"RACEA\"].isna().sum()"
   ]
  },
  {
   "cell_type": "code",
   "execution_count": 358,
   "metadata": {},
   "outputs": [],
   "source": [
    "data.loc[~data['RACEA'].isin([100, 200, 310, 410, 614, 615]),'RACEA'] = 999\n",
    "data['RACEA'] = data['RACEA'].astype('object')"
   ]
  },
  {
   "cell_type": "code",
   "execution_count": 359,
   "metadata": {},
   "outputs": [
    {
     "name": "stderr",
     "output_type": "stream",
     "text": [
      "C:\\Users\\Karsten\\Anaconda3\\lib\\site-packages\\ipykernel_launcher.py:7: FutureWarning: using a dict on a Series for aggregation\n",
      "is deprecated and will be removed in a future version\n",
      "  import sys\n"
     ]
    },
    {
     "data": {
      "image/png": "[encoded data removed]",
      "text/plain": [
       "<Figure size 576x396 with 2 Axes>"
      ]
     },
     "metadata": {},
     "output_type": "display_data"
    }
   ],
   "source": [
    "plot_pig_table(data, target_variable, \"RACEA\")"
   ]
  },
  {
   "cell_type": "code",
   "execution_count": 360,
   "metadata": {},
   "outputs": [],
   "source": [
    "candidate_variables.extend([\"RACEA\"])"
   ]
  },
  {
   "cell_type": "code",
   "execution_count": 361,
   "metadata": {},
   "outputs": [
    {
     "data": {
      "image/png": "[encoded data removed]",
      "text/plain": [
       "<Figure size 576x396 with 1 Axes>"
      ]
     },
     "metadata": {},
     "output_type": "display_data"
    }
   ],
   "source": [
    "data['USBORN'].value_counts().sort_index().plot(\"bar\");"
   ]
  },
  {
   "cell_type": "code",
   "execution_count": 362,
   "metadata": {},
   "outputs": [
    {
     "data": {
      "text/plain": [
       "0"
      ]
     },
     "execution_count": 362,
     "metadata": {},
     "output_type": "execute_result"
    }
   ],
   "source": [
    "data[\"USBORN\"].isna().sum()"
   ]
  },
  {
   "cell_type": "code",
   "execution_count": 363,
   "metadata": {},
   "outputs": [],
   "source": [
    "data.loc[~data['USBORN'].isin([10, 20]),'USBORN'] = 99\n",
    "data['USBORN'] = data['USBORN'].astype('object')"
   ]
  },
  {
   "cell_type": "code",
   "execution_count": 364,
   "metadata": {},
   "outputs": [
    {
     "name": "stderr",
     "output_type": "stream",
     "text": [
      "C:\\Users\\Karsten\\Anaconda3\\lib\\site-packages\\ipykernel_launcher.py:7: FutureWarning: using a dict on a Series for aggregation\n",
      "is deprecated and will be removed in a future version\n",
      "  import sys\n"
     ]
    },
    {
     "data": {
      "image/png": "[encoded data removed]",
      "text/plain": [
       "<Figure size 576x396 with 2 Axes>"
      ]
     },
     "metadata": {},
     "output_type": "display_data"
    }
   ],
   "source": [
    "plot_pig_table(data, target_variable, \"USBORN\")"
   ]
  },
  {
   "cell_type": "code",
   "execution_count": 365,
   "metadata": {},
   "outputs": [],
   "source": [
    "candidate_variables.extend([\"USBORN\"])"
   ]
  },
  {
   "cell_type": "code",
   "execution_count": 366,
   "metadata": {},
   "outputs": [
    {
     "data": {
      "image/png": "[encoded data removed]",
      "text/plain": [
       "<Figure size 576x396 with 1 Axes>"
      ]
     },
     "metadata": {},
     "output_type": "display_data"
    }
   ],
   "source": [
    "data['INTERVLANG'].value_counts().sort_index().plot(\"bar\");"
   ]
  },
  {
   "cell_type": "code",
   "execution_count": 367,
   "metadata": {},
   "outputs": [
    {
     "data": {
      "text/plain": [
       "0"
      ]
     },
     "execution_count": 367,
     "metadata": {},
     "output_type": "execute_result"
    }
   ],
   "source": [
    "data['INTERVLANG'] = data['INTERVLANG'].astype('object')\n",
    "data[\"INTERVLANG\"].isna().sum()"
   ]
  },
  {
   "cell_type": "code",
   "execution_count": 368,
   "metadata": {},
   "outputs": [],
   "source": [
    "data.loc[data['INTERVLANG'] == 1, 'INTERVLANG'] = \"Eng\"\n",
    "data.loc[data['INTERVLANG'] == 2, 'INTERVLANG'] = \"Sp\"\n",
    "data.loc[data['INTERVLANG'] == 3, 'INTERVLANG'] = \"Eng_Sp\"\n",
    "data.loc[data['INTERVLANG'] == 4, 'INTERVLANG'] = \"Unknown\""
   ]
  },
  {
   "cell_type": "code",
   "execution_count": 369,
   "metadata": {},
   "outputs": [
    {
     "name": "stderr",
     "output_type": "stream",
     "text": [
      "C:\\Users\\Karsten\\Anaconda3\\lib\\site-packages\\ipykernel_launcher.py:7: FutureWarning: using a dict on a Series for aggregation\n",
      "is deprecated and will be removed in a future version\n",
      "  import sys\n"
     ]
    },
    {
     "data": {
      "image/png": "[encoded data removed]",
      "text/plain": [
       "<Figure size 576x396 with 2 Axes>"
      ]
     },
     "metadata": {},
     "output_type": "display_data"
    }
   ],
   "source": [
    "plot_pig_table(data, target_variable, \"INTERVLANG\")"
   ]
  },
  {
   "cell_type": "code",
   "execution_count": 370,
   "metadata": {},
   "outputs": [],
   "source": [
    "candidate_variables.extend([\"INTERVLANG\"])"
   ]
  },
  {
   "cell_type": "markdown",
   "metadata": {},
   "source": [
    "FILESTATUS: Status in latest tax file (Single, Married etc.)"
   ]
  },
  {
   "cell_type": "code",
   "execution_count": 371,
   "metadata": {},
   "outputs": [
    {
     "data": {
      "image/png": "[encoded data removed]",
      "text/plain": [
       "<Figure size 576x396 with 1 Axes>"
      ]
     },
     "metadata": {},
     "output_type": "display_data"
    }
   ],
   "source": [
    "data['FILESTATUS'].value_counts().sort_index().plot(\"bar\");"
   ]
  },
  {
   "cell_type": "code",
   "execution_count": 372,
   "metadata": {},
   "outputs": [
    {
     "data": {
      "text/plain": [
       "0"
      ]
     },
     "execution_count": 372,
     "metadata": {},
     "output_type": "execute_result"
    }
   ],
   "source": [
    "data['FILESTATUS'] = data['FILESTATUS'].astype('object')\n",
    "data[\"FILESTATUS\"].isna().sum()"
   ]
  },
  {
   "cell_type": "code",
   "execution_count": 373,
   "metadata": {},
   "outputs": [],
   "source": [
    "data.loc[~data['FILESTATUS'].isin([1, 2, 3, 4]),'FILESTATUS'] = \"Unknown\"\n",
    "data.loc[data['FILESTATUS'] == 1, 'FILESTATUS'] = \"Single\"\n",
    "data.loc[data['FILESTATUS'] == 2, 'FILESTATUS'] = \"Married_joint\"\n",
    "data.loc[data['FILESTATUS'] == 3, 'FILESTATUS'] = \"Married_sep\"\n",
    "data.loc[data['FILESTATUS'] == 4, 'FILESTATUS'] = \"Head_wq\""
   ]
  },
  {
   "cell_type": "code",
   "execution_count": 374,
   "metadata": {},
   "outputs": [
    {
     "name": "stderr",
     "output_type": "stream",
     "text": [
      "C:\\Users\\Karsten\\Anaconda3\\lib\\site-packages\\ipykernel_launcher.py:7: FutureWarning: using a dict on a Series for aggregation\n",
      "is deprecated and will be removed in a future version\n",
      "  import sys\n"
     ]
    },
    {
     "data": {
      "image/png": "[encoded data removed]",
      "text/plain": [
       "<Figure size 576x396 with 2 Axes>"
      ]
     },
     "metadata": {},
     "output_type": "display_data"
    }
   ],
   "source": [
    "plot_pig_table(data, target_variable, \"FILESTATUS\")"
   ]
  },
  {
   "cell_type": "code",
   "execution_count": 375,
   "metadata": {},
   "outputs": [],
   "source": [
    "candidate_variables.extend([\"FILESTATUS\"])"
   ]
  },
  {
   "cell_type": "code",
   "execution_count": 376,
   "metadata": {},
   "outputs": [
    {
     "data": {
      "image/png": "[encoded data removed]",
      "text/plain": [
       "<Figure size 576x396 with 1 Axes>"
      ]
     },
     "metadata": {},
     "output_type": "display_data"
    }
   ],
   "source": [
    "data['WORKEV'].value_counts().sort_index().plot(\"bar\");"
   ]
  },
  {
   "cell_type": "code",
   "execution_count": 377,
   "metadata": {},
   "outputs": [
    {
     "data": {
      "text/plain": [
       "0"
      ]
     },
     "execution_count": 377,
     "metadata": {},
     "output_type": "execute_result"
    }
   ],
   "source": [
    "data['WORKEV'] = data['WORKEV'].astype('object')\n",
    "data[\"WORKEV\"].isna().sum()"
   ]
  },
  {
   "cell_type": "code",
   "execution_count": 378,
   "metadata": {},
   "outputs": [],
   "source": [
    "data.loc[~data['WORKEV'].isin([1, 2]),'WORKEV'] = \"Unknown\"\n",
    "data.loc[data['WORKEV'] == 1, 'WORKEV'] = \"No\"\n",
    "data.loc[data['WORKEV'] == 2, 'WORKEV'] = \"Yes\""
   ]
  },
  {
   "cell_type": "code",
   "execution_count": 379,
   "metadata": {},
   "outputs": [
    {
     "name": "stderr",
     "output_type": "stream",
     "text": [
      "C:\\Users\\Karsten\\Anaconda3\\lib\\site-packages\\ipykernel_launcher.py:7: FutureWarning: using a dict on a Series for aggregation\n",
      "is deprecated and will be removed in a future version\n",
      "  import sys\n"
     ]
    },
    {
     "data": {
      "image/png": "[encoded data removed]",
      "text/plain": [
       "<Figure size 576x396 with 2 Axes>"
      ]
     },
     "metadata": {},
     "output_type": "display_data"
    }
   ],
   "source": [
    "plot_pig_table(data, target_variable, \"WORKEV\")"
   ]
  },
  {
   "cell_type": "code",
   "execution_count": 380,
   "metadata": {},
   "outputs": [],
   "source": [
    "# Question only asked to those who didnt indicate current employment in prior questions\n",
    "candidate_variables.extend([\"WORKEV\"])"
   ]
  },
  {
   "cell_type": "code",
   "execution_count": 381,
   "metadata": {},
   "outputs": [
    {
     "data": {
      "image/png": "[encoded data removed]",
      "text/plain": [
       "<Figure size 576x396 with 1 Axes>"
      ]
     },
     "metadata": {},
     "output_type": "display_data"
    }
   ],
   "source": [
    "data['EDUCYR'].value_counts().sort_index().plot(\"bar\");\n",
    "#review if correlation high enough to just use one of two"
   ]
  },
  {
   "cell_type": "code",
   "execution_count": 382,
   "metadata": {},
   "outputs": [
    {
     "data": {
      "text/plain": [
       "26499"
      ]
     },
     "execution_count": 382,
     "metadata": {},
     "output_type": "execute_result"
    }
   ],
   "source": [
    "data[\"EDUCYR\"].isna().sum()"
   ]
  },
  {
   "cell_type": "code",
   "execution_count": 383,
   "metadata": {},
   "outputs": [],
   "source": [
    "# regroup different types of unknown. Treat variable as numeric therefore keep as missing\n",
    "# integer variable canont handle empty, keep as float\n",
    "data.loc[data['EDUCYR'].isin([96, 97, 98, 99]),'EDUCYR'] = np.nan"
   ]
  },
  {
   "cell_type": "code",
   "execution_count": 384,
   "metadata": {},
   "outputs": [
    {
     "data": {
      "text/plain": [
       "79035"
      ]
     },
     "execution_count": 384,
     "metadata": {},
     "output_type": "execute_result"
    }
   ],
   "source": [
    "data[\"EDUCYR\"].isna().sum()"
   ]
  },
  {
   "cell_type": "code",
   "execution_count": 385,
   "metadata": {},
   "outputs": [
    {
     "name": "stderr",
     "output_type": "stream",
     "text": [
      "C:\\Users\\Karsten\\Anaconda3\\lib\\site-packages\\ipykernel_launcher.py:7: FutureWarning: using a dict on a Series for aggregation\n",
      "is deprecated and will be removed in a future version\n",
      "  import sys\n"
     ]
    },
    {
     "data": {
      "image/png": "[encoded data removed]",
      "text/plain": [
       "<Figure size 576x396 with 2 Axes>"
      ]
     },
     "metadata": {},
     "output_type": "display_data"
    }
   ],
   "source": [
    "plot_pig_table(data, target_variable, \"EDUCYR\")"
   ]
  },
  {
   "cell_type": "code",
   "execution_count": 386,
   "metadata": {},
   "outputs": [],
   "source": [
    "candidate_variables.extend([\"EDUCYR\"])"
   ]
  },
  {
   "cell_type": "code",
   "execution_count": 387,
   "metadata": {},
   "outputs": [
    {
     "data": {
      "image/png": "[encoded data removed]",
      "text/plain": [
       "<Figure size 576x396 with 1 Axes>"
      ]
     },
     "metadata": {},
     "output_type": "display_data"
    }
   ],
   "source": [
    "data['HIDEG'].value_counts().sort_index().plot(\"bar\");"
   ]
  },
  {
   "cell_type": "code",
   "execution_count": 388,
   "metadata": {},
   "outputs": [
    {
     "data": {
      "text/plain": [
       "51560"
      ]
     },
     "execution_count": 388,
     "metadata": {},
     "output_type": "execute_result"
    }
   ],
   "source": [
    "data[\"HIDEG\"].isna().sum()"
   ]
  },
  {
   "cell_type": "code",
   "execution_count": 389,
   "metadata": {},
   "outputs": [],
   "source": [
    "# regroup different types of unknown. Treat as categorical variable, therefore replace with 99\n",
    "data.loc[data['HIDEG'].isna(), 'HIDEG'] = 99\n",
    "data['HIDEG'] = data['HIDEG'].astype(int)\n",
    "data.loc[data['HIDEG'].isin([96, 97, 98, 99]),'HIDEG'] = 99\n",
    "data['HIDEG'] = data['HIDEG'].astype('object')"
   ]
  },
  {
   "cell_type": "code",
   "execution_count": 390,
   "metadata": {},
   "outputs": [
    {
     "name": "stderr",
     "output_type": "stream",
     "text": [
      "C:\\Users\\Karsten\\Anaconda3\\lib\\site-packages\\ipykernel_launcher.py:7: FutureWarning: using a dict on a Series for aggregation\n",
      "is deprecated and will be removed in a future version\n",
      "  import sys\n"
     ]
    },
    {
     "data": {
      "image/png": "[encoded data removed]",
      "text/plain": [
       "<Figure size 576x396 with 2 Axes>"
      ]
     },
     "metadata": {},
     "output_type": "display_data"
    }
   ],
   "source": [
    "plot_pig_table(data, target_variable, \"HIDEG\")"
   ]
  },
  {
   "cell_type": "code",
   "execution_count": 391,
   "metadata": {},
   "outputs": [
    {
     "data": {
      "text/plain": [
       "0"
      ]
     },
     "execution_count": 391,
     "metadata": {},
     "output_type": "execute_result"
    }
   ],
   "source": [
    "data[\"HIDEG\"].isna().sum()"
   ]
  },
  {
   "cell_type": "code",
   "execution_count": 392,
   "metadata": {},
   "outputs": [],
   "source": [
    "candidate_variables.extend([\"HIDEG\"])"
   ]
  },
  {
   "cell_type": "code",
   "execution_count": 393,
   "metadata": {},
   "outputs": [
    {
     "data": {
      "text/plain": [
       "count    179785.000000\n",
       "mean      29824.530645\n",
       "std       33950.942183\n",
       "min     -204643.000000\n",
       "25%        8088.000000\n",
       "50%       20000.000000\n",
       "75%       40000.000000\n",
       "max      731652.960000\n",
       "Name: INCTOT, dtype: float64"
      ]
     },
     "execution_count": 393,
     "metadata": {},
     "output_type": "execute_result"
    }
   ],
   "source": [
    "data[\"INCTOT\"].describe()"
   ]
  },
  {
   "cell_type": "code",
   "execution_count": 394,
   "metadata": {},
   "outputs": [
    {
     "data": {
      "text/plain": [
       "0"
      ]
     },
     "execution_count": 394,
     "metadata": {},
     "output_type": "execute_result"
    }
   ],
   "source": [
    "data[\"INCTOT\"].isna().sum()"
   ]
  },
  {
   "cell_type": "code",
   "execution_count": 395,
   "metadata": {},
   "outputs": [
    {
     "data": {
      "text/plain": [
       "count    179785.000000\n",
       "mean      61156.177518\n",
       "std       57114.272213\n",
       "min     -258220.000000\n",
       "25%       21855.000000\n",
       "50%       45000.000000\n",
       "75%       82930.000000\n",
       "max      731653.000000\n",
       "Name: FTOTVAL, dtype: float64"
      ]
     },
     "execution_count": 395,
     "metadata": {},
     "output_type": "execute_result"
    }
   ],
   "source": [
    "data[\"FTOTVAL\"].describe()"
   ]
  },
  {
   "cell_type": "code",
   "execution_count": 396,
   "metadata": {},
   "outputs": [
    {
     "data": {
      "text/plain": [
       "0"
      ]
     },
     "execution_count": 396,
     "metadata": {},
     "output_type": "execute_result"
    }
   ],
   "source": [
    "data[\"FTOTVAL\"].isna().sum()"
   ]
  },
  {
   "cell_type": "code",
   "execution_count": 397,
   "metadata": {},
   "outputs": [
    {
     "data": {
      "image/png": "[encoded data removed]",
      "text/plain": [
       "<Figure size 576x396 with 1 Axes>"
      ]
     },
     "metadata": {},
     "output_type": "display_data"
    }
   ],
   "source": [
    "data[\"FTOTVAL\"].hist(bins=50);"
   ]
  },
  {
   "cell_type": "code",
   "execution_count": 398,
   "metadata": {},
   "outputs": [
    {
     "data": {
      "text/plain": [
       "35"
      ]
     },
     "execution_count": 398,
     "metadata": {},
     "output_type": "execute_result"
    }
   ],
   "source": [
    "data.loc[data[\"FTOTVAL\"]<-10000, \"FTOTVAL\"].size"
   ]
  },
  {
   "cell_type": "code",
   "execution_count": 399,
   "metadata": {},
   "outputs": [],
   "source": [
    "#only few outliers with large negative total value. Limit to -10000\n",
    "data.loc[data[\"FTOTVAL\"]<-10000, \"FTOTVAL\"] = -10000"
   ]
  },
  {
   "cell_type": "code",
   "execution_count": 400,
   "metadata": {},
   "outputs": [],
   "source": [
    "candidate_variables.extend([\"FTOTVAL\"])"
   ]
  },
  {
   "cell_type": "markdown",
   "metadata": {},
   "source": [
    "POVLEV: Family income as a % of poverty line"
   ]
  },
  {
   "cell_type": "code",
   "execution_count": 401,
   "metadata": {},
   "outputs": [
    {
     "data": {
      "text/plain": [
       "count    179785.000000\n",
       "mean        330.748285\n",
       "std         307.941344\n",
       "min       -1638.979968\n",
       "25%         125.650000\n",
       "50%         244.040000\n",
       "75%         438.660000\n",
       "max        5859.789824\n",
       "Name: POVLEV, dtype: float64"
      ]
     },
     "execution_count": 401,
     "metadata": {},
     "output_type": "execute_result"
    }
   ],
   "source": [
    "data[\"POVLEV\"].describe()"
   ]
  },
  {
   "cell_type": "code",
   "execution_count": 402,
   "metadata": {},
   "outputs": [
    {
     "data": {
      "text/plain": [
       "0"
      ]
     },
     "execution_count": 402,
     "metadata": {},
     "output_type": "execute_result"
    }
   ],
   "source": [
    "data[\"POVLEV\"].isna().sum()"
   ]
  },
  {
   "cell_type": "code",
   "execution_count": 403,
   "metadata": {},
   "outputs": [
    {
     "data": {
      "image/png": "[encoded data removed]",
      "text/plain": [
       "<Figure size 576x396 with 1 Axes>"
      ]
     },
     "metadata": {},
     "output_type": "display_data"
    }
   ],
   "source": [
    "data[\"POVLEV\"].hist(bins=50);"
   ]
  },
  {
   "cell_type": "code",
   "execution_count": 404,
   "metadata": {},
   "outputs": [],
   "source": [
    "candidate_variables.extend([\"POVLEV\"])"
   ]
  },
  {
   "cell_type": "code",
   "execution_count": 405,
   "metadata": {},
   "outputs": [
    {
     "data": {
      "text/plain": [
       "1    160998\n",
       "2     18755\n",
       "9        27\n",
       "7         5\n",
       "Name: DIABETICEV, dtype: int64"
      ]
     },
     "execution_count": 405,
     "metadata": {},
     "output_type": "execute_result"
    }
   ],
   "source": [
    "data['DIABETICEV'].value_counts()"
   ]
  },
  {
   "cell_type": "code",
   "execution_count": 406,
   "metadata": {},
   "outputs": [],
   "source": [
    "data.loc[data['DIABETICEV'].isin([1, 7, 9]),'DIABETICEV'] = 0\n",
    "data.loc[data['DIABETICEV'] == 2,'DIABETICEV'] = 1"
   ]
  },
  {
   "cell_type": "code",
   "execution_count": 407,
   "metadata": {},
   "outputs": [
    {
     "data": {
      "text/plain": [
       "0"
      ]
     },
     "execution_count": 407,
     "metadata": {},
     "output_type": "execute_result"
    }
   ],
   "source": [
    "data[\"DIABETICEV\"].isna().sum()"
   ]
  },
  {
   "cell_type": "code",
   "execution_count": 408,
   "metadata": {},
   "outputs": [
    {
     "name": "stderr",
     "output_type": "stream",
     "text": [
      "C:\\Users\\Karsten\\Anaconda3\\lib\\site-packages\\ipykernel_launcher.py:7: FutureWarning: using a dict on a Series for aggregation\n",
      "is deprecated and will be removed in a future version\n",
      "  import sys\n"
     ]
    },
    {
     "data": {
      "image/png": "[encoded data removed]",
      "text/plain": [
       "<Figure size 576x396 with 2 Axes>"
      ]
     },
     "metadata": {},
     "output_type": "display_data"
    }
   ],
   "source": [
    "plot_pig_table(data, target_variable, \"DIABETICEV\")"
   ]
  },
  {
   "cell_type": "code",
   "execution_count": 409,
   "metadata": {},
   "outputs": [],
   "source": [
    "data['DIABETICEV'] = data['DIABETICEV'].astype('int64')"
   ]
  },
  {
   "cell_type": "code",
   "execution_count": 410,
   "metadata": {},
   "outputs": [],
   "source": [
    "candidate_variables.extend([\"DIABETICEV\"])"
   ]
  },
  {
   "cell_type": "code",
   "execution_count": 411,
   "metadata": {},
   "outputs": [
    {
     "data": {
      "text/plain": [
       "['YEAR',\n",
       " 'AGE',\n",
       " 'SEX',\n",
       " 'MARSTAT',\n",
       " 'REGIONMEPS',\n",
       " 'FAMSIZE',\n",
       " 'RACEA',\n",
       " 'USBORN',\n",
       " 'INTERVLANG',\n",
       " 'FILESTATUS',\n",
       " 'WORKEV',\n",
       " 'EDUCYR',\n",
       " 'HIDEG',\n",
       " 'FTOTVAL',\n",
       " 'POVLEV',\n",
       " 'DIABETICEV']"
      ]
     },
     "execution_count": 411,
     "metadata": {},
     "output_type": "execute_result"
    }
   ],
   "source": [
    "candidate_variables\n",
    "#candidate_variables = ['YEAR', 'PERWEIGHT', 'SAQWEIGHT', 'AGE', 'SEX', 'MARSTAT', 'EDUCYR', 'HIDEG', 'INCTOT', 'FTOTVAL', 'DIABETICEV']"
   ]
  },
  {
   "cell_type": "code",
   "execution_count": 412,
   "metadata": {},
   "outputs": [],
   "source": [
    "train = data[candidate_variables]\n",
    "Label = data[target_variable]"
   ]
  },
  {
   "cell_type": "code",
   "execution_count": 413,
   "metadata": {},
   "outputs": [
    {
     "data": {
      "text/plain": [
       "(179785, 16)"
      ]
     },
     "execution_count": 413,
     "metadata": {},
     "output_type": "execute_result"
    }
   ],
   "source": [
    "train.shape"
   ]
  },
  {
   "cell_type": "code",
   "execution_count": 414,
   "metadata": {},
   "outputs": [],
   "source": [
    "cat_features = [train.columns[i] for i, j in enumerate(train.dtypes) if (j == \"object\" or j == \"bool\")]\n",
    "numeric_features = [train.columns[i] for i, j in enumerate(train.dtypes) if j in [\"int64\", \"float64\"]]"
   ]
  },
  {
   "cell_type": "code",
   "execution_count": 415,
   "metadata": {},
   "outputs": [
    {
     "data": {
      "text/plain": [
       "['MARSTAT',\n",
       " 'REGIONMEPS',\n",
       " 'RACEA',\n",
       " 'USBORN',\n",
       " 'INTERVLANG',\n",
       " 'FILESTATUS',\n",
       " 'WORKEV',\n",
       " 'HIDEG']"
      ]
     },
     "execution_count": 415,
     "metadata": {},
     "output_type": "execute_result"
    }
   ],
   "source": [
    "cat_features"
   ]
  },
  {
   "cell_type": "code",
   "execution_count": 416,
   "metadata": {},
   "outputs": [
    {
     "data": {
      "text/plain": [
       "['YEAR', 'AGE', 'SEX', 'FAMSIZE', 'EDUCYR', 'FTOTVAL', 'POVLEV', 'DIABETICEV']"
      ]
     },
     "execution_count": 416,
     "metadata": {},
     "output_type": "execute_result"
    }
   ],
   "source": [
    "numeric_features"
   ]
  },
  {
   "cell_type": "code",
   "execution_count": 417,
   "metadata": {},
   "outputs": [],
   "source": [
    "#sns.pairplot(data[numeric_features].dropna());"
   ]
  },
  {
   "cell_type": "markdown",
   "metadata": {},
   "source": [
    "# Dummy variables"
   ]
  },
  {
   "cell_type": "code",
   "execution_count": 418,
   "metadata": {},
   "outputs": [
    {
     "data": {
      "text/html": [
       "<div>\n",
       "<style scoped>\n",
       "    .dataframe tbody tr th:only-of-type {\n",
       "        vertical-align: middle;\n",
       "    }\n",
       "\n",
       "    .dataframe tbody tr th {\n",
       "        vertical-align: top;\n",
       "    }\n",
       "\n",
       "    .dataframe thead th {\n",
       "        text-align: right;\n",
       "    }\n",
       "</style>\n",
       "<table border=\"1\" class=\"dataframe\">\n",
       "  <thead>\n",
       "    <tr style=\"text-align: right;\">\n",
       "      <th></th>\n",
       "      <th>MARSTAT</th>\n",
       "      <th>REGIONMEPS</th>\n",
       "      <th>RACEA</th>\n",
       "      <th>USBORN</th>\n",
       "      <th>INTERVLANG</th>\n",
       "      <th>FILESTATUS</th>\n",
       "      <th>WORKEV</th>\n",
       "      <th>HIDEG</th>\n",
       "      <th>MARSTAT_10</th>\n",
       "      <th>MARSTAT_20</th>\n",
       "      <th>...</th>\n",
       "      <th>WORKEV_Unknown</th>\n",
       "      <th>WORKEV_Yes</th>\n",
       "      <th>HIDEG_10</th>\n",
       "      <th>HIDEG_20</th>\n",
       "      <th>HIDEG_30</th>\n",
       "      <th>HIDEG_40</th>\n",
       "      <th>HIDEG_51</th>\n",
       "      <th>HIDEG_52</th>\n",
       "      <th>HIDEG_53</th>\n",
       "      <th>HIDEG_99</th>\n",
       "    </tr>\n",
       "  </thead>\n",
       "  <tbody>\n",
       "    <tr>\n",
       "      <th>0</th>\n",
       "      <td>10</td>\n",
       "      <td>1</td>\n",
       "      <td>100</td>\n",
       "      <td>10</td>\n",
       "      <td>Sp</td>\n",
       "      <td>Head_wq</td>\n",
       "      <td>Unknown</td>\n",
       "      <td>53</td>\n",
       "      <td>1</td>\n",
       "      <td>0</td>\n",
       "      <td>...</td>\n",
       "      <td>1</td>\n",
       "      <td>0</td>\n",
       "      <td>0</td>\n",
       "      <td>0</td>\n",
       "      <td>0</td>\n",
       "      <td>0</td>\n",
       "      <td>0</td>\n",
       "      <td>0</td>\n",
       "      <td>1</td>\n",
       "      <td>0</td>\n",
       "    </tr>\n",
       "    <tr>\n",
       "      <th>1</th>\n",
       "      <td>10</td>\n",
       "      <td>1</td>\n",
       "      <td>100</td>\n",
       "      <td>10</td>\n",
       "      <td>Sp</td>\n",
       "      <td>Unknown</td>\n",
       "      <td>Yes</td>\n",
       "      <td>30</td>\n",
       "      <td>1</td>\n",
       "      <td>0</td>\n",
       "      <td>...</td>\n",
       "      <td>0</td>\n",
       "      <td>1</td>\n",
       "      <td>0</td>\n",
       "      <td>0</td>\n",
       "      <td>1</td>\n",
       "      <td>0</td>\n",
       "      <td>0</td>\n",
       "      <td>0</td>\n",
       "      <td>0</td>\n",
       "      <td>0</td>\n",
       "    </tr>\n",
       "    <tr>\n",
       "      <th>2</th>\n",
       "      <td>10</td>\n",
       "      <td>4</td>\n",
       "      <td>999</td>\n",
       "      <td>10</td>\n",
       "      <td>Eng</td>\n",
       "      <td>Married_joint</td>\n",
       "      <td>Unknown</td>\n",
       "      <td>52</td>\n",
       "      <td>1</td>\n",
       "      <td>0</td>\n",
       "      <td>...</td>\n",
       "      <td>1</td>\n",
       "      <td>0</td>\n",
       "      <td>0</td>\n",
       "      <td>0</td>\n",
       "      <td>0</td>\n",
       "      <td>0</td>\n",
       "      <td>0</td>\n",
       "      <td>1</td>\n",
       "      <td>0</td>\n",
       "      <td>0</td>\n",
       "    </tr>\n",
       "    <tr>\n",
       "      <th>3</th>\n",
       "      <td>10</td>\n",
       "      <td>4</td>\n",
       "      <td>410</td>\n",
       "      <td>10</td>\n",
       "      <td>Eng</td>\n",
       "      <td>Unknown</td>\n",
       "      <td>Unknown</td>\n",
       "      <td>51</td>\n",
       "      <td>1</td>\n",
       "      <td>0</td>\n",
       "      <td>...</td>\n",
       "      <td>1</td>\n",
       "      <td>0</td>\n",
       "      <td>0</td>\n",
       "      <td>0</td>\n",
       "      <td>0</td>\n",
       "      <td>0</td>\n",
       "      <td>1</td>\n",
       "      <td>0</td>\n",
       "      <td>0</td>\n",
       "      <td>0</td>\n",
       "    </tr>\n",
       "    <tr>\n",
       "      <th>4</th>\n",
       "      <td>50</td>\n",
       "      <td>1</td>\n",
       "      <td>200</td>\n",
       "      <td>20</td>\n",
       "      <td>Eng</td>\n",
       "      <td>Unknown</td>\n",
       "      <td>Unknown</td>\n",
       "      <td>99</td>\n",
       "      <td>0</td>\n",
       "      <td>0</td>\n",
       "      <td>...</td>\n",
       "      <td>1</td>\n",
       "      <td>0</td>\n",
       "      <td>0</td>\n",
       "      <td>0</td>\n",
       "      <td>0</td>\n",
       "      <td>0</td>\n",
       "      <td>0</td>\n",
       "      <td>0</td>\n",
       "      <td>0</td>\n",
       "      <td>1</td>\n",
       "    </tr>\n",
       "  </tbody>\n",
       "</table>\n",
       "<p>5 rows × 49 columns</p>\n",
       "</div>"
      ],
      "text/plain": [
       "  MARSTAT REGIONMEPS RACEA USBORN INTERVLANG     FILESTATUS   WORKEV HIDEG  \\\n",
       "0      10          1   100     10         Sp        Head_wq  Unknown    53   \n",
       "1      10          1   100     10         Sp        Unknown      Yes    30   \n",
       "2      10          4   999     10        Eng  Married_joint  Unknown    52   \n",
       "3      10          4   410     10        Eng        Unknown  Unknown    51   \n",
       "4      50          1   200     20        Eng        Unknown  Unknown    99   \n",
       "\n",
       "   MARSTAT_10  MARSTAT_20    ...     WORKEV_Unknown  WORKEV_Yes  HIDEG_10  \\\n",
       "0           1           0    ...                  1           0         0   \n",
       "1           1           0    ...                  0           1         0   \n",
       "2           1           0    ...                  1           0         0   \n",
       "3           1           0    ...                  1           0         0   \n",
       "4           0           0    ...                  1           0         0   \n",
       "\n",
       "   HIDEG_20  HIDEG_30  HIDEG_40  HIDEG_51  HIDEG_52  HIDEG_53  HIDEG_99  \n",
       "0         0         0         0         0         0         1         0  \n",
       "1         0         1         0         0         0         0         0  \n",
       "2         0         0         0         0         1         0         0  \n",
       "3         0         0         0         1         0         0         0  \n",
       "4         0         0         0         0         0         0         1  \n",
       "\n",
       "[5 rows x 49 columns]"
      ]
     },
     "execution_count": 418,
     "metadata": {},
     "output_type": "execute_result"
    }
   ],
   "source": [
    "train_cat = train[cat_features]\n",
    "for var in cat_features:\n",
    "    cat_list='var'+'_'+var\n",
    "    cat_list = pd.get_dummies(train_cat[var], prefix=var)\n",
    "    data1=train_cat.join(cat_list)\n",
    "    train_cat=data1\n",
    "train_cat.head()"
   ]
  },
  {
   "cell_type": "markdown",
   "metadata": {},
   "source": [
    "# Missing values"
   ]
  },
  {
   "cell_type": "code",
   "execution_count": 419,
   "metadata": {},
   "outputs": [
    {
     "name": "stdout",
     "output_type": "stream",
     "text": [
      "1 AGE\n",
      "1395\n",
      "4 EDUCYR\n",
      "79035\n"
     ]
    }
   ],
   "source": [
    "train_num = train[numeric_features]\n",
    "# check variables that are missing\n",
    "for j in range(train_num.values.shape[1]):\n",
    "    vec = train_num.values[:,j]\n",
    "    mask = np.isfinite(vec)\n",
    "    if np.sum(~mask) > 0:\n",
    "        print(j, train_num.columns[j])\n",
    "        print(np.sum(~mask))"
   ]
  },
  {
   "cell_type": "code",
   "execution_count": 420,
   "metadata": {},
   "outputs": [],
   "source": [
    "imp = SimpleImputer(missing_values=np.nan, strategy='median')\n",
    "imp.fit(train_num)\n",
    "train_num_imp= imp.transform(train_num)"
   ]
  },
  {
   "cell_type": "code",
   "execution_count": 421,
   "metadata": {},
   "outputs": [],
   "source": [
    "train_num = pd.DataFrame(train_num_imp, columns = train_num.columns)\n",
    "train_num['YEAR'] = train_num['YEAR'].astype('int64')\n",
    "train_num['AGE'] = train_num['AGE'].astype('int64')\n",
    "train_num['SEX'] = train_num['SEX'].astype('int64')\n",
    "train_num['FAMSIZE'] = train_num['FAMSIZE'].astype('int64')\n",
    "train_num['DIABETICEV'] = train_num['DIABETICEV'].astype('int64')"
   ]
  },
  {
   "cell_type": "code",
   "execution_count": 422,
   "metadata": {},
   "outputs": [
    {
     "data": {
      "text/plain": [
       "YEAR            int64\n",
       "AGE             int64\n",
       "SEX             int64\n",
       "FAMSIZE         int64\n",
       "EDUCYR        float64\n",
       "FTOTVAL       float64\n",
       "POVLEV        float64\n",
       "DIABETICEV      int64\n",
       "dtype: object"
      ]
     },
     "execution_count": 422,
     "metadata": {},
     "output_type": "execute_result"
    }
   ],
   "source": [
    "train_num.dtypes"
   ]
  },
  {
   "cell_type": "code",
   "execution_count": 423,
   "metadata": {},
   "outputs": [
    {
     "data": {
      "text/html": [
       "<div>\n",
       "<style scoped>\n",
       "    .dataframe tbody tr th:only-of-type {\n",
       "        vertical-align: middle;\n",
       "    }\n",
       "\n",
       "    .dataframe tbody tr th {\n",
       "        vertical-align: top;\n",
       "    }\n",
       "\n",
       "    .dataframe thead th {\n",
       "        text-align: right;\n",
       "    }\n",
       "</style>\n",
       "<table border=\"1\" class=\"dataframe\">\n",
       "  <thead>\n",
       "    <tr style=\"text-align: right;\">\n",
       "      <th></th>\n",
       "      <th>MARSTAT</th>\n",
       "      <th>REGIONMEPS</th>\n",
       "      <th>RACEA</th>\n",
       "      <th>USBORN</th>\n",
       "      <th>INTERVLANG</th>\n",
       "      <th>FILESTATUS</th>\n",
       "      <th>WORKEV</th>\n",
       "      <th>HIDEG</th>\n",
       "      <th>MARSTAT_10</th>\n",
       "      <th>MARSTAT_20</th>\n",
       "      <th>...</th>\n",
       "      <th>WORKEV_Unknown</th>\n",
       "      <th>WORKEV_Yes</th>\n",
       "      <th>HIDEG_10</th>\n",
       "      <th>HIDEG_20</th>\n",
       "      <th>HIDEG_30</th>\n",
       "      <th>HIDEG_40</th>\n",
       "      <th>HIDEG_51</th>\n",
       "      <th>HIDEG_52</th>\n",
       "      <th>HIDEG_53</th>\n",
       "      <th>HIDEG_99</th>\n",
       "    </tr>\n",
       "  </thead>\n",
       "  <tbody>\n",
       "    <tr>\n",
       "      <th>0</th>\n",
       "      <td>10</td>\n",
       "      <td>1</td>\n",
       "      <td>100</td>\n",
       "      <td>10</td>\n",
       "      <td>Sp</td>\n",
       "      <td>Head_wq</td>\n",
       "      <td>Unknown</td>\n",
       "      <td>53</td>\n",
       "      <td>1</td>\n",
       "      <td>0</td>\n",
       "      <td>...</td>\n",
       "      <td>1</td>\n",
       "      <td>0</td>\n",
       "      <td>0</td>\n",
       "      <td>0</td>\n",
       "      <td>0</td>\n",
       "      <td>0</td>\n",
       "      <td>0</td>\n",
       "      <td>0</td>\n",
       "      <td>1</td>\n",
       "      <td>0</td>\n",
       "    </tr>\n",
       "    <tr>\n",
       "      <th>1</th>\n",
       "      <td>10</td>\n",
       "      <td>1</td>\n",
       "      <td>100</td>\n",
       "      <td>10</td>\n",
       "      <td>Sp</td>\n",
       "      <td>Unknown</td>\n",
       "      <td>Yes</td>\n",
       "      <td>30</td>\n",
       "      <td>1</td>\n",
       "      <td>0</td>\n",
       "      <td>...</td>\n",
       "      <td>0</td>\n",
       "      <td>1</td>\n",
       "      <td>0</td>\n",
       "      <td>0</td>\n",
       "      <td>1</td>\n",
       "      <td>0</td>\n",
       "      <td>0</td>\n",
       "      <td>0</td>\n",
       "      <td>0</td>\n",
       "      <td>0</td>\n",
       "    </tr>\n",
       "    <tr>\n",
       "      <th>2</th>\n",
       "      <td>10</td>\n",
       "      <td>4</td>\n",
       "      <td>999</td>\n",
       "      <td>10</td>\n",
       "      <td>Eng</td>\n",
       "      <td>Married_joint</td>\n",
       "      <td>Unknown</td>\n",
       "      <td>52</td>\n",
       "      <td>1</td>\n",
       "      <td>0</td>\n",
       "      <td>...</td>\n",
       "      <td>1</td>\n",
       "      <td>0</td>\n",
       "      <td>0</td>\n",
       "      <td>0</td>\n",
       "      <td>0</td>\n",
       "      <td>0</td>\n",
       "      <td>0</td>\n",
       "      <td>1</td>\n",
       "      <td>0</td>\n",
       "      <td>0</td>\n",
       "    </tr>\n",
       "    <tr>\n",
       "      <th>3</th>\n",
       "      <td>10</td>\n",
       "      <td>4</td>\n",
       "      <td>410</td>\n",
       "      <td>10</td>\n",
       "      <td>Eng</td>\n",
       "      <td>Unknown</td>\n",
       "      <td>Unknown</td>\n",
       "      <td>51</td>\n",
       "      <td>1</td>\n",
       "      <td>0</td>\n",
       "      <td>...</td>\n",
       "      <td>1</td>\n",
       "      <td>0</td>\n",
       "      <td>0</td>\n",
       "      <td>0</td>\n",
       "      <td>0</td>\n",
       "      <td>0</td>\n",
       "      <td>1</td>\n",
       "      <td>0</td>\n",
       "      <td>0</td>\n",
       "      <td>0</td>\n",
       "    </tr>\n",
       "    <tr>\n",
       "      <th>4</th>\n",
       "      <td>50</td>\n",
       "      <td>1</td>\n",
       "      <td>200</td>\n",
       "      <td>20</td>\n",
       "      <td>Eng</td>\n",
       "      <td>Unknown</td>\n",
       "      <td>Unknown</td>\n",
       "      <td>99</td>\n",
       "      <td>0</td>\n",
       "      <td>0</td>\n",
       "      <td>...</td>\n",
       "      <td>1</td>\n",
       "      <td>0</td>\n",
       "      <td>0</td>\n",
       "      <td>0</td>\n",
       "      <td>0</td>\n",
       "      <td>0</td>\n",
       "      <td>0</td>\n",
       "      <td>0</td>\n",
       "      <td>0</td>\n",
       "      <td>1</td>\n",
       "    </tr>\n",
       "  </tbody>\n",
       "</table>\n",
       "<p>5 rows × 49 columns</p>\n",
       "</div>"
      ],
      "text/plain": [
       "  MARSTAT REGIONMEPS RACEA USBORN INTERVLANG     FILESTATUS   WORKEV HIDEG  \\\n",
       "0      10          1   100     10         Sp        Head_wq  Unknown    53   \n",
       "1      10          1   100     10         Sp        Unknown      Yes    30   \n",
       "2      10          4   999     10        Eng  Married_joint  Unknown    52   \n",
       "3      10          4   410     10        Eng        Unknown  Unknown    51   \n",
       "4      50          1   200     20        Eng        Unknown  Unknown    99   \n",
       "\n",
       "   MARSTAT_10  MARSTAT_20    ...     WORKEV_Unknown  WORKEV_Yes  HIDEG_10  \\\n",
       "0           1           0    ...                  1           0         0   \n",
       "1           1           0    ...                  0           1         0   \n",
       "2           1           0    ...                  1           0         0   \n",
       "3           1           0    ...                  1           0         0   \n",
       "4           0           0    ...                  1           0         0   \n",
       "\n",
       "   HIDEG_20  HIDEG_30  HIDEG_40  HIDEG_51  HIDEG_52  HIDEG_53  HIDEG_99  \n",
       "0         0         0         0         0         0         1         0  \n",
       "1         0         1         0         0         0         0         0  \n",
       "2         0         0         0         0         1         0         0  \n",
       "3         0         0         0         1         0         0         0  \n",
       "4         0         0         0         0         0         0         1  \n",
       "\n",
       "[5 rows x 49 columns]"
      ]
     },
     "execution_count": 423,
     "metadata": {},
     "output_type": "execute_result"
    }
   ],
   "source": [
    "train_cat.head()"
   ]
  },
  {
   "cell_type": "code",
   "execution_count": 424,
   "metadata": {},
   "outputs": [
    {
     "data": {
      "text/plain": [
       "Index(['MARSTAT', 'REGIONMEPS', 'RACEA', 'USBORN', 'INTERVLANG', 'FILESTATUS',\n",
       "       'WORKEV', 'HIDEG', 'MARSTAT_10', 'MARSTAT_20', 'MARSTAT_30',\n",
       "       'MARSTAT_40', 'MARSTAT_50', 'MARSTAT_99', 'REGIONMEPS_1',\n",
       "       'REGIONMEPS_2', 'REGIONMEPS_3', 'REGIONMEPS_4', 'REGIONMEPS_99',\n",
       "       'RACEA_100', 'RACEA_200', 'RACEA_310', 'RACEA_410', 'RACEA_614',\n",
       "       'RACEA_615', 'RACEA_999', 'USBORN_10', 'USBORN_20', 'USBORN_99',\n",
       "       'INTERVLANG_Eng', 'INTERVLANG_Eng_Sp', 'INTERVLANG_Sp',\n",
       "       'INTERVLANG_Unknown', 'FILESTATUS_Head_wq', 'FILESTATUS_Married_joint',\n",
       "       'FILESTATUS_Married_sep', 'FILESTATUS_Single', 'FILESTATUS_Unknown',\n",
       "       'WORKEV_No', 'WORKEV_Unknown', 'WORKEV_Yes', 'HIDEG_10', 'HIDEG_20',\n",
       "       'HIDEG_30', 'HIDEG_40', 'HIDEG_51', 'HIDEG_52', 'HIDEG_53', 'HIDEG_99'],\n",
       "      dtype='object')"
      ]
     },
     "execution_count": 424,
     "metadata": {},
     "output_type": "execute_result"
    }
   ],
   "source": [
    "train_cat.columns"
   ]
  },
  {
   "cell_type": "markdown",
   "metadata": {},
   "source": [
    "# Dataset"
   ]
  },
  {
   "cell_type": "code",
   "execution_count": 425,
   "metadata": {},
   "outputs": [
    {
     "data": {
      "text/plain": [
       "(179785, 49)"
      ]
     },
     "execution_count": 425,
     "metadata": {},
     "output_type": "execute_result"
    }
   ],
   "source": [
    "train = pd.concat([train_num, train_cat], axis=1, sort=True)\n",
    "train = train.drop(['MARSTAT', 'HIDEG', 'REGIONMEPS', 'RACEA', 'USBORN', 'INTERVLANG', 'FILESTATUS', 'WORKEV'], axis=1)\n",
    "train.shape"
   ]
  },
  {
   "cell_type": "markdown",
   "metadata": {},
   "source": [
    "# Train-test"
   ]
  },
  {
   "cell_type": "code",
   "execution_count": 426,
   "metadata": {},
   "outputs": [],
   "source": [
    "X_train, X_test, y_train, y_test = train_test_split(train, Label, random_state=0)"
   ]
  },
  {
   "cell_type": "code",
   "execution_count": 427,
   "metadata": {},
   "outputs": [
    {
     "data": {
      "text/plain": [
       "0    130168\n",
       "1      4670\n",
       "Name: HEARTATTEV, dtype: int64"
      ]
     },
     "execution_count": 427,
     "metadata": {},
     "output_type": "execute_result"
    }
   ],
   "source": [
    "y_train.value_counts().sort_index()"
   ]
  },
  {
   "cell_type": "code",
   "execution_count": 428,
   "metadata": {},
   "outputs": [
    {
     "data": {
      "text/plain": [
       "0    43288\n",
       "1     1659\n",
       "Name: HEARTATTEV, dtype: int64"
      ]
     },
     "execution_count": 428,
     "metadata": {},
     "output_type": "execute_result"
    }
   ],
   "source": [
    "y_test.value_counts().sort_index()"
   ]
  },
  {
   "cell_type": "markdown",
   "metadata": {},
   "source": [
    "# K-fold"
   ]
  },
  {
   "cell_type": "code",
   "execution_count": 429,
   "metadata": {},
   "outputs": [],
   "source": [
    "num_folds = 5\n",
    "seed = 7\n",
    "\n",
    "kfold = StratifiedKFold(n_splits=num_folds, random_state=seed, shuffle=True)"
   ]
  },
  {
   "cell_type": "markdown",
   "metadata": {},
   "source": [
    "# Logistic Regression - Forward selection"
   ]
  },
  {
   "cell_type": "code",
   "execution_count": 430,
   "metadata": {},
   "outputs": [],
   "source": [
    "# remove one category (null)\n",
    "X_train_LR = X_train.drop(['MARSTAT_99', 'HIDEG_99', 'REGIONMEPS_99', 'RACEA_999', 'USBORN_99', 'INTERVLANG_Unknown', 'FILESTATUS_Unknown', 'WORKEV_Unknown'], axis=1)\n",
    "X_test_LR = X_test.drop(['MARSTAT_99', 'HIDEG_99', 'REGIONMEPS_99', 'RACEA_999', 'USBORN_99', 'INTERVLANG_Unknown', 'FILESTATUS_Unknown', 'WORKEV_Unknown'], axis=1)\n",
    "basetable = pd.concat([X_train_LR, y_train], axis=1)\n",
    "variables = list(X_train_LR.columns.values)"
   ]
  },
  {
   "cell_type": "code",
   "execution_count": 431,
   "metadata": {},
   "outputs": [
    {
     "data": {
      "text/html": [
       "<div>\n",
       "<style scoped>\n",
       "    .dataframe tbody tr th:only-of-type {\n",
       "        vertical-align: middle;\n",
       "    }\n",
       "\n",
       "    .dataframe tbody tr th {\n",
       "        vertical-align: top;\n",
       "    }\n",
       "\n",
       "    .dataframe thead th {\n",
       "        text-align: right;\n",
       "    }\n",
       "</style>\n",
       "<table border=\"1\" class=\"dataframe\">\n",
       "  <thead>\n",
       "    <tr style=\"text-align: right;\">\n",
       "      <th></th>\n",
       "      <th>YEAR</th>\n",
       "      <th>AGE</th>\n",
       "      <th>SEX</th>\n",
       "      <th>FAMSIZE</th>\n",
       "      <th>EDUCYR</th>\n",
       "      <th>FTOTVAL</th>\n",
       "      <th>POVLEV</th>\n",
       "      <th>DIABETICEV</th>\n",
       "      <th>MARSTAT_10</th>\n",
       "      <th>MARSTAT_20</th>\n",
       "      <th>...</th>\n",
       "      <th>WORKEV_No</th>\n",
       "      <th>WORKEV_Yes</th>\n",
       "      <th>HIDEG_10</th>\n",
       "      <th>HIDEG_20</th>\n",
       "      <th>HIDEG_30</th>\n",
       "      <th>HIDEG_40</th>\n",
       "      <th>HIDEG_51</th>\n",
       "      <th>HIDEG_52</th>\n",
       "      <th>HIDEG_53</th>\n",
       "      <th>HEARTATTEV</th>\n",
       "    </tr>\n",
       "  </thead>\n",
       "  <tbody>\n",
       "    <tr>\n",
       "      <th>87489</th>\n",
       "      <td>2013</td>\n",
       "      <td>23</td>\n",
       "      <td>1</td>\n",
       "      <td>3</td>\n",
       "      <td>12.0</td>\n",
       "      <td>1500.0</td>\n",
       "      <td>12.38</td>\n",
       "      <td>0</td>\n",
       "      <td>0</td>\n",
       "      <td>0</td>\n",
       "      <td>...</td>\n",
       "      <td>0</td>\n",
       "      <td>0</td>\n",
       "      <td>0</td>\n",
       "      <td>0</td>\n",
       "      <td>0</td>\n",
       "      <td>0</td>\n",
       "      <td>0</td>\n",
       "      <td>0</td>\n",
       "      <td>0</td>\n",
       "      <td>0</td>\n",
       "    </tr>\n",
       "    <tr>\n",
       "      <th>71069</th>\n",
       "      <td>2012</td>\n",
       "      <td>23</td>\n",
       "      <td>2</td>\n",
       "      <td>2</td>\n",
       "      <td>12.0</td>\n",
       "      <td>21000.0</td>\n",
       "      <td>132.70</td>\n",
       "      <td>0</td>\n",
       "      <td>0</td>\n",
       "      <td>0</td>\n",
       "      <td>...</td>\n",
       "      <td>0</td>\n",
       "      <td>0</td>\n",
       "      <td>0</td>\n",
       "      <td>0</td>\n",
       "      <td>1</td>\n",
       "      <td>0</td>\n",
       "      <td>0</td>\n",
       "      <td>0</td>\n",
       "      <td>0</td>\n",
       "      <td>0</td>\n",
       "    </tr>\n",
       "    <tr>\n",
       "      <th>121339</th>\n",
       "      <td>2014</td>\n",
       "      <td>60</td>\n",
       "      <td>2</td>\n",
       "      <td>2</td>\n",
       "      <td>12.0</td>\n",
       "      <td>45488.0</td>\n",
       "      <td>286.94</td>\n",
       "      <td>0</td>\n",
       "      <td>1</td>\n",
       "      <td>0</td>\n",
       "      <td>...</td>\n",
       "      <td>0</td>\n",
       "      <td>0</td>\n",
       "      <td>0</td>\n",
       "      <td>0</td>\n",
       "      <td>0</td>\n",
       "      <td>0</td>\n",
       "      <td>0</td>\n",
       "      <td>0</td>\n",
       "      <td>0</td>\n",
       "      <td>0</td>\n",
       "    </tr>\n",
       "    <tr>\n",
       "      <th>43066</th>\n",
       "      <td>2011</td>\n",
       "      <td>38</td>\n",
       "      <td>1</td>\n",
       "      <td>1</td>\n",
       "      <td>13.0</td>\n",
       "      <td>26030.0</td>\n",
       "      <td>222.44</td>\n",
       "      <td>0</td>\n",
       "      <td>0</td>\n",
       "      <td>0</td>\n",
       "      <td>...</td>\n",
       "      <td>0</td>\n",
       "      <td>0</td>\n",
       "      <td>0</td>\n",
       "      <td>0</td>\n",
       "      <td>1</td>\n",
       "      <td>0</td>\n",
       "      <td>0</td>\n",
       "      <td>0</td>\n",
       "      <td>0</td>\n",
       "      <td>0</td>\n",
       "    </tr>\n",
       "    <tr>\n",
       "      <th>160043</th>\n",
       "      <td>2016</td>\n",
       "      <td>69</td>\n",
       "      <td>2</td>\n",
       "      <td>1</td>\n",
       "      <td>6.0</td>\n",
       "      <td>29910.0</td>\n",
       "      <td>259.84</td>\n",
       "      <td>1</td>\n",
       "      <td>0</td>\n",
       "      <td>1</td>\n",
       "      <td>...</td>\n",
       "      <td>0</td>\n",
       "      <td>1</td>\n",
       "      <td>1</td>\n",
       "      <td>0</td>\n",
       "      <td>0</td>\n",
       "      <td>0</td>\n",
       "      <td>0</td>\n",
       "      <td>0</td>\n",
       "      <td>0</td>\n",
       "      <td>0</td>\n",
       "    </tr>\n",
       "  </tbody>\n",
       "</table>\n",
       "<p>5 rows × 42 columns</p>\n",
       "</div>"
      ],
      "text/plain": [
       "        YEAR  AGE  SEX  FAMSIZE  EDUCYR  FTOTVAL  POVLEV  DIABETICEV  \\\n",
       "87489   2013   23    1        3    12.0   1500.0   12.38           0   \n",
       "71069   2012   23    2        2    12.0  21000.0  132.70           0   \n",
       "121339  2014   60    2        2    12.0  45488.0  286.94           0   \n",
       "43066   2011   38    1        1    13.0  26030.0  222.44           0   \n",
       "160043  2016   69    2        1     6.0  29910.0  259.84           1   \n",
       "\n",
       "        MARSTAT_10  MARSTAT_20     ...      WORKEV_No  WORKEV_Yes  HIDEG_10  \\\n",
       "87489            0           0     ...              0           0         0   \n",
       "71069            0           0     ...              0           0         0   \n",
       "121339           1           0     ...              0           0         0   \n",
       "43066            0           0     ...              0           0         0   \n",
       "160043           0           1     ...              0           1         1   \n",
       "\n",
       "        HIDEG_20  HIDEG_30  HIDEG_40  HIDEG_51  HIDEG_52  HIDEG_53  HEARTATTEV  \n",
       "87489          0         0         0         0         0         0           0  \n",
       "71069          0         1         0         0         0         0           0  \n",
       "121339         0         0         0         0         0         0           0  \n",
       "43066          0         1         0         0         0         0           0  \n",
       "160043         0         0         0         0         0         0           0  \n",
       "\n",
       "[5 rows x 42 columns]"
      ]
     },
     "execution_count": 431,
     "metadata": {},
     "output_type": "execute_result"
    }
   ],
   "source": [
    "basetable.head()"
   ]
  },
  {
   "cell_type": "code",
   "execution_count": 432,
   "metadata": {},
   "outputs": [
    {
     "name": "stdout",
     "output_type": "stream",
     "text": [
      "0.12927989156858594\n",
      "0.1259125561457703\n",
      "0.12416957628172752\n",
      "0.12312071809962039\n",
      "0.12194007962710385\n",
      "0.12154808227957041\n",
      "0.12113330023857123\n"
     ]
    },
    {
     "name": "stderr",
     "output_type": "stream",
     "text": [
      "C:\\Users\\Karsten\\Anaconda3\\lib\\site-packages\\sklearn\\linear_model\\logistic.py:757: ConvergenceWarning: lbfgs failed to converge. Increase the number of iterations.\n",
      "  \"of iterations.\", ConvergenceWarning)\n"
     ]
    },
    {
     "name": "stdout",
     "output_type": "stream",
     "text": [
      "0.1207966399083686\n",
      "['AGE', 'DIABETICEV', 'SEX', 'POVLEV', 'USBORN_10', 'WORKEV_Yes', 'WORKEV_No', 'MARSTAT_50']\n"
     ]
    }
   ],
   "source": [
    "max_number_variables = 8\n",
    "number_iterations = min(max_number_variables, len(variables))\n",
    "current_variables = []\n",
    "for i in range(0,number_iterations):\n",
    "    next_var = next_best(current_variables, variables, [target_variable], basetable)\n",
    "    current_variables = current_variables + [next_var]\n",
    "    variables.remove(next_var)\n",
    "print(current_variables)"
   ]
  },
  {
   "cell_type": "code",
   "execution_count": 433,
   "metadata": {},
   "outputs": [],
   "source": [
    "logreg = linear_model.LogisticRegression(solver='lbfgs', max_iter = 300)"
   ]
  },
  {
   "cell_type": "code",
   "execution_count": 434,
   "metadata": {},
   "outputs": [
    {
     "data": {
      "text/plain": [
       "LogisticRegression(C=1.0, class_weight=None, dual=False, fit_intercept=True,\n",
       "          intercept_scaling=1, max_iter=300, multi_class='warn',\n",
       "          n_jobs=None, penalty='l2', random_state=None, solver='lbfgs',\n",
       "          tol=0.0001, verbose=0, warm_start=False)"
      ]
     },
     "execution_count": 434,
     "metadata": {},
     "output_type": "execute_result"
    }
   ],
   "source": [
    "logreg.fit(basetable[current_variables],basetable[target_variable])"
   ]
  },
  {
   "cell_type": "code",
   "execution_count": 435,
   "metadata": {},
   "outputs": [
    {
     "data": {
      "text/plain": [
       "array([0.1213323 , 0.12153341, 0.12072133, 0.12018264, 0.12060697])"
      ]
     },
     "execution_count": 435,
     "metadata": {},
     "output_type": "execute_result"
    }
   ],
   "source": [
    "scores = cross_val_score(logreg, basetable[current_variables],basetable[target_variable], cv=5, scoring='neg_log_loss')\n",
    "-scores"
   ]
  },
  {
   "cell_type": "code",
   "execution_count": 436,
   "metadata": {},
   "outputs": [
    {
     "name": "stdout",
     "output_type": "stream",
     "text": [
      "Train AUC:  0.8526952354243049\n",
      "Train logloss:  0.1207966399083686\n",
      "Test AUC:  0.8544459614949522\n",
      "Test logloss:  0.12628861011877446\n"
     ]
    }
   ],
   "source": [
    "y_pred_train = logreg.predict_proba(X_train_LR[current_variables])\n",
    "y_pred_test = logreg.predict_proba(X_test_LR[current_variables])\n",
    "print(\"Train AUC: \", roc_auc_score(y_train, y_pred_train[:,1]))\n",
    "print(\"Train logloss: \", log_loss(y_train, y_pred_train[:,1]))\n",
    "print(\"Test AUC: \", roc_auc_score(y_test, y_pred_test[:,1]))\n",
    "print(\"Test logloss: \", log_loss(y_test, y_pred_test[:,1]))"
   ]
  },
  {
   "cell_type": "code",
   "execution_count": 437,
   "metadata": {},
   "outputs": [
    {
     "data": {
      "image/png": "[encoded data removed]",
      "text/plain": [
       "<Figure size 576x396 with 1 Axes>"
      ]
     },
     "metadata": {},
     "output_type": "display_data"
    }
   ],
   "source": [
    "fpr, tpr, thresholds = roc_curve(y_test, y_pred_test[:,1])\n",
    "plt.plot([0, 1], [0, 1], 'k--')\n",
    "plt.plot(fpr, tpr)\n",
    "plt.xlabel('False Positive Rate')\n",
    "plt.ylabel('True Positive Rate')\n",
    "plt.title('ROC Curve')\n",
    "plt.show()"
   ]
  },
  {
   "cell_type": "code",
   "execution_count": 438,
   "metadata": {},
   "outputs": [
    {
     "data": {
      "text/plain": [
       "array([[1.04973277, 2.63782462, 0.454059  , 0.99912713, 0.49932071,\n",
       "        1.85777001, 1.85523628, 0.60894681]])"
      ]
     },
     "execution_count": 438,
     "metadata": {},
     "output_type": "execute_result"
    }
   ],
   "source": [
    "np.exp(logreg.coef_)"
   ]
  },
  {
   "cell_type": "code",
   "execution_count": 439,
   "metadata": {},
   "outputs": [
    {
     "name": "stdout",
     "output_type": "stream",
     "text": [
      "Optimization terminated successfully.\n",
      "         Current function value: 0.134073\n",
      "         Iterations 9\n",
      "                         Results: Logit\n",
      "=================================================================\n",
      "Model:              Logit            Pseudo R-squared: 0.109     \n",
      "Dependent Variable: HEARTATTEV       AIC:              36172.1409\n",
      "Date:               2018-12-08 17:18 BIC:              36250.6355\n",
      "No. Observations:   134838           Log-Likelihood:   -18078.   \n",
      "Df Model:           7                LL-Null:          -20293.   \n",
      "Df Residuals:       134830           LLR p-value:      0.0000    \n",
      "Converged:          1.0000           Scale:            1.0000    \n",
      "No. Iterations:     9.0000                                       \n",
      "------------------------------------------------------------------\n",
      "              Coef.   Std.Err.     z      P>|z|    [0.025   0.975]\n",
      "------------------------------------------------------------------\n",
      "AGE          -0.0003    0.0008   -0.3250  0.7451  -0.0019   0.0013\n",
      "DIABETICEV    1.0099    0.0345   29.2868  0.0000   0.9424   1.0775\n",
      "SEX          -1.9394    0.0282  -68.8131  0.0000  -1.9946  -1.8841\n",
      "POVLEV       -0.0020    0.0001  -26.9667  0.0000  -0.0021  -0.0018\n",
      "USBORN_10    -1.1000    0.0417  -26.4047  0.0000  -1.1816  -1.0183\n",
      "WORKEV_Yes    1.0111    0.0384   26.3461  0.0000   0.9359   1.0864\n",
      "WORKEV_No     0.9782    0.0494   19.7881  0.0000   0.8813   1.0750\n",
      "MARSTAT_50   -1.9375    0.0527  -36.7833  0.0000  -2.0407  -1.8342\n",
      "=================================================================\n",
      "\n"
     ]
    }
   ],
   "source": [
    "import statsmodels.api as sm\n",
    "logit_model=sm.Logit(y_train,basetable[current_variables])\n",
    "result=logit_model.fit()\n",
    "print(result.summary2())"
   ]
  },
  {
   "cell_type": "code",
   "execution_count": 440,
   "metadata": {},
   "outputs": [
    {
     "name": "stdout",
     "output_type": "stream",
     "text": [
      "[[43282     6]\n",
      " [ 1658     1]]\n"
     ]
    }
   ],
   "source": [
    "conf_matrix = confusion_matrix(y_test, logreg.predict(X_test[current_variables]))\n",
    "print(conf_matrix)"
   ]
  },
  {
   "cell_type": "markdown",
   "metadata": {},
   "source": [
    "# Logistic Regression - Grid search"
   ]
  },
  {
   "cell_type": "code",
   "execution_count": 441,
   "metadata": {},
   "outputs": [],
   "source": [
    "c_space = np.logspace(-5, 2, 10)\n",
    "\n",
    "param_grid_logreg_bk = {\n",
    "    'C': c_space,\n",
    "    'penalty': [\"l1\"]\n",
    "}\n",
    "    \n",
    "param_grid_logreg = {\n",
    "    'C': [0.5],\n",
    "    'penalty': [\"l1\"]\n",
    "}"
   ]
  },
  {
   "cell_type": "code",
   "execution_count": 442,
   "metadata": {},
   "outputs": [
    {
     "data": {
      "text/plain": [
       "GridSearchCV(cv=StratifiedKFold(n_splits=5, random_state=7, shuffle=True),\n",
       "       error_score='raise',\n",
       "       estimator=LogisticRegression(C=1.0, class_weight=None, dual=False, fit_intercept=True,\n",
       "          intercept_scaling=1, max_iter=100, multi_class='warn',\n",
       "          n_jobs=None, penalty='l2', random_state=None, solver='liblinear',\n",
       "          tol=0.0001, verbose=0, warm_start=False),\n",
       "       fit_params=None, iid='warn', n_jobs=None,\n",
       "       param_grid={'C': [0.5], 'penalty': ['l1']}, pre_dispatch='2*n_jobs',\n",
       "       refit=True, return_train_score='warn', scoring='neg_log_loss',\n",
       "       verbose=0)"
      ]
     },
     "execution_count": 442,
     "metadata": {},
     "output_type": "execute_result"
    }
   ],
   "source": [
    "logreg2 = linear_model.LogisticRegression(solver='liblinear') #'lbfgs')\n",
    "grid_logreg = GridSearchCV(logreg2, param_grid_logreg, cv=kfold, scoring='neg_log_loss', error_score='raise')\n",
    "grid_logreg.fit(X_train, y_train)"
   ]
  },
  {
   "cell_type": "code",
   "execution_count": 443,
   "metadata": {},
   "outputs": [
    {
     "name": "stdout",
     "output_type": "stream",
     "text": [
      "0.1188 (+/-0.00119) for {'C': 0.5, 'penalty': 'l1'}\n"
     ]
    }
   ],
   "source": [
    "means = -grid_logreg.cv_results_['mean_test_score']\n",
    "stds = grid_logreg.cv_results_['std_test_score']\n",
    "for mean, std, params in zip(means, stds, grid_logreg.cv_results_['params']):\n",
    "   print(\"%0.4f (+/-%0.05f) for %r\"\n",
    "   % (mean, std * 2, params))"
   ]
  },
  {
   "cell_type": "code",
   "execution_count": 444,
   "metadata": {},
   "outputs": [
    {
     "data": {
      "text/plain": [
       "LogisticRegression(C=0.5, class_weight=None, dual=False, fit_intercept=True,\n",
       "          intercept_scaling=1, max_iter=100, multi_class='warn',\n",
       "          n_jobs=None, penalty='l1', random_state=None, solver='liblinear',\n",
       "          tol=0.0001, verbose=0, warm_start=False)"
      ]
     },
     "execution_count": 444,
     "metadata": {},
     "output_type": "execute_result"
    }
   ],
   "source": [
    "logreg = grid_logreg.best_estimator_\n",
    "logreg"
   ]
  },
  {
   "cell_type": "code",
   "execution_count": 445,
   "metadata": {},
   "outputs": [
    {
     "name": "stdout",
     "output_type": "stream",
     "text": [
      "best parameters: {'C': 0.5, 'penalty': 'l1'}\n",
      "best score:      0.11883 (+/-0.00060)\n"
     ]
    },
    {
     "name": "stderr",
     "output_type": "stream",
     "text": [
      "C:\\Users\\Karsten\\Anaconda3\\lib\\site-packages\\sklearn\\utils\\deprecation.py:125: FutureWarning: You are accessing a training score ('split0_train_score'), which will not be available by default any more in 0.21. If you need training scores, please set return_train_score=True\n",
      "  warnings.warn(*warn_args, **warn_kwargs)\n",
      "C:\\Users\\Karsten\\Anaconda3\\lib\\site-packages\\sklearn\\utils\\deprecation.py:125: FutureWarning: You are accessing a training score ('split1_train_score'), which will not be available by default any more in 0.21. If you need training scores, please set return_train_score=True\n",
      "  warnings.warn(*warn_args, **warn_kwargs)\n",
      "C:\\Users\\Karsten\\Anaconda3\\lib\\site-packages\\sklearn\\utils\\deprecation.py:125: FutureWarning: You are accessing a training score ('split2_train_score'), which will not be available by default any more in 0.21. If you need training scores, please set return_train_score=True\n",
      "  warnings.warn(*warn_args, **warn_kwargs)\n",
      "C:\\Users\\Karsten\\Anaconda3\\lib\\site-packages\\sklearn\\utils\\deprecation.py:125: FutureWarning: You are accessing a training score ('split3_train_score'), which will not be available by default any more in 0.21. If you need training scores, please set return_train_score=True\n",
      "  warnings.warn(*warn_args, **warn_kwargs)\n",
      "C:\\Users\\Karsten\\Anaconda3\\lib\\site-packages\\sklearn\\utils\\deprecation.py:125: FutureWarning: You are accessing a training score ('split4_train_score'), which will not be available by default any more in 0.21. If you need training scores, please set return_train_score=True\n",
      "  warnings.warn(*warn_args, **warn_kwargs)\n",
      "C:\\Users\\Karsten\\Anaconda3\\lib\\site-packages\\sklearn\\utils\\deprecation.py:125: FutureWarning: You are accessing a training score ('mean_train_score'), which will not be available by default any more in 0.21. If you need training scores, please set return_train_score=True\n",
      "  warnings.warn(*warn_args, **warn_kwargs)\n",
      "C:\\Users\\Karsten\\Anaconda3\\lib\\site-packages\\sklearn\\utils\\deprecation.py:125: FutureWarning: You are accessing a training score ('std_train_score'), which will not be available by default any more in 0.21. If you need training scores, please set return_train_score=True\n",
      "  warnings.warn(*warn_args, **warn_kwargs)\n"
     ]
    },
    {
     "data": {
      "image/png": "[encoded data removed]",
      "text/plain": [
       "<Figure size 576x576 with 1 Axes>"
      ]
     },
     "metadata": {},
     "output_type": "display_data"
    }
   ],
   "source": [
    "param_name = 'C'\n",
    "logreg_params = grid_logreg.best_params_\n",
    "logreg_score = -grid_logreg.best_score_\n",
    "logreg_stdev = grid_logreg.cv_results_['std_test_score'][grid_logreg.best_index_]\n",
    "cv_results = grid_logreg.cv_results_\n",
    "\n",
    "print(\"best parameters: {}\".format(logreg_params))\n",
    "print(\"best score:      {:0.5f} (+/-{:0.5f})\".format(logreg_score, logreg_stdev))\n",
    "\n",
    "# pick out the best results\n",
    "# =========================\n",
    "scores_df = pd.DataFrame(cv_results).sort_values(by='rank_test_score')\n",
    "\n",
    "best_row = scores_df.iloc[0, :]\n",
    "best_mean = -best_row['mean_test_score']\n",
    "best_stdev = best_row['std_test_score']\n",
    "best_param = best_row['param_' + param_name]\n",
    "\n",
    "# display the top 'num_results' results\n",
    "# =====================================\n",
    "#display(pd.DataFrame(cv_results).sort_values(by='rank_test_score').head(5))\n",
    "\n",
    "# plot the results\n",
    "# ================\n",
    "scores_df = scores_df.sort_values(by='param_' + param_name)\n",
    "\n",
    "means = -scores_df['mean_test_score']\n",
    "stds = scores_df['std_test_score']\n",
    "params = scores_df['param_' + param_name]\n",
    "\n",
    "# plot\n",
    "plt.figure(figsize=(8, 8))\n",
    "plt.errorbar(params, means, yerr=stds)\n",
    "\n",
    "plt.axhline(y=best_mean + best_stdev, color='red')\n",
    "plt.axhline(y=best_mean - best_stdev, color='red')\n",
    "plt.xscale('log')\n",
    "plt.plot(best_param, best_mean, 'or')\n",
    "\n",
    "plt.title(param_name + \" vs Score\\nBest Score {:0.5f}\".format(logreg_score))\n",
    "plt.xlabel(param_name)\n",
    "plt.ylabel('Score')\n",
    "plt.show()"
   ]
  },
  {
   "cell_type": "code",
   "execution_count": 446,
   "metadata": {},
   "outputs": [
    {
     "name": "stdout",
     "output_type": "stream",
     "text": [
      "Train AUC:  0.8614422547596866\n",
      "Train logloss:  0.11849901226722913\n",
      "Train Brier Score:  0.030532532564618013\n",
      "Test AUC:  0.8592125978725943\n",
      "Test logloss:  0.12486212166421815\n",
      "Test Brier Score:  0.03246548280762365\n"
     ]
    }
   ],
   "source": [
    "y_pred_train = grid_logreg.predict_proba(X_train)\n",
    "y_pred_test = grid_logreg.predict_proba(X_test)\n",
    "print(\"Train AUC: \", roc_auc_score(y_train, y_pred_train[:,1]))\n",
    "print(\"Train logloss: \", log_loss(y_train, y_pred_train[:,1]))\n",
    "print(\"Train Brier Score: \", brier_score_loss(y_train, y_pred_train[:,1], pos_label=1))\n",
    "\n",
    "print(\"Test AUC: \", roc_auc_score(y_test, y_pred_test[:,1]))\n",
    "print(\"Test logloss: \", log_loss(y_test, y_pred_test[:,1]))\n",
    "print(\"Test Brier Score: \", brier_score_loss(y_test, y_pred_test[:,1], pos_label=1))"
   ]
  },
  {
   "cell_type": "code",
   "execution_count": 447,
   "metadata": {},
   "outputs": [
    {
     "data": {
      "image/png": "[encoded data removed]",
      "text/plain": [
       "<Figure size 576x396 with 1 Axes>"
      ]
     },
     "metadata": {},
     "output_type": "display_data"
    }
   ],
   "source": [
    "plt.hist(y_pred_train[:,1], bins=20);"
   ]
  },
  {
   "cell_type": "code",
   "execution_count": 448,
   "metadata": {},
   "outputs": [],
   "source": [
    "fop, mpv = calibration_curve(y_test, y_pred_test[:,1], n_bins=10)"
   ]
  },
  {
   "cell_type": "code",
   "execution_count": 449,
   "metadata": {},
   "outputs": [
    {
     "data": {
      "text/html": [
       "<div>\n",
       "<style scoped>\n",
       "    .dataframe tbody tr th:only-of-type {\n",
       "        vertical-align: middle;\n",
       "    }\n",
       "\n",
       "    .dataframe tbody tr th {\n",
       "        vertical-align: top;\n",
       "    }\n",
       "\n",
       "    .dataframe thead th {\n",
       "        text-align: right;\n",
       "    }\n",
       "</style>\n",
       "<table border=\"1\" class=\"dataframe\">\n",
       "  <thead>\n",
       "    <tr style=\"text-align: right;\">\n",
       "      <th></th>\n",
       "      <th>0</th>\n",
       "      <th>1</th>\n",
       "      <th>2</th>\n",
       "      <th>3</th>\n",
       "      <th>4</th>\n",
       "      <th>5</th>\n",
       "      <th>6</th>\n",
       "    </tr>\n",
       "  </thead>\n",
       "  <tbody>\n",
       "    <tr>\n",
       "      <th>LogReg_true</th>\n",
       "      <td>0.020895</td>\n",
       "      <td>0.158344</td>\n",
       "      <td>0.221174</td>\n",
       "      <td>0.279570</td>\n",
       "      <td>0.303571</td>\n",
       "      <td>0.333333</td>\n",
       "      <td>0.000000</td>\n",
       "    </tr>\n",
       "    <tr>\n",
       "      <th>LogReg_pred</th>\n",
       "      <td>0.018277</td>\n",
       "      <td>0.139375</td>\n",
       "      <td>0.242395</td>\n",
       "      <td>0.338769</td>\n",
       "      <td>0.442197</td>\n",
       "      <td>0.540451</td>\n",
       "      <td>0.614524</td>\n",
       "    </tr>\n",
       "  </tbody>\n",
       "</table>\n",
       "</div>"
      ],
      "text/plain": [
       "                    0         1         2         3         4         5  \\\n",
       "LogReg_true  0.020895  0.158344  0.221174  0.279570  0.303571  0.333333   \n",
       "LogReg_pred  0.018277  0.139375  0.242395  0.338769  0.442197  0.540451   \n",
       "\n",
       "                    6  \n",
       "LogReg_true  0.000000  \n",
       "LogReg_pred  0.614524  "
      ]
     },
     "execution_count": 449,
     "metadata": {},
     "output_type": "execute_result"
    }
   ],
   "source": [
    "I = pd.Index([\"LogReg_true\", \"LogReg_pred\"])\n",
    "calib_curves = pd.DataFrame([fop, mpv], index = I)\n",
    "calib_curves"
   ]
  },
  {
   "cell_type": "code",
   "execution_count": 450,
   "metadata": {},
   "outputs": [
    {
     "data": {
      "text/plain": [
       "array([40536,  3044,   954,   279,   112,    21,     1,     0,     0,\n",
       "           0,     0], dtype=int64)"
      ]
     },
     "execution_count": 450,
     "metadata": {},
     "output_type": "execute_result"
    }
   ],
   "source": [
    "def bin_total(y_true, y_prob, n_bins):\n",
    "    bins = np. linspace(0., 1. + 1e-8, n_bins + 1)\n",
    "    binids = np.digitize(y_prob, bins) - 1\n",
    "    return np.bincount(binids, minlength=len(bins))\n",
    "bin_total(y_test, y_pred_test[:,1], n_bins=10)"
   ]
  },
  {
   "cell_type": "code",
   "execution_count": 451,
   "metadata": {},
   "outputs": [
    {
     "data": {
      "image/png": "[encoded data removed]",
      "text/plain": [
       "<Figure size 576x396 with 1 Axes>"
      ]
     },
     "metadata": {},
     "output_type": "display_data"
    }
   ],
   "source": [
    "plt.plot([0, 1], [0, 1], linestyle='--')\n",
    "plt.plot(mpv, fop, marker='.')\n",
    "plt.show()"
   ]
  },
  {
   "cell_type": "code",
   "execution_count": 452,
   "metadata": {},
   "outputs": [],
   "source": [
    "coeff = pd.DataFrame({'feature': X_train.columns, 'coef': np.exp(grid_logreg.best_estimator_.coef_.flatten())})\n",
    "coeff.to_excel(\"Results/LogReg_coeff.xls\", index = True)"
   ]
  },
  {
   "cell_type": "code",
   "execution_count": 453,
   "metadata": {},
   "outputs": [],
   "source": [
    "results = pd.DataFrame({'true': y_test, 'predictions': y_pred_test[:,1]})\n",
    "results = pd.concat([X_test, results], axis=1)\n",
    "#results.to_excel(\"Results/out_LogReg.xls\", index = True)"
   ]
  },
  {
   "cell_type": "code",
   "execution_count": 454,
   "metadata": {},
   "outputs": [
    {
     "data": {
      "text/plain": [
       "(44947, 51)"
      ]
     },
     "execution_count": 454,
     "metadata": {},
     "output_type": "execute_result"
    }
   ],
   "source": [
    "results.shape"
   ]
  },
  {
   "cell_type": "markdown",
   "metadata": {},
   "source": [
    "# XGBoost"
   ]
  },
  {
   "cell_type": "code",
   "execution_count": 455,
   "metadata": {},
   "outputs": [],
   "source": [
    "param_grid_xgb = {\n",
    "    'max_depth': [5],\n",
    "    'min_child_weight': [10],\n",
    "    'n_estimators': [100],\n",
    "    'learning_rate': [0.1],\n",
    "    'gamma': [0],\n",
    "    'subsample': [1],\n",
    "    'colsample_bytree': [1]\n",
    "    }"
   ]
  },
  {
   "cell_type": "code",
   "execution_count": 456,
   "metadata": {},
   "outputs": [
    {
     "data": {
      "text/plain": [
       "GridSearchCV(cv=StratifiedKFold(n_splits=5, random_state=7, shuffle=True),\n",
       "       error_score='raise-deprecating',\n",
       "       estimator=XGBClassifier(base_score=0.5, booster='gbtree', colsample_bylevel=1,\n",
       "       colsample_bytree=1, gamma=0, learning_rate=0.1, max_delta_step=0,\n",
       "       max_depth=3, min_child_weight=1, missing=None, n_estimators=100,\n",
       "       n_jobs=1, nthread=None, objective='binary:logistic', random_state=0,\n",
       "       reg_alpha=0, reg_lambda=1, scale_pos_weight=1, seed=None,\n",
       "       silent=True, subsample=1),\n",
       "       fit_params=None, iid='warn', n_jobs=None,\n",
       "       param_grid={'max_depth': [5], 'min_child_weight': [10], 'n_estimators': [100], 'learning_rate': [0.1], 'gamma': [0], 'subsample': [1], 'colsample_bytree': [1]},\n",
       "       pre_dispatch='2*n_jobs', refit=True, return_train_score='warn',\n",
       "       scoring='neg_log_loss', verbose=0)"
      ]
     },
     "execution_count": 456,
     "metadata": {},
     "output_type": "execute_result"
    }
   ],
   "source": [
    "m_XGB = xgb.XGBClassifier()\n",
    "grid_XGB = GridSearchCV(m_XGB, param_grid_xgb, cv=kfold, scoring='neg_log_loss')\n",
    "grid_XGB.fit(X_train, y_train)"
   ]
  },
  {
   "cell_type": "code",
   "execution_count": 457,
   "metadata": {},
   "outputs": [
    {
     "data": {
      "text/plain": [
       "XGBClassifier(base_score=0.5, booster='gbtree', colsample_bylevel=1,\n",
       "       colsample_bytree=1, gamma=0, learning_rate=0.1, max_delta_step=0,\n",
       "       max_depth=5, min_child_weight=10, missing=None, n_estimators=100,\n",
       "       n_jobs=1, nthread=None, objective='binary:logistic', random_state=0,\n",
       "       reg_alpha=0, reg_lambda=1, scale_pos_weight=1, seed=None,\n",
       "       silent=True, subsample=1)"
      ]
     },
     "execution_count": 457,
     "metadata": {},
     "output_type": "execute_result"
    }
   ],
   "source": [
    "grid_XGB.best_estimator_"
   ]
  },
  {
   "cell_type": "code",
   "execution_count": 458,
   "metadata": {},
   "outputs": [
    {
     "name": "stdout",
     "output_type": "stream",
     "text": [
      "0.1161 (+/--0.0003) for {'colsample_bytree': 1, 'gamma': 0, 'learning_rate': 0.1, 'max_depth': 5, 'min_child_weight': 10, 'n_estimators': 100, 'subsample': 1}\n"
     ]
    }
   ],
   "source": [
    "means = -grid_XGB.cv_results_['mean_test_score']\n",
    "stds = -grid_XGB.cv_results_['std_test_score']\n",
    "for mean, std, params in zip(means, stds, grid_XGB.cv_results_['params']):\n",
    "   print(\"%0.4f (+/-%0.04f) for %r\"\n",
    "   % (mean, std * 2, params))"
   ]
  },
  {
   "cell_type": "code",
   "execution_count": 459,
   "metadata": {},
   "outputs": [
    {
     "name": "stdout",
     "output_type": "stream",
     "text": [
      "Test AUC:  0.8678265335642829\n",
      "Test logloss:  0.12204127429398678\n",
      "Test Brier Score:  0.03210811552452948\n"
     ]
    }
   ],
   "source": [
    "y_pred = grid_XGB.predict_proba(X_test)\n",
    "\n",
    "print(\"Test AUC: \", roc_auc_score(y_test, y_pred[:,1]))\n",
    "print(\"Test logloss: \", log_loss(y_test, y_pred[:,1]))\n",
    "print(\"Test Brier Score: \", brier_score_loss(y_test, y_pred[:,1], pos_label=1))"
   ]
  },
  {
   "cell_type": "code",
   "execution_count": 460,
   "metadata": {},
   "outputs": [
    {
     "data": {
      "image/png": "[encoded data removed]",
      "text/plain": [
       "<Figure size 576x396 with 1 Axes>"
      ]
     },
     "metadata": {},
     "output_type": "display_data"
    }
   ],
   "source": [
    "xgb.plot_importance(grid_XGB.best_estimator_);"
   ]
  },
  {
   "cell_type": "code",
   "execution_count": 461,
   "metadata": {},
   "outputs": [
    {
     "name": "stdout",
     "output_type": "stream",
     "text": [
      "[[43285     3]\n",
      " [ 1657     2]]\n"
     ]
    }
   ],
   "source": [
    "conf_matrix = confusion_matrix(y_test, grid_XGB.best_estimator_.predict(X_test))\n",
    "print(conf_matrix)"
   ]
  },
  {
   "cell_type": "code",
   "execution_count": 462,
   "metadata": {},
   "outputs": [
    {
     "data": {
      "image/png": "[encoded data removed]",
      "text/plain": [
       "<Figure size 576x396 with 1 Axes>"
      ]
     },
     "metadata": {},
     "output_type": "display_data"
    }
   ],
   "source": [
    "plt.hist(y_pred[:,1], bins=20);"
   ]
  },
  {
   "cell_type": "code",
   "execution_count": 463,
   "metadata": {},
   "outputs": [
    {
     "data": {
      "text/plain": [
       "array([40125,  3501,  1033,   239,    44,     4,     1,     0,     0,\n",
       "           0,     0], dtype=int64)"
      ]
     },
     "execution_count": 463,
     "metadata": {},
     "output_type": "execute_result"
    }
   ],
   "source": [
    "fop, mpv = calibration_curve(y_test, y_pred[:,1], n_bins=10)\n",
    "bin_total(y_test, y_pred[:,1], n_bins=10)"
   ]
  },
  {
   "cell_type": "code",
   "execution_count": 464,
   "metadata": {},
   "outputs": [
    {
     "data": {
      "text/html": [
       "<div>\n",
       "<style scoped>\n",
       "    .dataframe tbody tr th:only-of-type {\n",
       "        vertical-align: middle;\n",
       "    }\n",
       "\n",
       "    .dataframe tbody tr th {\n",
       "        vertical-align: top;\n",
       "    }\n",
       "\n",
       "    .dataframe thead th {\n",
       "        text-align: right;\n",
       "    }\n",
       "</style>\n",
       "<table border=\"1\" class=\"dataframe\">\n",
       "  <thead>\n",
       "    <tr style=\"text-align: right;\">\n",
       "      <th></th>\n",
       "      <th>0</th>\n",
       "      <th>1</th>\n",
       "      <th>2</th>\n",
       "      <th>3</th>\n",
       "      <th>4</th>\n",
       "      <th>5</th>\n",
       "      <th>6</th>\n",
       "    </tr>\n",
       "  </thead>\n",
       "  <tbody>\n",
       "    <tr>\n",
       "      <th>LogReg_true</th>\n",
       "      <td>0.020895</td>\n",
       "      <td>0.158344</td>\n",
       "      <td>0.221174</td>\n",
       "      <td>0.279570</td>\n",
       "      <td>0.303571</td>\n",
       "      <td>0.333333</td>\n",
       "      <td>0.000000</td>\n",
       "    </tr>\n",
       "    <tr>\n",
       "      <th>LogReg_pred</th>\n",
       "      <td>0.018277</td>\n",
       "      <td>0.139375</td>\n",
       "      <td>0.242395</td>\n",
       "      <td>0.338769</td>\n",
       "      <td>0.442197</td>\n",
       "      <td>0.540451</td>\n",
       "      <td>0.614524</td>\n",
       "    </tr>\n",
       "    <tr>\n",
       "      <th>XGBoost_true</th>\n",
       "      <td>0.019364</td>\n",
       "      <td>0.155099</td>\n",
       "      <td>0.235237</td>\n",
       "      <td>0.322176</td>\n",
       "      <td>0.386364</td>\n",
       "      <td>0.500000</td>\n",
       "      <td>0.000000</td>\n",
       "    </tr>\n",
       "    <tr>\n",
       "      <th>XGBoost_pred</th>\n",
       "      <td>0.017779</td>\n",
       "      <td>0.140378</td>\n",
       "      <td>0.236463</td>\n",
       "      <td>0.338438</td>\n",
       "      <td>0.433045</td>\n",
       "      <td>0.523111</td>\n",
       "      <td>0.654786</td>\n",
       "    </tr>\n",
       "  </tbody>\n",
       "</table>\n",
       "</div>"
      ],
      "text/plain": [
       "                     0         1         2         3         4         5  \\\n",
       "LogReg_true   0.020895  0.158344  0.221174  0.279570  0.303571  0.333333   \n",
       "LogReg_pred   0.018277  0.139375  0.242395  0.338769  0.442197  0.540451   \n",
       "XGBoost_true  0.019364  0.155099  0.235237  0.322176  0.386364  0.500000   \n",
       "XGBoost_pred  0.017779  0.140378  0.236463  0.338438  0.433045  0.523111   \n",
       "\n",
       "                     6  \n",
       "LogReg_true   0.000000  \n",
       "LogReg_pred   0.614524  \n",
       "XGBoost_true  0.000000  \n",
       "XGBoost_pred  0.654786  "
      ]
     },
     "execution_count": 464,
     "metadata": {},
     "output_type": "execute_result"
    }
   ],
   "source": [
    "calib_curves = calib_curves.append(pd.Series(fop, name=\"XGBoost_true\"))\n",
    "calib_curves = calib_curves.append(pd.Series(mpv, name=\"XGBoost_pred\"))\n",
    "calib_curves"
   ]
  },
  {
   "cell_type": "code",
   "execution_count": 465,
   "metadata": {},
   "outputs": [
    {
     "data": {
      "image/png": "[encoded data removed]",
      "text/plain": [
       "<Figure size 576x396 with 1 Axes>"
      ]
     },
     "metadata": {},
     "output_type": "display_data"
    }
   ],
   "source": [
    "plt.plot([0, 1], [0, 1], linestyle='--')\n",
    "plt.plot( calib_curves.loc[\"LogReg_pred\"], calib_curves.loc[\"LogReg_true\"], marker='.')\n",
    "plt.plot( calib_curves.loc[\"XGBoost_pred\"], calib_curves.loc[\"XGBoost_true\"], marker='.')\n",
    "plt.show()"
   ]
  },
  {
   "cell_type": "code",
   "execution_count": 466,
   "metadata": {},
   "outputs": [],
   "source": [
    "results = pd.DataFrame({'true': y_test, 'predictions': y_pred[:,1]})\n",
    "results = pd.concat([X_test, results], axis=1)\n",
    "#results.to_excel(\"Results/out_XGB.xls\", index = True)"
   ]
  },
  {
   "cell_type": "markdown",
   "metadata": {},
   "source": [
    "# GBM"
   ]
  },
  {
   "cell_type": "code",
   "execution_count": 467,
   "metadata": {},
   "outputs": [],
   "source": [
    "param_grid_gbm = {\n",
    "    'max_depth': [6],\n",
    "    'min_samples_leaf': [20],\n",
    "    'n_estimators': [100],\n",
    "    'learning_rate': [0.1],\n",
    "    'subsample': [1],\n",
    "    }\n",
    "\n",
    "param_grid_gbm_bk = {\n",
    "    'max_depth': [6],\n",
    "    'min_samples_leaf': [20],\n",
    "    'n_estimators': [100],\n",
    "    'learning_rate': [0.1],\n",
    "    'subsample': [1],\n",
    "    }"
   ]
  },
  {
   "cell_type": "code",
   "execution_count": 468,
   "metadata": {},
   "outputs": [
    {
     "data": {
      "text/plain": [
       "GridSearchCV(cv=StratifiedKFold(n_splits=5, random_state=7, shuffle=True),\n",
       "       error_score='raise-deprecating',\n",
       "       estimator=GradientBoostingClassifier(criterion='friedman_mse', init=None,\n",
       "              learning_rate=0.1, loss='deviance', max_depth=3,\n",
       "              max_features=None, max_leaf_nodes=None,\n",
       "              min_impurity_decrease=0.0, min_impurity_split=None,\n",
       "              min_samples_leaf=1, min_sampl...      subsample=1.0, tol=0.0001, validation_fraction=0.1,\n",
       "              verbose=0, warm_start=False),\n",
       "       fit_params=None, iid='warn', n_jobs=3,\n",
       "       param_grid={'max_depth': [6], 'min_samples_leaf': [20], 'n_estimators': [100], 'learning_rate': [0.1], 'subsample': [1]},\n",
       "       pre_dispatch='2*n_jobs', refit=True, return_train_score='warn',\n",
       "       scoring='neg_log_loss', verbose=0)"
      ]
     },
     "execution_count": 468,
     "metadata": {},
     "output_type": "execute_result"
    }
   ],
   "source": [
    "m_GBM = GradientBoostingClassifier()\n",
    "grid_GBM = GridSearchCV(m_GBM, param_grid_gbm, cv=kfold, scoring='neg_log_loss', n_jobs = 3)\n",
    "grid_GBM.fit(X_train, y_train)"
   ]
  },
  {
   "cell_type": "code",
   "execution_count": 469,
   "metadata": {},
   "outputs": [
    {
     "data": {
      "text/plain": [
       "GradientBoostingClassifier(criterion='friedman_mse', init=None,\n",
       "              learning_rate=0.1, loss='deviance', max_depth=6,\n",
       "              max_features=None, max_leaf_nodes=None,\n",
       "              min_impurity_decrease=0.0, min_impurity_split=None,\n",
       "              min_samples_leaf=20, min_samples_split=2,\n",
       "              min_weight_fraction_leaf=0.0, n_estimators=100,\n",
       "              n_iter_no_change=None, presort='auto', random_state=None,\n",
       "              subsample=1, tol=0.0001, validation_fraction=0.1, verbose=0,\n",
       "              warm_start=False)"
      ]
     },
     "execution_count": 469,
     "metadata": {},
     "output_type": "execute_result"
    }
   ],
   "source": [
    "grid_GBM.best_estimator_"
   ]
  },
  {
   "cell_type": "code",
   "execution_count": 470,
   "metadata": {},
   "outputs": [
    {
     "name": "stdout",
     "output_type": "stream",
     "text": [
      "0.1163 (+/-0.0007) for {'learning_rate': 0.1, 'max_depth': 6, 'min_samples_leaf': 20, 'n_estimators': 100, 'subsample': 1}\n"
     ]
    }
   ],
   "source": [
    "means = -grid_GBM.cv_results_['mean_test_score']\n",
    "stds = grid_GBM.cv_results_['std_test_score']\n",
    "for mean, std, params in zip(means, stds, grid_GBM.cv_results_['params']):\n",
    "   print(\"%0.4f (+/-%0.04f) for %r\"\n",
    "   % (mean, std * 2, params))"
   ]
  },
  {
   "cell_type": "code",
   "execution_count": 471,
   "metadata": {},
   "outputs": [
    {
     "name": "stdout",
     "output_type": "stream",
     "text": [
      "Test AUC:  0.8688619191433431\n",
      "Test logloss:  0.12191328840998232\n",
      "Test Brier Score:  0.03205015471149282\n"
     ]
    }
   ],
   "source": [
    "y_pred = grid_GBM.predict_proba(X_test)\n",
    "print(\"Test AUC: \", roc_auc_score(y_test, y_pred[:,1]))\n",
    "print(\"Test logloss: \", log_loss(y_test, y_pred[:,1]))\n",
    "print(\"Test Brier Score: \", brier_score_loss(y_test, y_pred[:,1], pos_label=1))"
   ]
  },
  {
   "cell_type": "code",
   "execution_count": 472,
   "metadata": {},
   "outputs": [
    {
     "data": {
      "text/plain": [
       "array([40368,  3110,  1006,   330,    93,    30,     8,     2,     0,\n",
       "           0,     0], dtype=int64)"
      ]
     },
     "execution_count": 472,
     "metadata": {},
     "output_type": "execute_result"
    }
   ],
   "source": [
    "fop, mpv = calibration_curve(y_test, y_pred[:,1], n_bins=10)\n",
    "bin_total(y_test, y_pred[:,1], n_bins=10)"
   ]
  },
  {
   "cell_type": "code",
   "execution_count": 473,
   "metadata": {},
   "outputs": [
    {
     "data": {
      "text/html": [
       "<div>\n",
       "<style scoped>\n",
       "    .dataframe tbody tr th:only-of-type {\n",
       "        vertical-align: middle;\n",
       "    }\n",
       "\n",
       "    .dataframe tbody tr th {\n",
       "        vertical-align: top;\n",
       "    }\n",
       "\n",
       "    .dataframe thead th {\n",
       "        text-align: right;\n",
       "    }\n",
       "</style>\n",
       "<table border=\"1\" class=\"dataframe\">\n",
       "  <thead>\n",
       "    <tr style=\"text-align: right;\">\n",
       "      <th></th>\n",
       "      <th>0</th>\n",
       "      <th>1</th>\n",
       "      <th>2</th>\n",
       "      <th>3</th>\n",
       "      <th>4</th>\n",
       "      <th>5</th>\n",
       "      <th>6</th>\n",
       "      <th>7</th>\n",
       "    </tr>\n",
       "  </thead>\n",
       "  <tbody>\n",
       "    <tr>\n",
       "      <th>LogReg_true</th>\n",
       "      <td>0.020895</td>\n",
       "      <td>0.158344</td>\n",
       "      <td>0.221174</td>\n",
       "      <td>0.279570</td>\n",
       "      <td>0.303571</td>\n",
       "      <td>0.333333</td>\n",
       "      <td>0.000000</td>\n",
       "      <td>NaN</td>\n",
       "    </tr>\n",
       "    <tr>\n",
       "      <th>LogReg_pred</th>\n",
       "      <td>0.018277</td>\n",
       "      <td>0.139375</td>\n",
       "      <td>0.242395</td>\n",
       "      <td>0.338769</td>\n",
       "      <td>0.442197</td>\n",
       "      <td>0.540451</td>\n",
       "      <td>0.614524</td>\n",
       "      <td>NaN</td>\n",
       "    </tr>\n",
       "    <tr>\n",
       "      <th>XGBoost_true</th>\n",
       "      <td>0.019364</td>\n",
       "      <td>0.155099</td>\n",
       "      <td>0.235237</td>\n",
       "      <td>0.322176</td>\n",
       "      <td>0.386364</td>\n",
       "      <td>0.500000</td>\n",
       "      <td>0.000000</td>\n",
       "      <td>NaN</td>\n",
       "    </tr>\n",
       "    <tr>\n",
       "      <th>XGBoost_pred</th>\n",
       "      <td>0.017779</td>\n",
       "      <td>0.140378</td>\n",
       "      <td>0.236463</td>\n",
       "      <td>0.338438</td>\n",
       "      <td>0.433045</td>\n",
       "      <td>0.523111</td>\n",
       "      <td>0.654786</td>\n",
       "      <td>NaN</td>\n",
       "    </tr>\n",
       "    <tr>\n",
       "      <th>GBM_true</th>\n",
       "      <td>0.020090</td>\n",
       "      <td>0.151125</td>\n",
       "      <td>0.232604</td>\n",
       "      <td>0.272727</td>\n",
       "      <td>0.397849</td>\n",
       "      <td>0.533333</td>\n",
       "      <td>0.125000</td>\n",
       "      <td>0.000000</td>\n",
       "    </tr>\n",
       "    <tr>\n",
       "      <th>GBM_pred</th>\n",
       "      <td>0.017048</td>\n",
       "      <td>0.140289</td>\n",
       "      <td>0.239690</td>\n",
       "      <td>0.341964</td>\n",
       "      <td>0.440530</td>\n",
       "      <td>0.545914</td>\n",
       "      <td>0.643621</td>\n",
       "      <td>0.717087</td>\n",
       "    </tr>\n",
       "  </tbody>\n",
       "</table>\n",
       "</div>"
      ],
      "text/plain": [
       "                     0         1         2         3         4         5  \\\n",
       "LogReg_true   0.020895  0.158344  0.221174  0.279570  0.303571  0.333333   \n",
       "LogReg_pred   0.018277  0.139375  0.242395  0.338769  0.442197  0.540451   \n",
       "XGBoost_true  0.019364  0.155099  0.235237  0.322176  0.386364  0.500000   \n",
       "XGBoost_pred  0.017779  0.140378  0.236463  0.338438  0.433045  0.523111   \n",
       "GBM_true      0.020090  0.151125  0.232604  0.272727  0.397849  0.533333   \n",
       "GBM_pred      0.017048  0.140289  0.239690  0.341964  0.440530  0.545914   \n",
       "\n",
       "                     6         7  \n",
       "LogReg_true   0.000000       NaN  \n",
       "LogReg_pred   0.614524       NaN  \n",
       "XGBoost_true  0.000000       NaN  \n",
       "XGBoost_pred  0.654786       NaN  \n",
       "GBM_true      0.125000  0.000000  \n",
       "GBM_pred      0.643621  0.717087  "
      ]
     },
     "execution_count": 473,
     "metadata": {},
     "output_type": "execute_result"
    }
   ],
   "source": [
    "calib_curves = calib_curves.append(pd.Series(fop, name=\"GBM_true\"))\n",
    "calib_curves = calib_curves.append(pd.Series(mpv, name=\"GBM_pred\"))\n",
    "calib_curves"
   ]
  },
  {
   "cell_type": "code",
   "execution_count": 490,
   "metadata": {},
   "outputs": [
    {
     "data": {
      "image/png": "[encoded data removed]",
      "text/plain": [
       "<Figure size 576x396 with 3 Axes>"
      ]
     },
     "metadata": {},
     "output_type": "display_data"
    }
   ],
   "source": [
    "my_plots = plot_partial_dependence(grid_GBM.best_estimator_, features=[1, 7, (1,7)], X=X_train)"
   ]
  },
  {
   "cell_type": "code",
   "execution_count": 475,
   "metadata": {},
   "outputs": [
    {
     "data": {
      "text/plain": [
       "(array([[-1.36367317,  0.22414336]]), [array([0., 1.], dtype=float32)])"
      ]
     },
     "execution_count": 475,
     "metadata": {},
     "output_type": "execute_result"
    }
   ],
   "source": [
    "partial_dependence(grid_GBM.best_estimator_, X=X_train, target_variables=[7])"
   ]
  },
  {
   "cell_type": "code",
   "execution_count": 476,
   "metadata": {},
   "outputs": [
    {
     "data": {
      "text/plain": [
       "dtype('int64')"
      ]
     },
     "execution_count": 476,
     "metadata": {},
     "output_type": "execute_result"
    }
   ],
   "source": [
    "X_train['DIABETICEV'].dtype"
   ]
  },
  {
   "cell_type": "markdown",
   "metadata": {},
   "source": [
    "# Random Forest"
   ]
  },
  {
   "cell_type": "code",
   "execution_count": 477,
   "metadata": {},
   "outputs": [],
   "source": [
    "param_grid_RF = {\n",
    "    'max_depth': [12],\n",
    "    'min_samples_leaf': [10],\n",
    "    'max_features': ['auto'],\n",
    "    'n_estimators': [300],\n",
    "    }"
   ]
  },
  {
   "cell_type": "code",
   "execution_count": 478,
   "metadata": {},
   "outputs": [
    {
     "data": {
      "text/plain": [
       "GridSearchCV(cv=StratifiedKFold(n_splits=5, random_state=7, shuffle=True),\n",
       "       error_score='raise-deprecating',\n",
       "       estimator=RandomForestClassifier(bootstrap=True, class_weight=None, criterion='gini',\n",
       "            max_depth=None, max_features='auto', max_leaf_nodes=None,\n",
       "            min_impurity_decrease=0.0, min_impurity_split=None,\n",
       "            min_samples_leaf=1, min_samples_split=2,\n",
       "            min_weight_fraction_leaf=0.0, n_estimators='warn', n_jobs=-1,\n",
       "            oob_score=False, random_state=None, verbose=0,\n",
       "            warm_start=False),\n",
       "       fit_params=None, iid='warn', n_jobs=None,\n",
       "       param_grid={'max_depth': [12], 'min_samples_leaf': [10], 'max_features': ['auto'], 'n_estimators': [300]},\n",
       "       pre_dispatch='2*n_jobs', refit=True, return_train_score='warn',\n",
       "       scoring='neg_log_loss', verbose=0)"
      ]
     },
     "execution_count": 478,
     "metadata": {},
     "output_type": "execute_result"
    }
   ],
   "source": [
    "RandForest = RandomForestClassifier(n_jobs=-1)\n",
    "grid_RF = GridSearchCV(RandForest, param_grid_RF, cv=kfold, scoring='neg_log_loss')\n",
    "grid_RF.fit(X_train, y_train)"
   ]
  },
  {
   "cell_type": "code",
   "execution_count": 479,
   "metadata": {},
   "outputs": [
    {
     "data": {
      "text/plain": [
       "RandomForestClassifier(bootstrap=True, class_weight=None, criterion='gini',\n",
       "            max_depth=12, max_features='auto', max_leaf_nodes=None,\n",
       "            min_impurity_decrease=0.0, min_impurity_split=None,\n",
       "            min_samples_leaf=10, min_samples_split=2,\n",
       "            min_weight_fraction_leaf=0.0, n_estimators=300, n_jobs=-1,\n",
       "            oob_score=False, random_state=None, verbose=0,\n",
       "            warm_start=False)"
      ]
     },
     "execution_count": 479,
     "metadata": {},
     "output_type": "execute_result"
    }
   ],
   "source": [
    "grid_RF.best_estimator_"
   ]
  },
  {
   "cell_type": "code",
   "execution_count": 480,
   "metadata": {},
   "outputs": [
    {
     "name": "stdout",
     "output_type": "stream",
     "text": [
      "0.1160 (+/-0.0003) for {'max_depth': 12, 'max_features': 'auto', 'min_samples_leaf': 10, 'n_estimators': 300}\n"
     ]
    }
   ],
   "source": [
    "means = -grid_RF.cv_results_['mean_test_score']\n",
    "stds = grid_RF.cv_results_['std_test_score']\n",
    "for mean, std, params in zip(means, stds, grid_RF.cv_results_['params']):\n",
    "   print(\"%0.4f (+/-%0.04f) for %r\"\n",
    "   % (mean, std * 2, params))"
   ]
  },
  {
   "cell_type": "code",
   "execution_count": 481,
   "metadata": {},
   "outputs": [
    {
     "name": "stdout",
     "output_type": "stream",
     "text": [
      "Test AUC:  0.870246842739585\n",
      "Test logloss:  0.12179684069995782\n",
      "Test Brier Score:  0.03195964991907412\n"
     ]
    }
   ],
   "source": [
    "y_pred = grid_RF.predict_proba(X_test)\n",
    "\n",
    "print(\"Test AUC: \", roc_auc_score(y_test, y_pred[:,1]))\n",
    "print(\"Test logloss: \", log_loss(y_test, y_pred[:,1]))\n",
    "print(\"Test Brier Score: \", brier_score_loss(y_test, y_pred[:,1], pos_label=1))"
   ]
  },
  {
   "cell_type": "code",
   "execution_count": 482,
   "metadata": {},
   "outputs": [
    {
     "data": {
      "text/plain": [
       "array([40127,  4081,   706,    33,     0,     0,     0,     0,     0,\n",
       "           0,     0], dtype=int64)"
      ]
     },
     "execution_count": 482,
     "metadata": {},
     "output_type": "execute_result"
    }
   ],
   "source": [
    "fop, mpv = calibration_curve(y_test, y_pred[:,1], n_bins=10)\n",
    "bin_total(y_test, y_pred[:,1], n_bins=10)"
   ]
  },
  {
   "cell_type": "code",
   "execution_count": 483,
   "metadata": {},
   "outputs": [
    {
     "data": {
      "text/html": [
       "<div>\n",
       "<style scoped>\n",
       "    .dataframe tbody tr th:only-of-type {\n",
       "        vertical-align: middle;\n",
       "    }\n",
       "\n",
       "    .dataframe tbody tr th {\n",
       "        vertical-align: top;\n",
       "    }\n",
       "\n",
       "    .dataframe thead th {\n",
       "        text-align: right;\n",
       "    }\n",
       "</style>\n",
       "<table border=\"1\" class=\"dataframe\">\n",
       "  <thead>\n",
       "    <tr style=\"text-align: right;\">\n",
       "      <th></th>\n",
       "      <th>0</th>\n",
       "      <th>1</th>\n",
       "      <th>2</th>\n",
       "      <th>3</th>\n",
       "      <th>4</th>\n",
       "      <th>5</th>\n",
       "      <th>6</th>\n",
       "      <th>7</th>\n",
       "    </tr>\n",
       "  </thead>\n",
       "  <tbody>\n",
       "    <tr>\n",
       "      <th>LogReg_true</th>\n",
       "      <td>0.020895</td>\n",
       "      <td>0.158344</td>\n",
       "      <td>0.221174</td>\n",
       "      <td>0.279570</td>\n",
       "      <td>0.303571</td>\n",
       "      <td>0.333333</td>\n",
       "      <td>0.000000</td>\n",
       "      <td>NaN</td>\n",
       "    </tr>\n",
       "    <tr>\n",
       "      <th>LogReg_pred</th>\n",
       "      <td>0.018277</td>\n",
       "      <td>0.139375</td>\n",
       "      <td>0.242395</td>\n",
       "      <td>0.338769</td>\n",
       "      <td>0.442197</td>\n",
       "      <td>0.540451</td>\n",
       "      <td>0.614524</td>\n",
       "      <td>NaN</td>\n",
       "    </tr>\n",
       "    <tr>\n",
       "      <th>XGBoost_true</th>\n",
       "      <td>0.019364</td>\n",
       "      <td>0.155099</td>\n",
       "      <td>0.235237</td>\n",
       "      <td>0.322176</td>\n",
       "      <td>0.386364</td>\n",
       "      <td>0.500000</td>\n",
       "      <td>0.000000</td>\n",
       "      <td>NaN</td>\n",
       "    </tr>\n",
       "    <tr>\n",
       "      <th>XGBoost_pred</th>\n",
       "      <td>0.017779</td>\n",
       "      <td>0.140378</td>\n",
       "      <td>0.236463</td>\n",
       "      <td>0.338438</td>\n",
       "      <td>0.433045</td>\n",
       "      <td>0.523111</td>\n",
       "      <td>0.654786</td>\n",
       "      <td>NaN</td>\n",
       "    </tr>\n",
       "    <tr>\n",
       "      <th>GBM_true</th>\n",
       "      <td>0.020090</td>\n",
       "      <td>0.151125</td>\n",
       "      <td>0.232604</td>\n",
       "      <td>0.272727</td>\n",
       "      <td>0.397849</td>\n",
       "      <td>0.533333</td>\n",
       "      <td>0.125000</td>\n",
       "      <td>0.000000</td>\n",
       "    </tr>\n",
       "    <tr>\n",
       "      <th>GBM_pred</th>\n",
       "      <td>0.017048</td>\n",
       "      <td>0.140289</td>\n",
       "      <td>0.239690</td>\n",
       "      <td>0.341964</td>\n",
       "      <td>0.440530</td>\n",
       "      <td>0.545914</td>\n",
       "      <td>0.643621</td>\n",
       "      <td>0.717087</td>\n",
       "    </tr>\n",
       "    <tr>\n",
       "      <th>RF_true</th>\n",
       "      <td>0.018840</td>\n",
       "      <td>0.166871</td>\n",
       "      <td>0.287535</td>\n",
       "      <td>0.575758</td>\n",
       "      <td>NaN</td>\n",
       "      <td>NaN</td>\n",
       "      <td>NaN</td>\n",
       "      <td>NaN</td>\n",
       "    </tr>\n",
       "    <tr>\n",
       "      <th>RF_pred</th>\n",
       "      <td>0.020278</td>\n",
       "      <td>0.139310</td>\n",
       "      <td>0.234981</td>\n",
       "      <td>0.315701</td>\n",
       "      <td>NaN</td>\n",
       "      <td>NaN</td>\n",
       "      <td>NaN</td>\n",
       "      <td>NaN</td>\n",
       "    </tr>\n",
       "  </tbody>\n",
       "</table>\n",
       "</div>"
      ],
      "text/plain": [
       "                     0         1         2         3         4         5  \\\n",
       "LogReg_true   0.020895  0.158344  0.221174  0.279570  0.303571  0.333333   \n",
       "LogReg_pred   0.018277  0.139375  0.242395  0.338769  0.442197  0.540451   \n",
       "XGBoost_true  0.019364  0.155099  0.235237  0.322176  0.386364  0.500000   \n",
       "XGBoost_pred  0.017779  0.140378  0.236463  0.338438  0.433045  0.523111   \n",
       "GBM_true      0.020090  0.151125  0.232604  0.272727  0.397849  0.533333   \n",
       "GBM_pred      0.017048  0.140289  0.239690  0.341964  0.440530  0.545914   \n",
       "RF_true       0.018840  0.166871  0.287535  0.575758       NaN       NaN   \n",
       "RF_pred       0.020278  0.139310  0.234981  0.315701       NaN       NaN   \n",
       "\n",
       "                     6         7  \n",
       "LogReg_true   0.000000       NaN  \n",
       "LogReg_pred   0.614524       NaN  \n",
       "XGBoost_true  0.000000       NaN  \n",
       "XGBoost_pred  0.654786       NaN  \n",
       "GBM_true      0.125000  0.000000  \n",
       "GBM_pred      0.643621  0.717087  \n",
       "RF_true            NaN       NaN  \n",
       "RF_pred            NaN       NaN  "
      ]
     },
     "execution_count": 483,
     "metadata": {},
     "output_type": "execute_result"
    }
   ],
   "source": [
    "calib_curves = calib_curves.append(pd.Series(fop, name=\"RF_true\"))\n",
    "calib_curves = calib_curves.append(pd.Series(mpv, name=\"RF_pred\"))\n",
    "calib_curves"
   ]
  },
  {
   "cell_type": "code",
   "execution_count": 484,
   "metadata": {},
   "outputs": [
    {
     "data": {
      "image/png": "[encoded data removed]",
      "text/plain": [
       "<Figure size 576x396 with 1 Axes>"
      ]
     },
     "metadata": {},
     "output_type": "display_data"
    }
   ],
   "source": [
    "plt.plot([0, 1], [0, 1], linestyle='--')\n",
    "plt.plot( calib_curves.loc[\"LogReg_pred\"], calib_curves.loc[\"LogReg_true\"], marker='.', label=\"Log_Reg\")\n",
    "plt.plot( calib_curves.loc[\"XGBoost_pred\"], calib_curves.loc[\"XGBoost_true\"], marker='.', label=\"XGBoost\")\n",
    "plt.plot( calib_curves.loc[\"GBM_pred\"], calib_curves.loc[\"GBM_true\"], marker='.', label=\"GBM\")\n",
    "plt.plot( calib_curves.loc[\"RF_pred\"], calib_curves.loc[\"RF_true\"], marker='.', label=\"RF\")\n",
    "plt.legend()\n",
    "plt.show()"
   ]
  },
  {
   "cell_type": "code",
   "execution_count": null,
   "metadata": {},
   "outputs": [],
   "source": []
  }
 ],
 "metadata": {
  "kernelspec": {
   "display_name": "Python 3",
   "language": "python",
   "name": "python3"
  },
  "language_info": {
   "codemirror_mode": {
    "name": "ipython",
    "version": 3
   },
   "file_extension": ".py",
   "mimetype": "text/x-python",
   "name": "python",
   "nbconvert_exporter": "python",
   "pygments_lexer": "ipython3",
   "version": "3.6.6"
  }
 },
 "nbformat": 4,
 "nbformat_minor": 2
}
