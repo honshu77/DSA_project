{
 "cells": [
  {
   "cell_type": "code",
   "execution_count": 493,
   "metadata": {},
   "outputs": [],
   "source": [
    "import pandas as pd\n",
    "import numpy as np\n",
    "from sklearn import linear_model\n",
    "from sklearn.preprocessing import Imputer\n",
    "from sklearn.metrics import roc_auc_score\n",
    "import matplotlib\n",
    "import matplotlib.pyplot as plt"
   ]
  },
  {
   "cell_type": "code",
   "execution_count": 494,
   "metadata": {},
   "outputs": [],
   "source": [
    "def logreg_auc(variables, target, basetable):\n",
    "    X = basetable[variables]\n",
    "    y = basetable[target].values.ravel()\n",
    "    logreg = linear_model.LogisticRegression()\n",
    "    logreg.fit(X, y)\n",
    "    predictions = logreg.predict_proba(X)[:,1]\n",
    "    auc = roc_auc_score(y, predictions)\n",
    "    return(auc)\n",
    "\n",
    "def next_best(current_variables,candidate_variables, target, basetable):\n",
    "    best_auc = -1\n",
    "    best_variable = None\n",
    "    for v in candidate_variables:\n",
    "        auc_v = logreg_auc(current_variables + [v], target, basetable)\n",
    "        if auc_v >= best_auc:\n",
    "            best_auc = auc_v\n",
    "            best_variable = v\n",
    "    return best_variable"
   ]
  },
  {
   "cell_type": "code",
   "execution_count": 495,
   "metadata": {},
   "outputs": [],
   "source": [
    "data = pd.read_csv(\"data/data.csv\")"
   ]
  },
  {
   "cell_type": "code",
   "execution_count": 496,
   "metadata": {},
   "outputs": [
    {
     "data": {
      "text/html": [
       "<div>\n",
       "<style scoped>\n",
       "    .dataframe tbody tr th:only-of-type {\n",
       "        vertical-align: middle;\n",
       "    }\n",
       "\n",
       "    .dataframe tbody tr th {\n",
       "        vertical-align: top;\n",
       "    }\n",
       "\n",
       "    .dataframe thead th {\n",
       "        text-align: right;\n",
       "    }\n",
       "</style>\n",
       "<table border=\"1\" class=\"dataframe\">\n",
       "  <thead>\n",
       "    <tr style=\"text-align: right;\">\n",
       "      <th></th>\n",
       "      <th>Unnamed: 0</th>\n",
       "      <th>YEAR</th>\n",
       "      <th>SERIAL</th>\n",
       "      <th>DUID</th>\n",
       "      <th>PID</th>\n",
       "      <th>MEPSID</th>\n",
       "      <th>PANEL</th>\n",
       "      <th>PSUANN</th>\n",
       "      <th>STRATANN</th>\n",
       "      <th>PSUPLD</th>\n",
       "      <th>...</th>\n",
       "      <th>HEARTCONEV</th>\n",
       "      <th>HYPERTENEV</th>\n",
       "      <th>STROKEAGE</th>\n",
       "      <th>STROKEV</th>\n",
       "      <th>HYPERTENAGE</th>\n",
       "      <th>CHEARTDIAGE</th>\n",
       "      <th>HEARTATTAGE</th>\n",
       "      <th>CHOLHIGHAGE</th>\n",
       "      <th>DIABETICAGE</th>\n",
       "      <th>HPTOTNIGHT</th>\n",
       "    </tr>\n",
       "  </thead>\n",
       "  <tbody>\n",
       "    <tr>\n",
       "      <th>0</th>\n",
       "      <td>1</td>\n",
       "      <td>2010</td>\n",
       "      <td>1</td>\n",
       "      <td>10007</td>\n",
       "      <td>101</td>\n",
       "      <td>1000710115</td>\n",
       "      <td>15</td>\n",
       "      <td>2</td>\n",
       "      <td>1024</td>\n",
       "      <td>2.0</td>\n",
       "      <td>...</td>\n",
       "      <td>1</td>\n",
       "      <td>2</td>\n",
       "      <td>0</td>\n",
       "      <td>1</td>\n",
       "      <td>24</td>\n",
       "      <td>96</td>\n",
       "      <td>96</td>\n",
       "      <td>27</td>\n",
       "      <td>96</td>\n",
       "      <td>0</td>\n",
       "    </tr>\n",
       "    <tr>\n",
       "      <th>1</th>\n",
       "      <td>2</td>\n",
       "      <td>2010</td>\n",
       "      <td>1</td>\n",
       "      <td>10007</td>\n",
       "      <td>102</td>\n",
       "      <td>1000710215</td>\n",
       "      <td>15</td>\n",
       "      <td>2</td>\n",
       "      <td>1024</td>\n",
       "      <td>2.0</td>\n",
       "      <td>...</td>\n",
       "      <td>1</td>\n",
       "      <td>1</td>\n",
       "      <td>0</td>\n",
       "      <td>1</td>\n",
       "      <td>96</td>\n",
       "      <td>96</td>\n",
       "      <td>96</td>\n",
       "      <td>96</td>\n",
       "      <td>96</td>\n",
       "      <td>0</td>\n",
       "    </tr>\n",
       "    <tr>\n",
       "      <th>2</th>\n",
       "      <td>3</td>\n",
       "      <td>2010</td>\n",
       "      <td>1</td>\n",
       "      <td>10007</td>\n",
       "      <td>103</td>\n",
       "      <td>1000710315</td>\n",
       "      <td>15</td>\n",
       "      <td>2</td>\n",
       "      <td>1024</td>\n",
       "      <td>2.0</td>\n",
       "      <td>...</td>\n",
       "      <td>0</td>\n",
       "      <td>0</td>\n",
       "      <td>0</td>\n",
       "      <td>0</td>\n",
       "      <td>96</td>\n",
       "      <td>96</td>\n",
       "      <td>96</td>\n",
       "      <td>96</td>\n",
       "      <td>96</td>\n",
       "      <td>0</td>\n",
       "    </tr>\n",
       "    <tr>\n",
       "      <th>3</th>\n",
       "      <td>4</td>\n",
       "      <td>2010</td>\n",
       "      <td>1</td>\n",
       "      <td>10007</td>\n",
       "      <td>104</td>\n",
       "      <td>1000710415</td>\n",
       "      <td>15</td>\n",
       "      <td>2</td>\n",
       "      <td>1024</td>\n",
       "      <td>2.0</td>\n",
       "      <td>...</td>\n",
       "      <td>0</td>\n",
       "      <td>0</td>\n",
       "      <td>0</td>\n",
       "      <td>0</td>\n",
       "      <td>96</td>\n",
       "      <td>96</td>\n",
       "      <td>96</td>\n",
       "      <td>96</td>\n",
       "      <td>96</td>\n",
       "      <td>0</td>\n",
       "    </tr>\n",
       "    <tr>\n",
       "      <th>4</th>\n",
       "      <td>5</td>\n",
       "      <td>2010</td>\n",
       "      <td>2</td>\n",
       "      <td>10008</td>\n",
       "      <td>101</td>\n",
       "      <td>1000810115</td>\n",
       "      <td>15</td>\n",
       "      <td>1</td>\n",
       "      <td>1021</td>\n",
       "      <td>1.0</td>\n",
       "      <td>...</td>\n",
       "      <td>1</td>\n",
       "      <td>1</td>\n",
       "      <td>0</td>\n",
       "      <td>1</td>\n",
       "      <td>96</td>\n",
       "      <td>96</td>\n",
       "      <td>96</td>\n",
       "      <td>96</td>\n",
       "      <td>96</td>\n",
       "      <td>0</td>\n",
       "    </tr>\n",
       "  </tbody>\n",
       "</table>\n",
       "<p>5 rows × 38 columns</p>\n",
       "</div>"
      ],
      "text/plain": [
       "   Unnamed: 0  YEAR  SERIAL   DUID  PID      MEPSID  PANEL  PSUANN  STRATANN  \\\n",
       "0           1  2010       1  10007  101  1000710115     15       2      1024   \n",
       "1           2  2010       1  10007  102  1000710215     15       2      1024   \n",
       "2           3  2010       1  10007  103  1000710315     15       2      1024   \n",
       "3           4  2010       1  10007  104  1000710415     15       2      1024   \n",
       "4           5  2010       2  10008  101  1000810115     15       1      1021   \n",
       "\n",
       "   PSUPLD     ...      HEARTCONEV  HYPERTENEV  STROKEAGE  STROKEV  \\\n",
       "0     2.0     ...               1           2          0        1   \n",
       "1     2.0     ...               1           1          0        1   \n",
       "2     2.0     ...               0           0          0        0   \n",
       "3     2.0     ...               0           0          0        0   \n",
       "4     1.0     ...               1           1          0        1   \n",
       "\n",
       "   HYPERTENAGE  CHEARTDIAGE  HEARTATTAGE  CHOLHIGHAGE  DIABETICAGE  HPTOTNIGHT  \n",
       "0           24           96           96           27           96           0  \n",
       "1           96           96           96           96           96           0  \n",
       "2           96           96           96           96           96           0  \n",
       "3           96           96           96           96           96           0  \n",
       "4           96           96           96           96           96           0  \n",
       "\n",
       "[5 rows x 38 columns]"
      ]
     },
     "execution_count": 496,
     "metadata": {},
     "output_type": "execute_result"
    }
   ],
   "source": [
    "data.head()"
   ]
  },
  {
   "cell_type": "code",
   "execution_count": 497,
   "metadata": {},
   "outputs": [],
   "source": [
    "cat_features = [data.columns[i] for i, j in enumerate(data.dtypes) if (j == \"object\" or j == \"bool\")]\n",
    "numeric_features = [data.columns[i] for i, j in enumerate(data.dtypes) if j in [\"int64\", \"float64\"]]"
   ]
  },
  {
   "cell_type": "code",
   "execution_count": 498,
   "metadata": {},
   "outputs": [
    {
     "data": {
      "text/plain": [
       "[]"
      ]
     },
     "execution_count": 498,
     "metadata": {},
     "output_type": "execute_result"
    }
   ],
   "source": [
    "cat_features"
   ]
  },
  {
   "cell_type": "code",
   "execution_count": 499,
   "metadata": {},
   "outputs": [],
   "source": [
    "#numeric_features"
   ]
  },
  {
   "cell_type": "code",
   "execution_count": 500,
   "metadata": {},
   "outputs": [
    {
     "data": {
      "text/plain": [
       "15102"
      ]
     },
     "execution_count": 500,
     "metadata": {},
     "output_type": "execute_result"
    }
   ],
   "source": [
    "sum(data['DIABWEIGHT'] != 0)\n",
    "#exclude as too many 0"
   ]
  },
  {
   "cell_type": "code",
   "execution_count": 501,
   "metadata": {},
   "outputs": [
    {
     "data": {
      "text/plain": [
       "array([10,  0, 50, 30, 99, 20, 40], dtype=int64)"
      ]
     },
     "execution_count": 501,
     "metadata": {},
     "output_type": "execute_result"
    }
   ],
   "source": [
    "data['MARSTAT'].unique()\n",
    "#combine 0 and 99"
   ]
  },
  {
   "cell_type": "code",
   "execution_count": 502,
   "metadata": {},
   "outputs": [
    {
     "data": {
      "text/plain": [
       "array([604, 401,   0, 603, 601, 109, 999, 301, 201, 302, 103, 101, 998,\n",
       "       203, 105, 500, 202, 107, 204, 996, 108, 106, 102, 104, 997, 402,\n",
       "       403, 602, 100, 200, 600, 300], dtype=int64)"
      ]
     },
     "execution_count": 502,
     "metadata": {},
     "output_type": "execute_result"
    }
   ],
   "source": [
    "data['EDUC'].unique()"
   ]
  },
  {
   "cell_type": "code",
   "execution_count": 503,
   "metadata": {},
   "outputs": [
    {
     "data": {
      "text/plain": [
       "array([14., 96., 17.,  8., 99., 12.,  9., 11.,  2.,  0., 98.,  4., 16.,\n",
       "       10., 13.,  6., 15.,  7.,  5.,  1.,  3., 97., nan])"
      ]
     },
     "execution_count": 503,
     "metadata": {},
     "output_type": "execute_result"
    }
   ],
   "source": [
    "data['EDUCYR'].unique()\n",
    "#review if correlation high enough to just use one of two"
   ]
  },
  {
   "cell_type": "code",
   "execution_count": 504,
   "metadata": {},
   "outputs": [],
   "source": [
    "candidate_variables = ['YEAR', 'PERWEIGHT', 'SAQWEIGHT', 'AGE', 'SEX', 'MARSTAT', 'BIRTHYR', 'EDUCYR', 'HIDEG', 'INCTOT', 'FTOTVAL', 'DIABETICEV']"
   ]
  },
  {
   "cell_type": "code",
   "execution_count": 505,
   "metadata": {},
   "outputs": [],
   "source": [
    "target_variable = \"HEARTATTEV\""
   ]
  },
  {
   "cell_type": "code",
   "execution_count": 506,
   "metadata": {},
   "outputs": [],
   "source": [
    "#binary classification of target variable\n",
    "data.drop(data[-data[target_variable].isin([1, 2])].index, inplace = True)\n",
    "data.loc[data[target_variable] == 1,target_variable] = 0\n",
    "data.loc[data[target_variable] == 2,target_variable] = 1\n",
    "data = data.reset_index(drop = True)"
   ]
  },
  {
   "cell_type": "code",
   "execution_count": 507,
   "metadata": {},
   "outputs": [],
   "source": [
    "train = data[candidate_variables]\n",
    "Label = data[target_variable]"
   ]
  },
  {
   "cell_type": "code",
   "execution_count": 508,
   "metadata": {},
   "outputs": [
    {
     "data": {
      "text/plain": [
       "0    0\n",
       "1    0\n",
       "2    0\n",
       "3    0\n",
       "4    0\n",
       "5    0\n",
       "6    1\n",
       "7    0\n",
       "8    0\n",
       "9    0\n",
       "Name: HEARTATTEV, dtype: int64"
      ]
     },
     "execution_count": 508,
     "metadata": {},
     "output_type": "execute_result"
    }
   ],
   "source": [
    "Label.head(10)"
   ]
  },
  {
   "cell_type": "code",
   "execution_count": 511,
   "metadata": {},
   "outputs": [
    {
     "data": {
      "text/plain": [
       "(179785, 12)"
      ]
     },
     "execution_count": 511,
     "metadata": {},
     "output_type": "execute_result"
    }
   ],
   "source": [
    "train.shape"
   ]
  },
  {
   "cell_type": "code",
   "execution_count": 510,
   "metadata": {},
   "outputs": [
    {
     "name": "stdout",
     "output_type": "stream",
     "text": [
      "7 EDUCYR\n",
      "26499\n",
      "8 HIDEG\n",
      "51560\n"
     ]
    }
   ],
   "source": [
    "# check variables that are missing\n",
    "for j in range(train.values.shape[1]):\n",
    "    vec = train.values[:,j]\n",
    "    mask = np.isfinite(vec)\n",
    "    if np.sum(~mask) > 0:\n",
    "        print(j, train.columns[j])\n",
    "        print(np.sum(~mask))"
   ]
  },
  {
   "cell_type": "code",
   "execution_count": 512,
   "metadata": {},
   "outputs": [],
   "source": [
    "imp = Imputer(missing_values='NaN', strategy='mean', axis=0)\n",
    "imp.fit(train)\n",
    "train_imp= imp.transform(train)\n",
    "train = pd.DataFrame(train_imp, columns = train.columns)"
   ]
  },
  {
   "cell_type": "code",
   "execution_count": 513,
   "metadata": {},
   "outputs": [],
   "source": [
    "basetable = train\n",
    "basetable[\"Label\"] = Label"
   ]
  },
  {
   "cell_type": "code",
   "execution_count": 515,
   "metadata": {},
   "outputs": [],
   "source": [
    "X = basetable[[\"AGE\"]]\n",
    "y = basetable[\"Label\"]#.values.ravel()\n",
    "logreg = linear_model.LogisticRegression()\n",
    "logreg.fit(X, y)\n",
    "predictions = logreg.predict_proba(X)[:,1]\n",
    "auc = roc_auc_score(y, predictions)"
   ]
  },
  {
   "cell_type": "code",
   "execution_count": 518,
   "metadata": {},
   "outputs": [
    {
     "name": "stdout",
     "output_type": "stream",
     "text": [
      "['BIRTHYR', 'DIABETICEV', 'YEAR', 'SEX', 'HIDEG']\n"
     ]
    }
   ],
   "source": [
    "max_number_variables = 5\n",
    "number_iterations = min(max_number_variables, len(candidate_variables))\n",
    "current_variables = []\n",
    "for i in range(0,number_iterations):\n",
    "    next_var = next_best(current_variables, candidate_variables, [\"Label\"], basetable)\n",
    "    current_variables = current_variables + [next_var]\n",
    "    candidate_variables.remove(next_var)\n",
    "print(current_variables)"
   ]
  },
  {
   "cell_type": "code",
   "execution_count": 521,
   "metadata": {},
   "outputs": [
    {
     "data": {
      "text/plain": [
       "LogisticRegression(C=1.0, class_weight=None, dual=False, fit_intercept=True,\n",
       "          intercept_scaling=1, max_iter=100, multi_class='ovr', n_jobs=1,\n",
       "          penalty='l2', random_state=None, solver='liblinear', tol=0.0001,\n",
       "          verbose=0, warm_start=False)"
      ]
     },
     "execution_count": 521,
     "metadata": {},
     "output_type": "execute_result"
    }
   ],
   "source": [
    "logreg.fit(basetable[current_variables],Label)"
   ]
  },
  {
   "cell_type": "code",
   "execution_count": 522,
   "metadata": {},
   "outputs": [],
   "source": [
    "predictions = logreg.predict_proba(basetable[current_variables])[:,1]\n",
    "auc = roc_auc_score(basetable[\"Label\"], predictions)"
   ]
  },
  {
   "cell_type": "code",
   "execution_count": 523,
   "metadata": {},
   "outputs": [
    {
     "name": "stdout",
     "output_type": "stream",
     "text": [
      "0.8429913306560539\n"
     ]
    }
   ],
   "source": [
    "print(auc)"
   ]
  },
  {
   "cell_type": "code",
   "execution_count": null,
   "metadata": {},
   "outputs": [],
   "source": []
  }
 ],
 "metadata": {
  "kernelspec": {
   "display_name": "Python 3",
   "language": "python",
   "name": "python3"
  },
  "language_info": {
   "codemirror_mode": {
    "name": "ipython",
    "version": 3
   },
   "file_extension": ".py",
   "mimetype": "text/x-python",
   "name": "python",
   "nbconvert_exporter": "python",
   "pygments_lexer": "ipython3",
   "version": "3.6.5"
  }
 },
 "nbformat": 4,
 "nbformat_minor": 2
}
